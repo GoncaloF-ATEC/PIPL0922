{
 "cells": [
  {
   "cell_type": "code",
   "id": "initial_id",
   "metadata": {
    "collapsed": true,
    "ExecuteTime": {
     "end_time": "2025-01-30T10:56:57.722210Z",
     "start_time": "2025-01-30T10:56:57.718400Z"
    }
   },
   "source": "import pandas as pd",
   "outputs": [],
   "execution_count": 2
  },
  {
   "metadata": {
    "ExecuteTime": {
     "end_time": "2025-01-30T10:57:27.373326Z",
     "start_time": "2025-01-30T10:57:27.368298Z"
    }
   },
   "cell_type": "code",
   "source": [
    "df = pd.DataFrame([[1,2,3,4,5,\"foo\"],\n",
    "                   [5,1,2,3,5,\"boo\"],\n",
    "                   [1,2,3,4,\"bar\",\"bar\"],\n",
    "                   ])\n"
   ],
   "id": "7d5199ec8e815f46",
   "outputs": [],
   "execution_count": 3
  },
  {
   "metadata": {
    "ExecuteTime": {
     "end_time": "2025-01-30T10:57:34.877470Z",
     "start_time": "2025-01-30T10:57:34.857188Z"
    }
   },
   "cell_type": "code",
   "source": "df",
   "id": "e379118b6973d7f0",
   "outputs": [
    {
     "data": {
      "text/plain": [
       "   0  1  2  3    4    5\n",
       "0  1  2  3  4    5  foo\n",
       "1  5  1  2  3    5  boo\n",
       "2  1  2  3  4  bar  bar"
      ],
      "text/html": [
       "<div>\n",
       "<style scoped>\n",
       "    .dataframe tbody tr th:only-of-type {\n",
       "        vertical-align: middle;\n",
       "    }\n",
       "\n",
       "    .dataframe tbody tr th {\n",
       "        vertical-align: top;\n",
       "    }\n",
       "\n",
       "    .dataframe thead th {\n",
       "        text-align: right;\n",
       "    }\n",
       "</style>\n",
       "<table border=\"1\" class=\"dataframe\">\n",
       "  <thead>\n",
       "    <tr style=\"text-align: right;\">\n",
       "      <th></th>\n",
       "      <th>0</th>\n",
       "      <th>1</th>\n",
       "      <th>2</th>\n",
       "      <th>3</th>\n",
       "      <th>4</th>\n",
       "      <th>5</th>\n",
       "    </tr>\n",
       "  </thead>\n",
       "  <tbody>\n",
       "    <tr>\n",
       "      <th>0</th>\n",
       "      <td>1</td>\n",
       "      <td>2</td>\n",
       "      <td>3</td>\n",
       "      <td>4</td>\n",
       "      <td>5</td>\n",
       "      <td>foo</td>\n",
       "    </tr>\n",
       "    <tr>\n",
       "      <th>1</th>\n",
       "      <td>5</td>\n",
       "      <td>1</td>\n",
       "      <td>2</td>\n",
       "      <td>3</td>\n",
       "      <td>5</td>\n",
       "      <td>boo</td>\n",
       "    </tr>\n",
       "    <tr>\n",
       "      <th>2</th>\n",
       "      <td>1</td>\n",
       "      <td>2</td>\n",
       "      <td>3</td>\n",
       "      <td>4</td>\n",
       "      <td>bar</td>\n",
       "      <td>bar</td>\n",
       "    </tr>\n",
       "  </tbody>\n",
       "</table>\n",
       "</div>"
      ]
     },
     "execution_count": 4,
     "metadata": {},
     "output_type": "execute_result"
    }
   ],
   "execution_count": 4
  },
  {
   "metadata": {
    "ExecuteTime": {
     "end_time": "2025-01-30T11:16:06.567971Z",
     "start_time": "2025-01-30T11:16:06.561242Z"
    }
   },
   "cell_type": "code",
   "source": [
    "df = pd.DataFrame([[\"Boo\",2,3,4,5,\"foo\"],\n",
    "                   [5,2,2],\n",
    "                   [1,2],\n",
    "                   [1,None,2],\n",
    "                   ])\n",
    "\n"
   ],
   "id": "c37ecc38d7919736",
   "outputs": [],
   "execution_count": 49
  },
  {
   "metadata": {
    "ExecuteTime": {
     "end_time": "2025-01-30T11:16:08.986335Z",
     "start_time": "2025-01-30T11:16:08.969049Z"
    }
   },
   "cell_type": "code",
   "source": "df",
   "id": "35b2890d40a8a257",
   "outputs": [
    {
     "data": {
      "text/plain": [
       "     0    1    2    3    4     5\n",
       "0  Boo  2.0  3.0  4.0  5.0   foo\n",
       "1    5  2.0  2.0  NaN  NaN  None\n",
       "2    1  2.0  NaN  NaN  NaN  None\n",
       "3    1  NaN  2.0  NaN  NaN  None"
      ],
      "text/html": [
       "<div>\n",
       "<style scoped>\n",
       "    .dataframe tbody tr th:only-of-type {\n",
       "        vertical-align: middle;\n",
       "    }\n",
       "\n",
       "    .dataframe tbody tr th {\n",
       "        vertical-align: top;\n",
       "    }\n",
       "\n",
       "    .dataframe thead th {\n",
       "        text-align: right;\n",
       "    }\n",
       "</style>\n",
       "<table border=\"1\" class=\"dataframe\">\n",
       "  <thead>\n",
       "    <tr style=\"text-align: right;\">\n",
       "      <th></th>\n",
       "      <th>0</th>\n",
       "      <th>1</th>\n",
       "      <th>2</th>\n",
       "      <th>3</th>\n",
       "      <th>4</th>\n",
       "      <th>5</th>\n",
       "    </tr>\n",
       "  </thead>\n",
       "  <tbody>\n",
       "    <tr>\n",
       "      <th>0</th>\n",
       "      <td>Boo</td>\n",
       "      <td>2.0</td>\n",
       "      <td>3.0</td>\n",
       "      <td>4.0</td>\n",
       "      <td>5.0</td>\n",
       "      <td>foo</td>\n",
       "    </tr>\n",
       "    <tr>\n",
       "      <th>1</th>\n",
       "      <td>5</td>\n",
       "      <td>2.0</td>\n",
       "      <td>2.0</td>\n",
       "      <td>NaN</td>\n",
       "      <td>NaN</td>\n",
       "      <td>None</td>\n",
       "    </tr>\n",
       "    <tr>\n",
       "      <th>2</th>\n",
       "      <td>1</td>\n",
       "      <td>2.0</td>\n",
       "      <td>NaN</td>\n",
       "      <td>NaN</td>\n",
       "      <td>NaN</td>\n",
       "      <td>None</td>\n",
       "    </tr>\n",
       "    <tr>\n",
       "      <th>3</th>\n",
       "      <td>1</td>\n",
       "      <td>NaN</td>\n",
       "      <td>2.0</td>\n",
       "      <td>NaN</td>\n",
       "      <td>NaN</td>\n",
       "      <td>None</td>\n",
       "    </tr>\n",
       "  </tbody>\n",
       "</table>\n",
       "</div>"
      ]
     },
     "execution_count": 50,
     "metadata": {},
     "output_type": "execute_result"
    }
   ],
   "execution_count": 50
  },
  {
   "metadata": {
    "ExecuteTime": {
     "end_time": "2025-01-30T11:16:16.273176Z",
     "start_time": "2025-01-30T11:16:16.267741Z"
    }
   },
   "cell_type": "code",
   "source": "df.columns = [\"Col1\", \"Col2\", \"Col3\", \"Col4\", \"Col5\", \"Col6\"]",
   "id": "8bb966b6778a29d4",
   "outputs": [],
   "execution_count": 51
  },
  {
   "metadata": {},
   "cell_type": "markdown",
   "source": "",
   "id": "bcf5809ec31dbd1e"
  },
  {
   "metadata": {
    "ExecuteTime": {
     "end_time": "2025-01-30T11:16:18.611585Z",
     "start_time": "2025-01-30T11:16:18.606192Z"
    }
   },
   "cell_type": "code",
   "source": "df.columns = [\"Col1\", \"Col2\", \"Col3\", \"Col4\", 3, 4]",
   "id": "8a2de95a188fb9ed",
   "outputs": [],
   "execution_count": 52
  },
  {
   "metadata": {
    "ExecuteTime": {
     "end_time": "2025-01-30T11:16:21.853177Z",
     "start_time": "2025-01-30T11:16:21.832138Z"
    }
   },
   "cell_type": "code",
   "source": "df",
   "id": "1349589b1df40009",
   "outputs": [
    {
     "data": {
      "text/plain": [
       "  Col1  Col2  Col3  Col4    3     4\n",
       "0  Boo   2.0   3.0   4.0  5.0   foo\n",
       "1    5   2.0   2.0   NaN  NaN  None\n",
       "2    1   2.0   NaN   NaN  NaN  None\n",
       "3    1   NaN   2.0   NaN  NaN  None"
      ],
      "text/html": [
       "<div>\n",
       "<style scoped>\n",
       "    .dataframe tbody tr th:only-of-type {\n",
       "        vertical-align: middle;\n",
       "    }\n",
       "\n",
       "    .dataframe tbody tr th {\n",
       "        vertical-align: top;\n",
       "    }\n",
       "\n",
       "    .dataframe thead th {\n",
       "        text-align: right;\n",
       "    }\n",
       "</style>\n",
       "<table border=\"1\" class=\"dataframe\">\n",
       "  <thead>\n",
       "    <tr style=\"text-align: right;\">\n",
       "      <th></th>\n",
       "      <th>Col1</th>\n",
       "      <th>Col2</th>\n",
       "      <th>Col3</th>\n",
       "      <th>Col4</th>\n",
       "      <th>3</th>\n",
       "      <th>4</th>\n",
       "    </tr>\n",
       "  </thead>\n",
       "  <tbody>\n",
       "    <tr>\n",
       "      <th>0</th>\n",
       "      <td>Boo</td>\n",
       "      <td>2.0</td>\n",
       "      <td>3.0</td>\n",
       "      <td>4.0</td>\n",
       "      <td>5.0</td>\n",
       "      <td>foo</td>\n",
       "    </tr>\n",
       "    <tr>\n",
       "      <th>1</th>\n",
       "      <td>5</td>\n",
       "      <td>2.0</td>\n",
       "      <td>2.0</td>\n",
       "      <td>NaN</td>\n",
       "      <td>NaN</td>\n",
       "      <td>None</td>\n",
       "    </tr>\n",
       "    <tr>\n",
       "      <th>2</th>\n",
       "      <td>1</td>\n",
       "      <td>2.0</td>\n",
       "      <td>NaN</td>\n",
       "      <td>NaN</td>\n",
       "      <td>NaN</td>\n",
       "      <td>None</td>\n",
       "    </tr>\n",
       "    <tr>\n",
       "      <th>3</th>\n",
       "      <td>1</td>\n",
       "      <td>NaN</td>\n",
       "      <td>2.0</td>\n",
       "      <td>NaN</td>\n",
       "      <td>NaN</td>\n",
       "      <td>None</td>\n",
       "    </tr>\n",
       "  </tbody>\n",
       "</table>\n",
       "</div>"
      ]
     },
     "execution_count": 53,
     "metadata": {},
     "output_type": "execute_result"
    }
   ],
   "execution_count": 53
  },
  {
   "metadata": {
    "ExecuteTime": {
     "end_time": "2025-01-30T11:16:58.111528Z",
     "start_time": "2025-01-30T11:16:58.105229Z"
    }
   },
   "cell_type": "code",
   "source": "df.index = [\"Linha 1\", \"Linha 2\", \"Linha 3\", \"Linha 4\"]",
   "id": "cfbb48bef6ca59bc",
   "outputs": [],
   "execution_count": 55
  },
  {
   "metadata": {
    "ExecuteTime": {
     "end_time": "2025-01-30T11:17:00.146114Z",
     "start_time": "2025-01-30T11:17:00.128025Z"
    }
   },
   "cell_type": "code",
   "source": "df",
   "id": "b545e113ad86930f",
   "outputs": [
    {
     "data": {
      "text/plain": [
       "        Col1  Col2  Col3  Col4    3     4\n",
       "Linha 1  Boo   2.0   3.0   4.0  5.0   foo\n",
       "Linha 2    5   2.0   2.0   NaN  NaN  None\n",
       "Linha 3    1   2.0   NaN   NaN  NaN  None\n",
       "Linha 4    1   NaN   2.0   NaN  NaN  None"
      ],
      "text/html": [
       "<div>\n",
       "<style scoped>\n",
       "    .dataframe tbody tr th:only-of-type {\n",
       "        vertical-align: middle;\n",
       "    }\n",
       "\n",
       "    .dataframe tbody tr th {\n",
       "        vertical-align: top;\n",
       "    }\n",
       "\n",
       "    .dataframe thead th {\n",
       "        text-align: right;\n",
       "    }\n",
       "</style>\n",
       "<table border=\"1\" class=\"dataframe\">\n",
       "  <thead>\n",
       "    <tr style=\"text-align: right;\">\n",
       "      <th></th>\n",
       "      <th>Col1</th>\n",
       "      <th>Col2</th>\n",
       "      <th>Col3</th>\n",
       "      <th>Col4</th>\n",
       "      <th>3</th>\n",
       "      <th>4</th>\n",
       "    </tr>\n",
       "  </thead>\n",
       "  <tbody>\n",
       "    <tr>\n",
       "      <th>Linha 1</th>\n",
       "      <td>Boo</td>\n",
       "      <td>2.0</td>\n",
       "      <td>3.0</td>\n",
       "      <td>4.0</td>\n",
       "      <td>5.0</td>\n",
       "      <td>foo</td>\n",
       "    </tr>\n",
       "    <tr>\n",
       "      <th>Linha 2</th>\n",
       "      <td>5</td>\n",
       "      <td>2.0</td>\n",
       "      <td>2.0</td>\n",
       "      <td>NaN</td>\n",
       "      <td>NaN</td>\n",
       "      <td>None</td>\n",
       "    </tr>\n",
       "    <tr>\n",
       "      <th>Linha 3</th>\n",
       "      <td>1</td>\n",
       "      <td>2.0</td>\n",
       "      <td>NaN</td>\n",
       "      <td>NaN</td>\n",
       "      <td>NaN</td>\n",
       "      <td>None</td>\n",
       "    </tr>\n",
       "    <tr>\n",
       "      <th>Linha 4</th>\n",
       "      <td>1</td>\n",
       "      <td>NaN</td>\n",
       "      <td>2.0</td>\n",
       "      <td>NaN</td>\n",
       "      <td>NaN</td>\n",
       "      <td>None</td>\n",
       "    </tr>\n",
       "  </tbody>\n",
       "</table>\n",
       "</div>"
      ]
     },
     "execution_count": 56,
     "metadata": {},
     "output_type": "execute_result"
    }
   ],
   "execution_count": 56
  },
  {
   "metadata": {
    "ExecuteTime": {
     "end_time": "2025-01-30T11:17:03.169248Z",
     "start_time": "2025-01-30T11:17:03.160197Z"
    }
   },
   "cell_type": "code",
   "source": "df.dtypes\n",
   "id": "46a04c16d73506a8",
   "outputs": [
    {
     "data": {
      "text/plain": [
       "Col1     object\n",
       "Col2    float64\n",
       "Col3    float64\n",
       "Col4    float64\n",
       "3       float64\n",
       "4        object\n",
       "dtype: object"
      ]
     },
     "execution_count": 57,
     "metadata": {},
     "output_type": "execute_result"
    }
   ],
   "execution_count": 57
  },
  {
   "metadata": {
    "ExecuteTime": {
     "end_time": "2025-01-30T11:17:08.026978Z",
     "start_time": "2025-01-30T11:17:07.995016Z"
    }
   },
   "cell_type": "code",
   "source": "df.describe()",
   "id": "c0dd5eacc7a06f4a",
   "outputs": [
    {
     "data": {
      "text/plain": [
       "       Col2      Col3  Col4    3\n",
       "count   3.0  3.000000   1.0  1.0\n",
       "mean    2.0  2.333333   4.0  5.0\n",
       "std     0.0  0.577350   NaN  NaN\n",
       "min     2.0  2.000000   4.0  5.0\n",
       "25%     2.0  2.000000   4.0  5.0\n",
       "50%     2.0  2.000000   4.0  5.0\n",
       "75%     2.0  2.500000   4.0  5.0\n",
       "max     2.0  3.000000   4.0  5.0"
      ],
      "text/html": [
       "<div>\n",
       "<style scoped>\n",
       "    .dataframe tbody tr th:only-of-type {\n",
       "        vertical-align: middle;\n",
       "    }\n",
       "\n",
       "    .dataframe tbody tr th {\n",
       "        vertical-align: top;\n",
       "    }\n",
       "\n",
       "    .dataframe thead th {\n",
       "        text-align: right;\n",
       "    }\n",
       "</style>\n",
       "<table border=\"1\" class=\"dataframe\">\n",
       "  <thead>\n",
       "    <tr style=\"text-align: right;\">\n",
       "      <th></th>\n",
       "      <th>Col2</th>\n",
       "      <th>Col3</th>\n",
       "      <th>Col4</th>\n",
       "      <th>3</th>\n",
       "    </tr>\n",
       "  </thead>\n",
       "  <tbody>\n",
       "    <tr>\n",
       "      <th>count</th>\n",
       "      <td>3.0</td>\n",
       "      <td>3.000000</td>\n",
       "      <td>1.0</td>\n",
       "      <td>1.0</td>\n",
       "    </tr>\n",
       "    <tr>\n",
       "      <th>mean</th>\n",
       "      <td>2.0</td>\n",
       "      <td>2.333333</td>\n",
       "      <td>4.0</td>\n",
       "      <td>5.0</td>\n",
       "    </tr>\n",
       "    <tr>\n",
       "      <th>std</th>\n",
       "      <td>0.0</td>\n",
       "      <td>0.577350</td>\n",
       "      <td>NaN</td>\n",
       "      <td>NaN</td>\n",
       "    </tr>\n",
       "    <tr>\n",
       "      <th>min</th>\n",
       "      <td>2.0</td>\n",
       "      <td>2.000000</td>\n",
       "      <td>4.0</td>\n",
       "      <td>5.0</td>\n",
       "    </tr>\n",
       "    <tr>\n",
       "      <th>25%</th>\n",
       "      <td>2.0</td>\n",
       "      <td>2.000000</td>\n",
       "      <td>4.0</td>\n",
       "      <td>5.0</td>\n",
       "    </tr>\n",
       "    <tr>\n",
       "      <th>50%</th>\n",
       "      <td>2.0</td>\n",
       "      <td>2.000000</td>\n",
       "      <td>4.0</td>\n",
       "      <td>5.0</td>\n",
       "    </tr>\n",
       "    <tr>\n",
       "      <th>75%</th>\n",
       "      <td>2.0</td>\n",
       "      <td>2.500000</td>\n",
       "      <td>4.0</td>\n",
       "      <td>5.0</td>\n",
       "    </tr>\n",
       "    <tr>\n",
       "      <th>max</th>\n",
       "      <td>2.0</td>\n",
       "      <td>3.000000</td>\n",
       "      <td>4.0</td>\n",
       "      <td>5.0</td>\n",
       "    </tr>\n",
       "  </tbody>\n",
       "</table>\n",
       "</div>"
      ]
     },
     "execution_count": 58,
     "metadata": {},
     "output_type": "execute_result"
    }
   ],
   "execution_count": 58
  },
  {
   "metadata": {
    "ExecuteTime": {
     "end_time": "2025-01-30T11:17:44.489723Z",
     "start_time": "2025-01-30T11:17:44.483695Z"
    }
   },
   "cell_type": "code",
   "source": "df[\"Col2\"].mean(skipna=True)",
   "id": "62cf7797d0e489c2",
   "outputs": [
    {
     "data": {
      "text/plain": [
       "nan"
      ]
     },
     "execution_count": 61,
     "metadata": {},
     "output_type": "execute_result"
    }
   ],
   "execution_count": 61
  },
  {
   "metadata": {
    "ExecuteTime": {
     "end_time": "2025-01-30T11:21:47.779167Z",
     "start_time": "2025-01-30T11:21:47.767985Z"
    }
   },
   "cell_type": "code",
   "source": "df.mean(numeric_only=True)",
   "id": "62f020e254951f96",
   "outputs": [
    {
     "data": {
      "text/plain": [
       "Col2    2.000000\n",
       "Col3    2.333333\n",
       "Col4    4.000000\n",
       "3       5.000000\n",
       "dtype: float64"
      ]
     },
     "execution_count": 66,
     "metadata": {},
     "output_type": "execute_result"
    }
   ],
   "execution_count": 66
  },
  {
   "metadata": {
    "ExecuteTime": {
     "end_time": "2025-01-30T11:22:10.320060Z",
     "start_time": "2025-01-30T11:22:10.302585Z"
    }
   },
   "cell_type": "code",
   "source": [
    "dict = {\"Nome\":[\"Joao\", \"Maria\", \"Rita\"], \"notas\":[20,10,14]}\n",
    "pd.DataFrame(dict)"
   ],
   "id": "22275084efd53395",
   "outputs": [
    {
     "data": {
      "text/plain": [
       "    Nome  notas\n",
       "0   Joao     20\n",
       "1  Maria     10\n",
       "2   Rita     14"
      ],
      "text/html": [
       "<div>\n",
       "<style scoped>\n",
       "    .dataframe tbody tr th:only-of-type {\n",
       "        vertical-align: middle;\n",
       "    }\n",
       "\n",
       "    .dataframe tbody tr th {\n",
       "        vertical-align: top;\n",
       "    }\n",
       "\n",
       "    .dataframe thead th {\n",
       "        text-align: right;\n",
       "    }\n",
       "</style>\n",
       "<table border=\"1\" class=\"dataframe\">\n",
       "  <thead>\n",
       "    <tr style=\"text-align: right;\">\n",
       "      <th></th>\n",
       "      <th>Nome</th>\n",
       "      <th>notas</th>\n",
       "    </tr>\n",
       "  </thead>\n",
       "  <tbody>\n",
       "    <tr>\n",
       "      <th>0</th>\n",
       "      <td>Joao</td>\n",
       "      <td>20</td>\n",
       "    </tr>\n",
       "    <tr>\n",
       "      <th>1</th>\n",
       "      <td>Maria</td>\n",
       "      <td>10</td>\n",
       "    </tr>\n",
       "    <tr>\n",
       "      <th>2</th>\n",
       "      <td>Rita</td>\n",
       "      <td>14</td>\n",
       "    </tr>\n",
       "  </tbody>\n",
       "</table>\n",
       "</div>"
      ]
     },
     "execution_count": 67,
     "metadata": {},
     "output_type": "execute_result"
    }
   ],
   "execution_count": 67
  },
  {
   "metadata": {
    "ExecuteTime": {
     "end_time": "2025-01-30T11:22:59.313862Z",
     "start_time": "2025-01-30T11:22:59.304865Z"
    }
   },
   "cell_type": "code",
   "source": "df.shape",
   "id": "d8c6f010abd82b3e",
   "outputs": [
    {
     "data": {
      "text/plain": [
       "(4, 6)"
      ]
     },
     "execution_count": 68,
     "metadata": {},
     "output_type": "execute_result"
    }
   ],
   "execution_count": 68
  },
  {
   "metadata": {
    "ExecuteTime": {
     "end_time": "2025-01-30T11:41:48.837402Z",
     "start_time": "2025-01-30T11:41:48.829978Z"
    }
   },
   "cell_type": "code",
   "source": [
    "dict = {\"Nome\":[\"Joao\", \"Maria\", \"Paula\"], \"nota\":[20,10,14]}\n",
    "df = pd.DataFrame(dict, index=[\"al1\", \"al2\", \"al3\"])\n",
    "\n",
    "nova_nota = {\"Nome\":[\"Marco\", \"Luis\"], \"Turma\":[20,20]}\n",
    "tempDF = pd.DataFrame(nova_nota, index=['al4', 'al5'])"
   ],
   "id": "9467888ff0df4f13",
   "outputs": [],
   "execution_count": 119
  },
  {
   "metadata": {
    "ExecuteTime": {
     "end_time": "2025-01-30T11:33:59.567824Z",
     "start_time": "2025-01-30T11:33:59.554415Z"
    }
   },
   "cell_type": "code",
   "source": "df",
   "id": "cd45b52eec5a5d3c",
   "outputs": [
    {
     "data": {
      "text/plain": [
       "      Nome  nota\n",
       "al1   Joao    20\n",
       "al2  Maria    10\n",
       "al3  Paula    14"
      ],
      "text/html": [
       "<div>\n",
       "<style scoped>\n",
       "    .dataframe tbody tr th:only-of-type {\n",
       "        vertical-align: middle;\n",
       "    }\n",
       "\n",
       "    .dataframe tbody tr th {\n",
       "        vertical-align: top;\n",
       "    }\n",
       "\n",
       "    .dataframe thead th {\n",
       "        text-align: right;\n",
       "    }\n",
       "</style>\n",
       "<table border=\"1\" class=\"dataframe\">\n",
       "  <thead>\n",
       "    <tr style=\"text-align: right;\">\n",
       "      <th></th>\n",
       "      <th>Nome</th>\n",
       "      <th>nota</th>\n",
       "    </tr>\n",
       "  </thead>\n",
       "  <tbody>\n",
       "    <tr>\n",
       "      <th>al1</th>\n",
       "      <td>Joao</td>\n",
       "      <td>20</td>\n",
       "    </tr>\n",
       "    <tr>\n",
       "      <th>al2</th>\n",
       "      <td>Maria</td>\n",
       "      <td>10</td>\n",
       "    </tr>\n",
       "    <tr>\n",
       "      <th>al3</th>\n",
       "      <td>Paula</td>\n",
       "      <td>14</td>\n",
       "    </tr>\n",
       "  </tbody>\n",
       "</table>\n",
       "</div>"
      ]
     },
     "execution_count": 102,
     "metadata": {},
     "output_type": "execute_result"
    }
   ],
   "execution_count": 102
  },
  {
   "metadata": {
    "ExecuteTime": {
     "end_time": "2025-01-30T11:33:56.882908Z",
     "start_time": "2025-01-30T11:33:56.874783Z"
    }
   },
   "cell_type": "code",
   "source": "tempDF",
   "id": "3580ec848110c09e",
   "outputs": [
    {
     "data": {
      "text/plain": [
       "      Nome  nota\n",
       "al4  Marco    20\n",
       "al5   Luis    20"
      ],
      "text/html": [
       "<div>\n",
       "<style scoped>\n",
       "    .dataframe tbody tr th:only-of-type {\n",
       "        vertical-align: middle;\n",
       "    }\n",
       "\n",
       "    .dataframe tbody tr th {\n",
       "        vertical-align: top;\n",
       "    }\n",
       "\n",
       "    .dataframe thead th {\n",
       "        text-align: right;\n",
       "    }\n",
       "</style>\n",
       "<table border=\"1\" class=\"dataframe\">\n",
       "  <thead>\n",
       "    <tr style=\"text-align: right;\">\n",
       "      <th></th>\n",
       "      <th>Nome</th>\n",
       "      <th>nota</th>\n",
       "    </tr>\n",
       "  </thead>\n",
       "  <tbody>\n",
       "    <tr>\n",
       "      <th>al4</th>\n",
       "      <td>Marco</td>\n",
       "      <td>20</td>\n",
       "    </tr>\n",
       "    <tr>\n",
       "      <th>al5</th>\n",
       "      <td>Luis</td>\n",
       "      <td>20</td>\n",
       "    </tr>\n",
       "  </tbody>\n",
       "</table>\n",
       "</div>"
      ]
     },
     "execution_count": 101,
     "metadata": {},
     "output_type": "execute_result"
    }
   ],
   "execution_count": 101
  },
  {
   "metadata": {
    "ExecuteTime": {
     "end_time": "2025-01-30T11:28:48.744566Z",
     "start_time": "2025-01-30T11:28:48.740266Z"
    }
   },
   "cell_type": "code",
   "source": "novoDF = pd.concat([df,tempDF], axis=0)",
   "id": "455af306dea1e7b",
   "outputs": [],
   "execution_count": 85
  },
  {
   "metadata": {
    "ExecuteTime": {
     "end_time": "2025-01-30T11:28:27.567457Z",
     "start_time": "2025-01-30T11:28:27.557521Z"
    }
   },
   "cell_type": "code",
   "source": "novoDF",
   "id": "8a268ee04c0183f6",
   "outputs": [
    {
     "data": {
      "text/plain": [
       "      Nome  nota\n",
       "al1   Joao    20\n",
       "al2  Maria    10\n",
       "al3  Paula    14\n",
       "al1  Marco    20\n",
       "al2   Luis    20"
      ],
      "text/html": [
       "<div>\n",
       "<style scoped>\n",
       "    .dataframe tbody tr th:only-of-type {\n",
       "        vertical-align: middle;\n",
       "    }\n",
       "\n",
       "    .dataframe tbody tr th {\n",
       "        vertical-align: top;\n",
       "    }\n",
       "\n",
       "    .dataframe thead th {\n",
       "        text-align: right;\n",
       "    }\n",
       "</style>\n",
       "<table border=\"1\" class=\"dataframe\">\n",
       "  <thead>\n",
       "    <tr style=\"text-align: right;\">\n",
       "      <th></th>\n",
       "      <th>Nome</th>\n",
       "      <th>nota</th>\n",
       "    </tr>\n",
       "  </thead>\n",
       "  <tbody>\n",
       "    <tr>\n",
       "      <th>al1</th>\n",
       "      <td>Joao</td>\n",
       "      <td>20</td>\n",
       "    </tr>\n",
       "    <tr>\n",
       "      <th>al2</th>\n",
       "      <td>Maria</td>\n",
       "      <td>10</td>\n",
       "    </tr>\n",
       "    <tr>\n",
       "      <th>al3</th>\n",
       "      <td>Paula</td>\n",
       "      <td>14</td>\n",
       "    </tr>\n",
       "    <tr>\n",
       "      <th>al1</th>\n",
       "      <td>Marco</td>\n",
       "      <td>20</td>\n",
       "    </tr>\n",
       "    <tr>\n",
       "      <th>al2</th>\n",
       "      <td>Luis</td>\n",
       "      <td>20</td>\n",
       "    </tr>\n",
       "  </tbody>\n",
       "</table>\n",
       "</div>"
      ]
     },
     "execution_count": 82,
     "metadata": {},
     "output_type": "execute_result"
    }
   ],
   "execution_count": 82
  },
  {
   "metadata": {
    "ExecuteTime": {
     "end_time": "2025-01-30T11:41:57.699305Z",
     "start_time": "2025-01-30T11:41:57.694075Z"
    }
   },
   "cell_type": "code",
   "source": "novoDF = pd.concat([df,tempDF], axis=1)",
   "id": "281ee872af146a44",
   "outputs": [],
   "execution_count": 121
  },
  {
   "metadata": {},
   "cell_type": "markdown",
   "source": [
    "```\n",
    "    dict = {\"Nome\":[\"Joao\", \"Maria\", \"Paula\"], \"nota\":[20,10,14]}\n",
    "    df = pd.DataFrame(dict, index=[\"al1\", \"al2\", \"al3\"])\n",
    "\n",
    "    nova_nota = {\"Nome\":[\"Marco\", \"Luis\"], \"nota\":[20,20]}\n",
    "    tempDF = pd.DataFrame(nova_nota, index=['al4', 'al5'])\n",
    "```"
   ],
   "id": "97dfe4179763ec5f"
  },
  {
   "metadata": {
    "ExecuteTime": {
     "end_time": "2025-01-30T11:42:17.734216Z",
     "start_time": "2025-01-30T11:42:17.716018Z"
    }
   },
   "cell_type": "code",
   "source": [
    "novoDF = pd.concat([df,tempDF], axis=0)\n",
    "novoDF"
   ],
   "id": "2172197ce824b1da",
   "outputs": [
    {
     "data": {
      "text/plain": [
       "      Nome  nota  Turma\n",
       "al1   Joao  20.0    NaN\n",
       "al2  Maria  10.0    NaN\n",
       "al3  Paula  14.0    NaN\n",
       "al4  Marco   NaN   20.0\n",
       "al5   Luis   NaN   20.0"
      ],
      "text/html": [
       "<div>\n",
       "<style scoped>\n",
       "    .dataframe tbody tr th:only-of-type {\n",
       "        vertical-align: middle;\n",
       "    }\n",
       "\n",
       "    .dataframe tbody tr th {\n",
       "        vertical-align: top;\n",
       "    }\n",
       "\n",
       "    .dataframe thead th {\n",
       "        text-align: right;\n",
       "    }\n",
       "</style>\n",
       "<table border=\"1\" class=\"dataframe\">\n",
       "  <thead>\n",
       "    <tr style=\"text-align: right;\">\n",
       "      <th></th>\n",
       "      <th>Nome</th>\n",
       "      <th>nota</th>\n",
       "      <th>Turma</th>\n",
       "    </tr>\n",
       "  </thead>\n",
       "  <tbody>\n",
       "    <tr>\n",
       "      <th>al1</th>\n",
       "      <td>Joao</td>\n",
       "      <td>20.0</td>\n",
       "      <td>NaN</td>\n",
       "    </tr>\n",
       "    <tr>\n",
       "      <th>al2</th>\n",
       "      <td>Maria</td>\n",
       "      <td>10.0</td>\n",
       "      <td>NaN</td>\n",
       "    </tr>\n",
       "    <tr>\n",
       "      <th>al3</th>\n",
       "      <td>Paula</td>\n",
       "      <td>14.0</td>\n",
       "      <td>NaN</td>\n",
       "    </tr>\n",
       "    <tr>\n",
       "      <th>al4</th>\n",
       "      <td>Marco</td>\n",
       "      <td>NaN</td>\n",
       "      <td>20.0</td>\n",
       "    </tr>\n",
       "    <tr>\n",
       "      <th>al5</th>\n",
       "      <td>Luis</td>\n",
       "      <td>NaN</td>\n",
       "      <td>20.0</td>\n",
       "    </tr>\n",
       "  </tbody>\n",
       "</table>\n",
       "</div>"
      ]
     },
     "execution_count": 123,
     "metadata": {},
     "output_type": "execute_result"
    }
   ],
   "execution_count": 123
  },
  {
   "metadata": {
    "ExecuteTime": {
     "end_time": "2025-01-30T11:31:04.443878Z",
     "start_time": "2025-01-30T11:31:04.431172Z"
    }
   },
   "cell_type": "code",
   "source": "novoDF.reset_index(drop=True)",
   "id": "cf71b0022879385e",
   "outputs": [
    {
     "data": {
      "text/plain": [
       "    Nome  nota\n",
       "0   Joao    20\n",
       "1  Maria    10\n",
       "2  Paula    14\n",
       "3  Marco    20\n",
       "4   Luis    20"
      ],
      "text/html": [
       "<div>\n",
       "<style scoped>\n",
       "    .dataframe tbody tr th:only-of-type {\n",
       "        vertical-align: middle;\n",
       "    }\n",
       "\n",
       "    .dataframe tbody tr th {\n",
       "        vertical-align: top;\n",
       "    }\n",
       "\n",
       "    .dataframe thead th {\n",
       "        text-align: right;\n",
       "    }\n",
       "</style>\n",
       "<table border=\"1\" class=\"dataframe\">\n",
       "  <thead>\n",
       "    <tr style=\"text-align: right;\">\n",
       "      <th></th>\n",
       "      <th>Nome</th>\n",
       "      <th>nota</th>\n",
       "    </tr>\n",
       "  </thead>\n",
       "  <tbody>\n",
       "    <tr>\n",
       "      <th>0</th>\n",
       "      <td>Joao</td>\n",
       "      <td>20</td>\n",
       "    </tr>\n",
       "    <tr>\n",
       "      <th>1</th>\n",
       "      <td>Maria</td>\n",
       "      <td>10</td>\n",
       "    </tr>\n",
       "    <tr>\n",
       "      <th>2</th>\n",
       "      <td>Paula</td>\n",
       "      <td>14</td>\n",
       "    </tr>\n",
       "    <tr>\n",
       "      <th>3</th>\n",
       "      <td>Marco</td>\n",
       "      <td>20</td>\n",
       "    </tr>\n",
       "    <tr>\n",
       "      <th>4</th>\n",
       "      <td>Luis</td>\n",
       "      <td>20</td>\n",
       "    </tr>\n",
       "  </tbody>\n",
       "</table>\n",
       "</div>"
      ]
     },
     "execution_count": 93,
     "metadata": {},
     "output_type": "execute_result"
    }
   ],
   "execution_count": 93
  },
  {
   "metadata": {
    "ExecuteTime": {
     "end_time": "2025-01-30T11:44:01.253061Z",
     "start_time": "2025-01-30T11:44:01.245122Z"
    }
   },
   "cell_type": "code",
   "source": "novoDF.isna().sum().sum()",
   "id": "5cb65f9bc56b1a90",
   "outputs": [
    {
     "data": {
      "text/plain": [
       "5"
      ]
     },
     "execution_count": 126,
     "metadata": {},
     "output_type": "execute_result"
    }
   ],
   "execution_count": 126
  },
  {
   "metadata": {
    "ExecuteTime": {
     "end_time": "2025-01-30T11:44:56.090876Z",
     "start_time": "2025-01-30T11:44:56.084237Z"
    }
   },
   "cell_type": "code",
   "source": "novoDF[\"nota\"].isna().sum()",
   "id": "3d4325b18f8818bc",
   "outputs": [
    {
     "data": {
      "text/plain": [
       "2"
      ]
     },
     "execution_count": 130,
     "metadata": {},
     "output_type": "execute_result"
    }
   ],
   "execution_count": 130
  },
  {
   "metadata": {
    "ExecuteTime": {
     "end_time": "2025-01-30T11:47:17.886547Z",
     "start_time": "2025-01-30T11:47:17.882356Z"
    }
   },
   "cell_type": "code",
   "source": "novoDF[\"nota\"].fillna(0, inplace=True)",
   "id": "43f41e15f912b00c",
   "outputs": [],
   "execution_count": 134
  },
  {
   "metadata": {
    "ExecuteTime": {
     "end_time": "2025-01-30T11:51:08.116589Z",
     "start_time": "2025-01-30T11:51:08.101754Z"
    }
   },
   "cell_type": "code",
   "source": "novoDF.sort_values(\"nota\", ascending=False)",
   "id": "11bf03b2c03647f9",
   "outputs": [
    {
     "data": {
      "text/plain": [
       "      Nome  nota  Turma\n",
       "al1   Joao  20.0    NaN\n",
       "al3  Paula  14.0    NaN\n",
       "al2  Maria  10.0    NaN\n",
       "al4  Marco   0.0   20.0\n",
       "al5   Luis   0.0   20.0"
      ],
      "text/html": [
       "<div>\n",
       "<style scoped>\n",
       "    .dataframe tbody tr th:only-of-type {\n",
       "        vertical-align: middle;\n",
       "    }\n",
       "\n",
       "    .dataframe tbody tr th {\n",
       "        vertical-align: top;\n",
       "    }\n",
       "\n",
       "    .dataframe thead th {\n",
       "        text-align: right;\n",
       "    }\n",
       "</style>\n",
       "<table border=\"1\" class=\"dataframe\">\n",
       "  <thead>\n",
       "    <tr style=\"text-align: right;\">\n",
       "      <th></th>\n",
       "      <th>Nome</th>\n",
       "      <th>nota</th>\n",
       "      <th>Turma</th>\n",
       "    </tr>\n",
       "  </thead>\n",
       "  <tbody>\n",
       "    <tr>\n",
       "      <th>al1</th>\n",
       "      <td>Joao</td>\n",
       "      <td>20.0</td>\n",
       "      <td>NaN</td>\n",
       "    </tr>\n",
       "    <tr>\n",
       "      <th>al3</th>\n",
       "      <td>Paula</td>\n",
       "      <td>14.0</td>\n",
       "      <td>NaN</td>\n",
       "    </tr>\n",
       "    <tr>\n",
       "      <th>al2</th>\n",
       "      <td>Maria</td>\n",
       "      <td>10.0</td>\n",
       "      <td>NaN</td>\n",
       "    </tr>\n",
       "    <tr>\n",
       "      <th>al4</th>\n",
       "      <td>Marco</td>\n",
       "      <td>0.0</td>\n",
       "      <td>20.0</td>\n",
       "    </tr>\n",
       "    <tr>\n",
       "      <th>al5</th>\n",
       "      <td>Luis</td>\n",
       "      <td>0.0</td>\n",
       "      <td>20.0</td>\n",
       "    </tr>\n",
       "  </tbody>\n",
       "</table>\n",
       "</div>"
      ]
     },
     "execution_count": 139,
     "metadata": {},
     "output_type": "execute_result"
    }
   ],
   "execution_count": 139
  },
  {
   "metadata": {
    "ExecuteTime": {
     "end_time": "2025-01-30T11:52:09.436910Z",
     "start_time": "2025-01-30T11:52:09.421828Z"
    }
   },
   "cell_type": "code",
   "source": "novoDF.query(\"nota >= 13\")",
   "id": "65d94ed003a2a014",
   "outputs": [
    {
     "data": {
      "text/plain": [
       "      Nome  nota  Turma\n",
       "al1   Joao  20.0    NaN\n",
       "al3  Paula  14.0    NaN"
      ],
      "text/html": [
       "<div>\n",
       "<style scoped>\n",
       "    .dataframe tbody tr th:only-of-type {\n",
       "        vertical-align: middle;\n",
       "    }\n",
       "\n",
       "    .dataframe tbody tr th {\n",
       "        vertical-align: top;\n",
       "    }\n",
       "\n",
       "    .dataframe thead th {\n",
       "        text-align: right;\n",
       "    }\n",
       "</style>\n",
       "<table border=\"1\" class=\"dataframe\">\n",
       "  <thead>\n",
       "    <tr style=\"text-align: right;\">\n",
       "      <th></th>\n",
       "      <th>Nome</th>\n",
       "      <th>nota</th>\n",
       "      <th>Turma</th>\n",
       "    </tr>\n",
       "  </thead>\n",
       "  <tbody>\n",
       "    <tr>\n",
       "      <th>al1</th>\n",
       "      <td>Joao</td>\n",
       "      <td>20.0</td>\n",
       "      <td>NaN</td>\n",
       "    </tr>\n",
       "    <tr>\n",
       "      <th>al3</th>\n",
       "      <td>Paula</td>\n",
       "      <td>14.0</td>\n",
       "      <td>NaN</td>\n",
       "    </tr>\n",
       "  </tbody>\n",
       "</table>\n",
       "</div>"
      ]
     },
     "execution_count": 141,
     "metadata": {},
     "output_type": "execute_result"
    }
   ],
   "execution_count": 141
  }
 ],
 "metadata": {
  "kernelspec": {
   "display_name": "Python 3",
   "language": "python",
   "name": "python3"
  },
  "language_info": {
   "codemirror_mode": {
    "name": "ipython",
    "version": 2
   },
   "file_extension": ".py",
   "mimetype": "text/x-python",
   "name": "python",
   "nbconvert_exporter": "python",
   "pygments_lexer": "ipython2",
   "version": "2.7.6"
  }
 },
 "nbformat": 4,
 "nbformat_minor": 5
}
