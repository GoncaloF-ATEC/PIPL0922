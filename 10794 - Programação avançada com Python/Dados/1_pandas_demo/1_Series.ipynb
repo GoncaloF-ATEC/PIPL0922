{
 "cells": [
  {
   "cell_type": "code",
   "id": "initial_id",
   "metadata": {
    "collapsed": true,
    "ExecuteTime": {
     "end_time": "2025-01-30T09:05:11.551719Z",
     "start_time": "2025-01-30T09:04:46.568076Z"
    }
   },
   "source": "import pandas as pd",
   "outputs": [],
   "execution_count": 5
  },
  {
   "metadata": {
    "ExecuteTime": {
     "end_time": "2025-01-30T09:05:27.178049Z",
     "start_time": "2025-01-30T09:05:27.172406Z"
    }
   },
   "cell_type": "code",
   "source": "pd.__version__",
   "id": "97334aad1bf32e4c",
   "outputs": [
    {
     "data": {
      "text/plain": [
       "'2.0.3'"
      ]
     },
     "execution_count": 7,
     "metadata": {},
     "output_type": "execute_result"
    }
   ],
   "execution_count": 7
  },
  {
   "metadata": {
    "ExecuteTime": {
     "end_time": "2025-01-30T09:09:00.649230Z",
     "start_time": "2025-01-30T09:09:00.644681Z"
    }
   },
   "cell_type": "code",
   "source": "s = pd.Series([10,12,15,14,15])",
   "id": "e02b3a3bb85f0321",
   "outputs": [],
   "execution_count": 16
  },
  {
   "metadata": {
    "ExecuteTime": {
     "end_time": "2025-01-30T09:09:03.276530Z",
     "start_time": "2025-01-30T09:09:03.270509Z"
    }
   },
   "cell_type": "code",
   "source": "s",
   "id": "95cf61987cdc8a54",
   "outputs": [
    {
     "data": {
      "text/plain": [
       "0    10\n",
       "1    12\n",
       "2    15\n",
       "3    14\n",
       "4    15\n",
       "dtype: int64"
      ]
     },
     "execution_count": 17,
     "metadata": {},
     "output_type": "execute_result"
    }
   ],
   "execution_count": 17
  },
  {
   "metadata": {
    "ExecuteTime": {
     "end_time": "2025-01-30T09:09:21.316916Z",
     "start_time": "2025-01-30T09:09:21.308365Z"
    }
   },
   "cell_type": "code",
   "source": [
    "s.name = \"notas\"\n",
    "s"
   ],
   "id": "76b8d4f0f520226e",
   "outputs": [
    {
     "data": {
      "text/plain": [
       "0    10\n",
       "1    12\n",
       "2    15\n",
       "3    14\n",
       "4    15\n",
       "Name: notas, dtype: int64"
      ]
     },
     "execution_count": 20,
     "metadata": {},
     "output_type": "execute_result"
    }
   ],
   "execution_count": 20
  },
  {
   "metadata": {
    "ExecuteTime": {
     "end_time": "2025-01-30T09:13:28.218351Z",
     "start_time": "2025-01-30T09:13:28.214698Z"
    }
   },
   "cell_type": "code",
   "source": "s.index = [\"UFCD 1\",\"UFCD 2\",\"UFCD 3\",\"UFCD 4\",\"UFCD 5\"]",
   "id": "5c5d6470482aa994",
   "outputs": [],
   "execution_count": 25
  },
  {
   "metadata": {
    "ExecuteTime": {
     "end_time": "2025-01-30T09:13:38.250705Z",
     "start_time": "2025-01-30T09:13:38.244854Z"
    }
   },
   "cell_type": "code",
   "source": "s",
   "id": "8aea049577bb247e",
   "outputs": [
    {
     "data": {
      "text/plain": [
       "UFCD 1    10\n",
       "UFCD 2    12\n",
       "UFCD 3    15\n",
       "UFCD 4    14\n",
       "UFCD 5    15\n",
       "Name: notas, dtype: int64"
      ]
     },
     "execution_count": 26,
     "metadata": {},
     "output_type": "execute_result"
    }
   ],
   "execution_count": 26
  },
  {
   "metadata": {
    "ExecuteTime": {
     "end_time": "2025-01-30T09:13:54.119877Z",
     "start_time": "2025-01-30T09:13:54.108984Z"
    }
   },
   "cell_type": "code",
   "source": "s.describe()",
   "id": "64d1358cc6d6a628",
   "outputs": [
    {
     "data": {
      "text/plain": [
       "count     5.000000\n",
       "mean     13.200000\n",
       "std       2.167948\n",
       "min      10.000000\n",
       "25%      12.000000\n",
       "50%      14.000000\n",
       "75%      15.000000\n",
       "max      15.000000\n",
       "Name: notas, dtype: float64"
      ]
     },
     "execution_count": 27,
     "metadata": {},
     "output_type": "execute_result"
    }
   ],
   "execution_count": 27
  },
  {
   "metadata": {
    "ExecuteTime": {
     "end_time": "2025-01-30T09:15:51.962415Z",
     "start_time": "2025-01-30T09:15:51.957729Z"
    }
   },
   "cell_type": "code",
   "source": "notas = pd.Series([10,12,15,14,15], name=\"notas\", index=[\"UFCD 1\",\"UFCD 2\",\"UFCD 3\",\"UFCD 4\",\"UFCD 5\"])",
   "id": "87d4bb27b7a9d6be",
   "outputs": [],
   "execution_count": 28
  },
  {
   "metadata": {
    "ExecuteTime": {
     "end_time": "2025-01-30T09:16:04.183328Z",
     "start_time": "2025-01-30T09:16:04.161461Z"
    }
   },
   "cell_type": "code",
   "source": "notas",
   "id": "3b9a084e44425d25",
   "outputs": [
    {
     "data": {
      "text/plain": [
       "UFCD 1    10\n",
       "UFCD 2    12\n",
       "UFCD 3    15\n",
       "UFCD 4    14\n",
       "UFCD 5    15\n",
       "Name: notas, dtype: int64"
      ]
     },
     "execution_count": 29,
     "metadata": {},
     "output_type": "execute_result"
    }
   ],
   "execution_count": 29
  },
  {
   "metadata": {
    "ExecuteTime": {
     "end_time": "2025-01-30T09:17:59.095872Z",
     "start_time": "2025-01-30T09:17:59.089731Z"
    }
   },
   "cell_type": "code",
   "source": "notas.index",
   "id": "b1d23dbcacfd6502",
   "outputs": [
    {
     "data": {
      "text/plain": [
       "Index(['UFCD 1', 'UFCD 2', 'UFCD 3', 'UFCD 4', 'UFCD 5'], dtype='object')"
      ]
     },
     "execution_count": 30,
     "metadata": {},
     "output_type": "execute_result"
    }
   ],
   "execution_count": 30
  },
  {
   "metadata": {
    "ExecuteTime": {
     "end_time": "2025-01-30T09:19:37.951380Z",
     "start_time": "2025-01-30T09:19:37.946375Z"
    }
   },
   "cell_type": "code",
   "source": "s2 = pd.Series([1, 2.5, 1.75, 3, 3, 4, 3, 123, 313, 9, 12, 131, 31], name=\"lista Val\", index=[\"key1\", \"key2\", \"key3\",\"key4\", \"key5\", \"key6\", \"key7\", \"key8\", \"key9\", \"key10\", \"key11\", \"key12\", \"key12\"])\n",
   "id": "1bd4ae73af678163",
   "outputs": [],
   "execution_count": 33
  },
  {
   "metadata": {
    "ExecuteTime": {
     "end_time": "2025-01-30T09:26:01.522995Z",
     "start_time": "2025-01-30T09:26:01.514528Z"
    }
   },
   "cell_type": "code",
   "source": "s2.head(7)",
   "id": "f4f03fd8cc6d6843",
   "outputs": [
    {
     "data": {
      "text/plain": [
       "key1    1.00\n",
       "key2    2.50\n",
       "key3    1.75\n",
       "key4    3.00\n",
       "key5    3.00\n",
       "key6    4.00\n",
       "key7    3.00\n",
       "Name: lista Val, dtype: float64"
      ]
     },
     "execution_count": 36,
     "metadata": {},
     "output_type": "execute_result"
    }
   ],
   "execution_count": 36
  },
  {
   "metadata": {
    "ExecuteTime": {
     "end_time": "2025-01-30T09:26:12.218855Z",
     "start_time": "2025-01-30T09:26:12.213107Z"
    }
   },
   "cell_type": "code",
   "source": "s2.head(3)",
   "id": "c48fa26da26fff62",
   "outputs": [
    {
     "data": {
      "text/plain": [
       "key1    1.00\n",
       "key2    2.50\n",
       "key3    1.75\n",
       "Name: lista Val, dtype: float64"
      ]
     },
     "execution_count": 37,
     "metadata": {},
     "output_type": "execute_result"
    }
   ],
   "execution_count": 37
  },
  {
   "metadata": {
    "ExecuteTime": {
     "end_time": "2025-01-30T09:26:53.160254Z",
     "start_time": "2025-01-30T09:26:53.154394Z"
    }
   },
   "cell_type": "code",
   "source": "s2.tail()",
   "id": "97a4332ce7e5914d",
   "outputs": [
    {
     "data": {
      "text/plain": [
       "key9     313.0\n",
       "key10      9.0\n",
       "key11     12.0\n",
       "key12    131.0\n",
       "key12     31.0\n",
       "Name: lista Val, dtype: float64"
      ]
     },
     "execution_count": 38,
     "metadata": {},
     "output_type": "execute_result"
    }
   ],
   "execution_count": 38
  },
  {
   "metadata": {
    "ExecuteTime": {
     "end_time": "2025-01-30T09:27:07.650403Z",
     "start_time": "2025-01-30T09:27:07.644305Z"
    }
   },
   "cell_type": "code",
   "source": "s2.tail(3)",
   "id": "6604d0ce44ca3026",
   "outputs": [
    {
     "data": {
      "text/plain": [
       "key11     12.0\n",
       "key12    131.0\n",
       "key12     31.0\n",
       "Name: lista Val, dtype: float64"
      ]
     },
     "execution_count": 39,
     "metadata": {},
     "output_type": "execute_result"
    }
   ],
   "execution_count": 39
  },
  {
   "metadata": {
    "ExecuteTime": {
     "end_time": "2025-01-30T09:29:31.130675Z",
     "start_time": "2025-01-30T09:29:31.124096Z"
    }
   },
   "cell_type": "code",
   "source": "s2[\"key12\"]",
   "id": "2a12ba217aacd33b",
   "outputs": [
    {
     "data": {
      "text/plain": [
       "key12    131.0\n",
       "key12     31.0\n",
       "Name: lista Val, dtype: float64"
      ]
     },
     "execution_count": 41,
     "metadata": {},
     "output_type": "execute_result"
    }
   ],
   "execution_count": 41
  },
  {
   "metadata": {
    "ExecuteTime": {
     "end_time": "2025-01-30T09:32:57.934326Z",
     "start_time": "2025-01-30T09:32:57.927081Z"
    }
   },
   "cell_type": "code",
   "source": "s2.sum()",
   "id": "e680aa35ad94fe61",
   "outputs": [
    {
     "data": {
      "text/plain": [
       "637.25"
      ]
     },
     "execution_count": 42,
     "metadata": {},
     "output_type": "execute_result"
    }
   ],
   "execution_count": 42
  },
  {
   "metadata": {
    "ExecuteTime": {
     "end_time": "2025-01-30T09:33:40.423671Z",
     "start_time": "2025-01-30T09:33:40.418892Z"
    }
   },
   "cell_type": "code",
   "source": "s2.mean()",
   "id": "839d658f52f20250",
   "outputs": [
    {
     "data": {
      "text/plain": [
       "49.01923076923077"
      ]
     },
     "execution_count": 43,
     "metadata": {},
     "output_type": "execute_result"
    }
   ],
   "execution_count": 43
  },
  {
   "metadata": {
    "ExecuteTime": {
     "end_time": "2025-01-30T09:33:52.178638Z",
     "start_time": "2025-01-30T09:33:52.172602Z"
    }
   },
   "cell_type": "code",
   "source": "s2.median()",
   "id": "1f1c309e374526ec",
   "outputs": [
    {
     "data": {
      "text/plain": [
       "4.0"
      ]
     },
     "execution_count": 44,
     "metadata": {},
     "output_type": "execute_result"
    }
   ],
   "execution_count": 44
  },
  {
   "metadata": {
    "ExecuteTime": {
     "end_time": "2025-01-30T09:34:29.775934Z",
     "start_time": "2025-01-30T09:34:29.768058Z"
    }
   },
   "cell_type": "code",
   "source": "s2.sample(5)",
   "id": "94e39493c0a19430",
   "outputs": [
    {
     "data": {
      "text/plain": [
       "key3       1.75\n",
       "key5       3.00\n",
       "key7       3.00\n",
       "key4       3.00\n",
       "key12    131.00\n",
       "Name: lista Val, dtype: float64"
      ]
     },
     "execution_count": 49,
     "metadata": {},
     "output_type": "execute_result"
    }
   ],
   "execution_count": 49
  },
  {
   "metadata": {
    "ExecuteTime": {
     "end_time": "2025-01-30T09:35:32.228832Z",
     "start_time": "2025-01-30T09:35:32.224363Z"
    }
   },
   "cell_type": "code",
   "source": "s2.count()",
   "id": "1762e467373a15a7",
   "outputs": [
    {
     "data": {
      "text/plain": [
       "13"
      ]
     },
     "execution_count": 54,
     "metadata": {},
     "output_type": "execute_result"
    }
   ],
   "execution_count": 54
  },
  {
   "metadata": {
    "ExecuteTime": {
     "end_time": "2025-01-30T09:35:33.790863Z",
     "start_time": "2025-01-30T09:35:33.786928Z"
    }
   },
   "cell_type": "code",
   "source": "len(s2)",
   "id": "7fe10d48e9987b98",
   "outputs": [
    {
     "data": {
      "text/plain": [
       "13"
      ]
     },
     "execution_count": 55,
     "metadata": {},
     "output_type": "execute_result"
    }
   ],
   "execution_count": 55
  },
  {
   "metadata": {
    "ExecuteTime": {
     "end_time": "2025-01-30T09:35:54.800600Z",
     "start_time": "2025-01-30T09:35:54.793331Z"
    }
   },
   "cell_type": "code",
   "source": "s2.__len__()",
   "id": "4b24742c49e7cb95",
   "outputs": [
    {
     "data": {
      "text/plain": [
       "13"
      ]
     },
     "execution_count": 56,
     "metadata": {},
     "output_type": "execute_result"
    }
   ],
   "execution_count": 56
  },
  {
   "metadata": {
    "ExecuteTime": {
     "end_time": "2025-01-30T09:40:03.302102Z",
     "start_time": "2025-01-30T09:40:03.295311Z"
    }
   },
   "cell_type": "code",
   "source": "s2[\"key12\"]",
   "id": "16d8b4caef32233",
   "outputs": [
    {
     "data": {
      "text/plain": [
       "key12    131.0\n",
       "key12     31.0\n",
       "Name: lista Val, dtype: float64"
      ]
     },
     "execution_count": 62,
     "metadata": {},
     "output_type": "execute_result"
    }
   ],
   "execution_count": 62
  },
  {
   "metadata": {
    "ExecuteTime": {
     "end_time": "2025-01-30T09:40:58.384756Z",
     "start_time": "2025-01-30T09:40:57.722991Z"
    }
   },
   "cell_type": "code",
   "source": "s2[\"key13\"]",
   "id": "b34aa94e28a35ef0",
   "outputs": [
    {
     "ename": "KeyError",
     "evalue": "'key13'",
     "output_type": "error",
     "traceback": [
      "\u001B[0;31m---------------------------------------------------------------------------\u001B[0m",
      "\u001B[0;31mKeyError\u001B[0m                                  Traceback (most recent call last)",
      "File \u001B[0;32m/opt/anaconda3/envs/Pandas/lib/python3.8/site-packages/pandas/core/indexes/base.py:3653\u001B[0m, in \u001B[0;36mIndex.get_loc\u001B[0;34m(self, key)\u001B[0m\n\u001B[1;32m   3652\u001B[0m \u001B[38;5;28;01mtry\u001B[39;00m:\n\u001B[0;32m-> 3653\u001B[0m     \u001B[38;5;28;01mreturn\u001B[39;00m \u001B[38;5;28;43mself\u001B[39;49m\u001B[38;5;241;43m.\u001B[39;49m\u001B[43m_engine\u001B[49m\u001B[38;5;241;43m.\u001B[39;49m\u001B[43mget_loc\u001B[49m\u001B[43m(\u001B[49m\u001B[43mcasted_key\u001B[49m\u001B[43m)\u001B[49m\n\u001B[1;32m   3654\u001B[0m \u001B[38;5;28;01mexcept\u001B[39;00m \u001B[38;5;167;01mKeyError\u001B[39;00m \u001B[38;5;28;01mas\u001B[39;00m err:\n",
      "File \u001B[0;32m/opt/anaconda3/envs/Pandas/lib/python3.8/site-packages/pandas/_libs/index.pyx:147\u001B[0m, in \u001B[0;36mpandas._libs.index.IndexEngine.get_loc\u001B[0;34m()\u001B[0m\n",
      "File \u001B[0;32m/opt/anaconda3/envs/Pandas/lib/python3.8/site-packages/pandas/_libs/index.pyx:171\u001B[0m, in \u001B[0;36mpandas._libs.index.IndexEngine.get_loc\u001B[0;34m()\u001B[0m\n",
      "File \u001B[0;32m/opt/anaconda3/envs/Pandas/lib/python3.8/site-packages/pandas/_libs/index.pyx:214\u001B[0m, in \u001B[0;36mpandas._libs.index.IndexEngine._get_loc_duplicates\u001B[0;34m()\u001B[0m\n",
      "File \u001B[0;32m/opt/anaconda3/envs/Pandas/lib/python3.8/site-packages/pandas/_libs/index.pyx:222\u001B[0m, in \u001B[0;36mpandas._libs.index.IndexEngine._maybe_get_bool_indexer\u001B[0;34m()\u001B[0m\n",
      "File \u001B[0;32m/opt/anaconda3/envs/Pandas/lib/python3.8/site-packages/pandas/_libs/index.pyx:114\u001B[0m, in \u001B[0;36mpandas._libs.index._unpack_bool_indexer\u001B[0;34m()\u001B[0m\n",
      "\u001B[0;31mKeyError\u001B[0m: 'key13'",
      "\nThe above exception was the direct cause of the following exception:\n",
      "\u001B[0;31mKeyError\u001B[0m                                  Traceback (most recent call last)",
      "Cell \u001B[0;32mIn[63], line 1\u001B[0m\n\u001B[0;32m----> 1\u001B[0m \u001B[43ms2\u001B[49m\u001B[43m[\u001B[49m\u001B[38;5;124;43m\"\u001B[39;49m\u001B[38;5;124;43mkey13\u001B[39;49m\u001B[38;5;124;43m\"\u001B[39;49m\u001B[43m]\u001B[49m\n",
      "File \u001B[0;32m/opt/anaconda3/envs/Pandas/lib/python3.8/site-packages/pandas/core/series.py:1007\u001B[0m, in \u001B[0;36mSeries.__getitem__\u001B[0;34m(self, key)\u001B[0m\n\u001B[1;32m   1004\u001B[0m     \u001B[38;5;28;01mreturn\u001B[39;00m \u001B[38;5;28mself\u001B[39m\u001B[38;5;241m.\u001B[39m_values[key]\n\u001B[1;32m   1006\u001B[0m \u001B[38;5;28;01melif\u001B[39;00m key_is_scalar:\n\u001B[0;32m-> 1007\u001B[0m     \u001B[38;5;28;01mreturn\u001B[39;00m \u001B[38;5;28;43mself\u001B[39;49m\u001B[38;5;241;43m.\u001B[39;49m\u001B[43m_get_value\u001B[49m\u001B[43m(\u001B[49m\u001B[43mkey\u001B[49m\u001B[43m)\u001B[49m\n\u001B[1;32m   1009\u001B[0m \u001B[38;5;28;01mif\u001B[39;00m is_hashable(key):\n\u001B[1;32m   1010\u001B[0m     \u001B[38;5;66;03m# Otherwise index.get_value will raise InvalidIndexError\u001B[39;00m\n\u001B[1;32m   1011\u001B[0m     \u001B[38;5;28;01mtry\u001B[39;00m:\n\u001B[1;32m   1012\u001B[0m         \u001B[38;5;66;03m# For labels that don't resolve as scalars like tuples and frozensets\u001B[39;00m\n",
      "File \u001B[0;32m/opt/anaconda3/envs/Pandas/lib/python3.8/site-packages/pandas/core/series.py:1116\u001B[0m, in \u001B[0;36mSeries._get_value\u001B[0;34m(self, label, takeable)\u001B[0m\n\u001B[1;32m   1113\u001B[0m     \u001B[38;5;28;01mreturn\u001B[39;00m \u001B[38;5;28mself\u001B[39m\u001B[38;5;241m.\u001B[39m_values[label]\n\u001B[1;32m   1115\u001B[0m \u001B[38;5;66;03m# Similar to Index.get_value, but we do not fall back to positional\u001B[39;00m\n\u001B[0;32m-> 1116\u001B[0m loc \u001B[38;5;241m=\u001B[39m \u001B[38;5;28;43mself\u001B[39;49m\u001B[38;5;241;43m.\u001B[39;49m\u001B[43mindex\u001B[49m\u001B[38;5;241;43m.\u001B[39;49m\u001B[43mget_loc\u001B[49m\u001B[43m(\u001B[49m\u001B[43mlabel\u001B[49m\u001B[43m)\u001B[49m\n\u001B[1;32m   1118\u001B[0m \u001B[38;5;28;01mif\u001B[39;00m is_integer(loc):\n\u001B[1;32m   1119\u001B[0m     \u001B[38;5;28;01mreturn\u001B[39;00m \u001B[38;5;28mself\u001B[39m\u001B[38;5;241m.\u001B[39m_values[loc]\n",
      "File \u001B[0;32m/opt/anaconda3/envs/Pandas/lib/python3.8/site-packages/pandas/core/indexes/base.py:3655\u001B[0m, in \u001B[0;36mIndex.get_loc\u001B[0;34m(self, key)\u001B[0m\n\u001B[1;32m   3653\u001B[0m     \u001B[38;5;28;01mreturn\u001B[39;00m \u001B[38;5;28mself\u001B[39m\u001B[38;5;241m.\u001B[39m_engine\u001B[38;5;241m.\u001B[39mget_loc(casted_key)\n\u001B[1;32m   3654\u001B[0m \u001B[38;5;28;01mexcept\u001B[39;00m \u001B[38;5;167;01mKeyError\u001B[39;00m \u001B[38;5;28;01mas\u001B[39;00m err:\n\u001B[0;32m-> 3655\u001B[0m     \u001B[38;5;28;01mraise\u001B[39;00m \u001B[38;5;167;01mKeyError\u001B[39;00m(key) \u001B[38;5;28;01mfrom\u001B[39;00m \u001B[38;5;21;01merr\u001B[39;00m\n\u001B[1;32m   3656\u001B[0m \u001B[38;5;28;01mexcept\u001B[39;00m \u001B[38;5;167;01mTypeError\u001B[39;00m:\n\u001B[1;32m   3657\u001B[0m     \u001B[38;5;66;03m# If we have a listlike key, _check_indexing_error will raise\u001B[39;00m\n\u001B[1;32m   3658\u001B[0m     \u001B[38;5;66;03m#  InvalidIndexError. Otherwise we fall through and re-raise\u001B[39;00m\n\u001B[1;32m   3659\u001B[0m     \u001B[38;5;66;03m#  the TypeError.\u001B[39;00m\n\u001B[1;32m   3660\u001B[0m     \u001B[38;5;28mself\u001B[39m\u001B[38;5;241m.\u001B[39m_check_indexing_error(key)\n",
      "\u001B[0;31mKeyError\u001B[0m: 'key13'"
     ]
    }
   ],
   "execution_count": 63
  },
  {
   "metadata": {
    "ExecuteTime": {
     "end_time": "2025-01-30T09:44:40.348761Z",
     "start_time": "2025-01-30T09:44:40.343672Z"
    }
   },
   "cell_type": "code",
   "source": "s2.get(\"key13\")",
   "id": "a1d9a8b789c3873a",
   "outputs": [
    {
     "data": {
      "text/plain": [
       "2"
      ]
     },
     "execution_count": 80,
     "metadata": {},
     "output_type": "execute_result"
    }
   ],
   "execution_count": 80
  },
  {
   "metadata": {
    "ExecuteTime": {
     "end_time": "2025-01-30T09:49:07.089719Z",
     "start_time": "2025-01-30T09:49:07.082092Z"
    }
   },
   "cell_type": "code",
   "source": [
    "dados = [1, 2.5, 1.75, 3, 3, 4, 3, 123, 313, 9, 12, 131, 31,1, 2.5, 1.75, 3, 3, 4, 3, 123, 313, 9, 12, 131, 31,1, 2.5, 1.75, 3, 3, 4, 3, 123, 313, 9, 12, 131, 31]\n",
    "indexes = [\"key1\", \"key2\", \"key3\",\"key4\", \"key5\", \"key6\", \"key7\", \"key8\", \"key9\", \"key10\", \"key11\", \"key12\", \"key12\",\"key1\", \"key2\", \"key3\",\"key4\", \"key5\", \"key6\", \"key7\", \"key8\", \"key9\", \"key10\", \"key11\", \"key12\", \"key12\",\"key1\", \"key2\", \"key3\",\"key4\", \"key5\", \"key6\", \"key7\", \"key8\", \"key9\", \"key10\", \"key11\", \"key12\", \"key12\"]\n",
    "\n",
    "dados.__len__() == indexes.__len__()"
   ],
   "id": "c3b3886f33d84c36",
   "outputs": [
    {
     "data": {
      "text/plain": [
       "True"
      ]
     },
     "execution_count": 82,
     "metadata": {},
     "output_type": "execute_result"
    }
   ],
   "execution_count": 82
  },
  {
   "metadata": {
    "ExecuteTime": {
     "end_time": "2025-01-30T09:49:11.233654Z",
     "start_time": "2025-01-30T09:49:11.228953Z"
    }
   },
   "cell_type": "code",
   "source": "s2 = pd.Series(dados, name=\"lista Val\", index= indexes)",
   "id": "e386e8055588bb9d",
   "outputs": [],
   "execution_count": 83
  },
  {
   "metadata": {
    "ExecuteTime": {
     "end_time": "2025-01-30T09:49:35.702974Z",
     "start_time": "2025-01-30T09:49:35.697027Z"
    }
   },
   "cell_type": "code",
   "source": "s2[\"key1\"]",
   "id": "c7e9ad8ae94cd0b5",
   "outputs": [
    {
     "data": {
      "text/plain": [
       "key1    1.0\n",
       "key1    1.0\n",
       "key1    1.0\n",
       "Name: lista Val, dtype: float64"
      ]
     },
     "execution_count": 84,
     "metadata": {},
     "output_type": "execute_result"
    }
   ],
   "execution_count": 84
  },
  {
   "metadata": {
    "ExecuteTime": {
     "end_time": "2025-01-30T09:50:06.476331Z",
     "start_time": "2025-01-30T09:50:06.471617Z"
    }
   },
   "cell_type": "code",
   "source": "s2[0]",
   "id": "9eb467aec14bc021",
   "outputs": [
    {
     "data": {
      "text/plain": [
       "1.0"
      ]
     },
     "execution_count": 85,
     "metadata": {},
     "output_type": "execute_result"
    }
   ],
   "execution_count": 85
  },
  {
   "metadata": {
    "ExecuteTime": {
     "end_time": "2025-01-30T09:50:52.555199Z",
     "start_time": "2025-01-30T09:50:52.549382Z"
    }
   },
   "cell_type": "code",
   "source": "s2[4:10]",
   "id": "fe4d348f5d07abda",
   "outputs": [
    {
     "data": {
      "text/plain": [
       "key5       3.0\n",
       "key6       4.0\n",
       "key7       3.0\n",
       "key8     123.0\n",
       "key9     313.0\n",
       "key10      9.0\n",
       "Name: lista Val, dtype: float64"
      ]
     },
     "execution_count": 87,
     "metadata": {},
     "output_type": "execute_result"
    }
   ],
   "execution_count": 87
  },
  {
   "metadata": {},
   "cell_type": "markdown",
   "source": "",
   "id": "7724b2e561b41bbc"
  },
  {
   "metadata": {
    "ExecuteTime": {
     "end_time": "2025-01-30T10:23:59.629055Z",
     "start_time": "2025-01-30T10:23:59.622967Z"
    }
   },
   "cell_type": "code",
   "source": "s2.loc[\"key4\"]",
   "id": "8753984079b323f6",
   "outputs": [
    {
     "data": {
      "text/plain": [
       "key4    3.0\n",
       "key4    3.0\n",
       "key4    3.0\n",
       "Name: lista Val, dtype: float64"
      ]
     },
     "execution_count": 91,
     "metadata": {},
     "output_type": "execute_result"
    }
   ],
   "execution_count": 91
  },
  {
   "metadata": {
    "ExecuteTime": {
     "end_time": "2025-01-30T10:23:38.830547Z",
     "start_time": "2025-01-30T10:23:38.823075Z"
    }
   },
   "cell_type": "code",
   "source": "s2.loc[[\"key1\", \"key4\"]]",
   "id": "9d17e0ba0fe03cfd",
   "outputs": [
    {
     "data": {
      "text/plain": [
       "key1    1.0\n",
       "key1    1.0\n",
       "key1    1.0\n",
       "key4    3.0\n",
       "key4    3.0\n",
       "key4    3.0\n",
       "Name: lista Val, dtype: float64"
      ]
     },
     "execution_count": 90,
     "metadata": {},
     "output_type": "execute_result"
    }
   ],
   "execution_count": 90
  },
  {
   "metadata": {
    "ExecuteTime": {
     "end_time": "2025-01-30T10:24:28.588217Z",
     "start_time": "2025-01-30T10:24:28.583341Z"
    }
   },
   "cell_type": "code",
   "source": "s2.iloc[4]",
   "id": "34ca7cf35f15f62e",
   "outputs": [
    {
     "data": {
      "text/plain": [
       "3.0"
      ]
     },
     "execution_count": 92,
     "metadata": {},
     "output_type": "execute_result"
    }
   ],
   "execution_count": 92
  },
  {
   "metadata": {
    "ExecuteTime": {
     "end_time": "2025-01-30T10:24:41.806697Z",
     "start_time": "2025-01-30T10:24:41.799370Z"
    }
   },
   "cell_type": "code",
   "source": "s2.iloc[[4,1,5]]",
   "id": "d3194192fb1e5aeb",
   "outputs": [
    {
     "data": {
      "text/plain": [
       "key5    3.0\n",
       "key2    2.5\n",
       "key6    4.0\n",
       "Name: lista Val, dtype: float64"
      ]
     },
     "execution_count": 93,
     "metadata": {},
     "output_type": "execute_result"
    }
   ],
   "execution_count": 93
  },
  {
   "metadata": {
    "ExecuteTime": {
     "end_time": "2025-01-30T10:28:00.233313Z",
     "start_time": "2025-01-30T10:28:00.229165Z"
    }
   },
   "cell_type": "code",
   "source": "s2.sort_values(ascending=False, inplace=True)",
   "id": "31bb5a24eb05fdae",
   "outputs": [],
   "execution_count": 103
  },
  {
   "metadata": {
    "ExecuteTime": {
     "end_time": "2025-01-30T10:28:03.333751Z",
     "start_time": "2025-01-30T10:28:03.324851Z"
    }
   },
   "cell_type": "code",
   "source": "s2",
   "id": "9f3a767517ed7067",
   "outputs": [
    {
     "data": {
      "text/plain": [
       "key9     313.00\n",
       "key9     313.00\n",
       "key9     313.00\n",
       "key12    131.00\n",
       "key12    131.00\n",
       "key12    131.00\n",
       "key8     123.00\n",
       "key8     123.00\n",
       "key8     123.00\n",
       "key12     31.00\n",
       "key12     31.00\n",
       "key12     31.00\n",
       "key11     12.00\n",
       "key11     12.00\n",
       "key11     12.00\n",
       "key10      9.00\n",
       "key10      9.00\n",
       "key10      9.00\n",
       "key6       4.00\n",
       "key6       4.00\n",
       "key6       4.00\n",
       "key5       3.00\n",
       "key4       3.00\n",
       "key4       3.00\n",
       "key7       3.00\n",
       "key5       3.00\n",
       "key4       3.00\n",
       "key7       3.00\n",
       "key5       3.00\n",
       "key7       3.00\n",
       "key2       2.50\n",
       "key2       2.50\n",
       "key2       2.50\n",
       "key3       1.75\n",
       "key3       1.75\n",
       "key3       1.75\n",
       "key1       1.00\n",
       "key1       1.00\n",
       "key1       1.00\n",
       "Name: lista Val, dtype: float64"
      ]
     },
     "execution_count": 104,
     "metadata": {},
     "output_type": "execute_result"
    }
   ],
   "execution_count": 104
  },
  {
   "metadata": {
    "ExecuteTime": {
     "end_time": "2025-01-30T10:31:57.773773Z",
     "start_time": "2025-01-30T10:31:57.765643Z"
    }
   },
   "cell_type": "code",
   "source": [
    "s2.sort_index(inplace=True)\n",
    "s2"
   ],
   "id": "5afd375adf29bf15",
   "outputs": [
    {
     "data": {
      "text/plain": [
       "key1       1.00\n",
       "key1       1.00\n",
       "key1       1.00\n",
       "key10      9.00\n",
       "key10      9.00\n",
       "key10      9.00\n",
       "key11     12.00\n",
       "key11     12.00\n",
       "key11     12.00\n",
       "key12     31.00\n",
       "key12    131.00\n",
       "key12    131.00\n",
       "key12    131.00\n",
       "key12     31.00\n",
       "key12     31.00\n",
       "key2       2.50\n",
       "key2       2.50\n",
       "key2       2.50\n",
       "key3       1.75\n",
       "key3       1.75\n",
       "key3       1.75\n",
       "key4       3.00\n",
       "key4       3.00\n",
       "key4       3.00\n",
       "key5       3.00\n",
       "key5       3.00\n",
       "key5       3.00\n",
       "key6       4.00\n",
       "key6       4.00\n",
       "key6       4.00\n",
       "key7       3.00\n",
       "key7       3.00\n",
       "key7       3.00\n",
       "key8     123.00\n",
       "key8     123.00\n",
       "key8     123.00\n",
       "key9     313.00\n",
       "key9     313.00\n",
       "key9     313.00\n",
       "Name: lista Val, dtype: float64"
      ]
     },
     "execution_count": 107,
     "metadata": {},
     "output_type": "execute_result"
    }
   ],
   "execution_count": 107
  },
  {
   "metadata": {},
   "cell_type": "markdown",
   "source": "",
   "id": "3aa987555405bbb9"
  },
  {
   "metadata": {
    "ExecuteTime": {
     "end_time": "2025-01-30T10:33:07.677824Z",
     "start_time": "2025-01-30T10:33:07.672948Z"
    }
   },
   "cell_type": "code",
   "source": [
    "calorias = {\"day1\": 420, \"day2\": 380, \"day3\": 390}\n",
    "cal = pd.Series(calorias, name=\"calories\")"
   ],
   "id": "366664fdffe4c59e",
   "outputs": [],
   "execution_count": 108
  },
  {
   "metadata": {
    "ExecuteTime": {
     "end_time": "2025-01-30T10:33:09.569243Z",
     "start_time": "2025-01-30T10:33:09.552624Z"
    }
   },
   "cell_type": "code",
   "source": "cal",
   "id": "39f282aa32d6ce2e",
   "outputs": [
    {
     "data": {
      "text/plain": [
       "day1    420\n",
       "day2    380\n",
       "day3    390\n",
       "Name: calories, dtype: int64"
      ]
     },
     "execution_count": 109,
     "metadata": {},
     "output_type": "execute_result"
    }
   ],
   "execution_count": 109
  },
  {
   "metadata": {
    "ExecuteTime": {
     "end_time": "2025-01-30T10:41:35.118799Z",
     "start_time": "2025-01-30T10:41:35.113126Z"
    }
   },
   "cell_type": "code",
   "source": [
    "idx = pd.MultiIndex.from_tuples([\n",
    "    (\"key1\", 1),\n",
    "    (\"key1\", 1),\n",
    "    (\"key1\", 2),\n",
    "    (\"key2\", 1),\n",
    "\n",
    "\n",
    "])"
   ],
   "id": "89ce7e796f50a716",
   "outputs": [],
   "execution_count": 126
  },
  {
   "metadata": {
    "ExecuteTime": {
     "end_time": "2025-01-30T10:41:36.982598Z",
     "start_time": "2025-01-30T10:41:36.978301Z"
    }
   },
   "cell_type": "code",
   "source": [
    "s7 = pd.Series([1,4,6,5],\n",
    "               name=\"calories\",\n",
    "               index=idx)"
   ],
   "id": "3f7fbdb88b94354c",
   "outputs": [],
   "execution_count": 127
  },
  {
   "metadata": {
    "ExecuteTime": {
     "end_time": "2025-01-30T10:38:17.696463Z",
     "start_time": "2025-01-30T10:38:17.689272Z"
    }
   },
   "cell_type": "code",
   "source": "s7",
   "id": "83bf09afaec7abab",
   "outputs": [
    {
     "data": {
      "text/plain": [
       "day1    1\n",
       "day2    4\n",
       "day3    6\n",
       "Name: calories, dtype: int64"
      ]
     },
     "execution_count": 114,
     "metadata": {},
     "output_type": "execute_result"
    }
   ],
   "execution_count": 114
  },
  {
   "metadata": {
    "ExecuteTime": {
     "end_time": "2025-01-30T10:41:39.831875Z",
     "start_time": "2025-01-30T10:41:39.823155Z"
    }
   },
   "cell_type": "code",
   "source": "s7",
   "id": "642cb29f9ab919cd",
   "outputs": [
    {
     "data": {
      "text/plain": [
       "key1  1    1\n",
       "      1    4\n",
       "      2    6\n",
       "key2  1    5\n",
       "Name: calories, dtype: int64"
      ]
     },
     "execution_count": 128,
     "metadata": {},
     "output_type": "execute_result"
    }
   ],
   "execution_count": 128
  },
  {
   "metadata": {
    "ExecuteTime": {
     "end_time": "2025-01-30T10:41:44.778581Z",
     "start_time": "2025-01-30T10:41:44.770294Z"
    }
   },
   "cell_type": "code",
   "source": "s7[\"key1\"]",
   "id": "c34abc4af3c85db1",
   "outputs": [
    {
     "data": {
      "text/plain": [
       "1    1\n",
       "1    4\n",
       "2    6\n",
       "Name: calories, dtype: int64"
      ]
     },
     "execution_count": 129,
     "metadata": {},
     "output_type": "execute_result"
    }
   ],
   "execution_count": 129
  },
  {
   "metadata": {
    "ExecuteTime": {
     "end_time": "2025-01-30T10:42:15.942249Z",
     "start_time": "2025-01-30T10:42:15.935927Z"
    }
   },
   "cell_type": "code",
   "source": "s7[\"key1\"][1]",
   "id": "8610ab88089694bb",
   "outputs": [
    {
     "data": {
      "text/plain": [
       "1    1\n",
       "1    4\n",
       "Name: calories, dtype: int64"
      ]
     },
     "execution_count": 130,
     "metadata": {},
     "output_type": "execute_result"
    }
   ],
   "execution_count": 130
  },
  {
   "metadata": {
    "ExecuteTime": {
     "end_time": "2025-01-30T10:43:09.793335Z",
     "start_time": "2025-01-30T10:43:09.786631Z"
    }
   },
   "cell_type": "code",
   "source": "s7.get(\"key1\")[1]",
   "id": "f4c40316b0d3d979",
   "outputs": [
    {
     "data": {
      "text/plain": [
       "1    1\n",
       "1    4\n",
       "Name: calories, dtype: int64"
      ]
     },
     "execution_count": 132,
     "metadata": {},
     "output_type": "execute_result"
    }
   ],
   "execution_count": 132
  },
  {
   "metadata": {
    "ExecuteTime": {
     "end_time": "2025-01-30T10:43:35.829499Z",
     "start_time": "2025-01-30T10:43:35.819987Z"
    }
   },
   "cell_type": "code",
   "source": "s7.get((\"key1\", 1))",
   "id": "769c280216faea25",
   "outputs": [
    {
     "data": {
      "text/plain": [
       "key1  1    1\n",
       "      1    4\n",
       "Name: calories, dtype: int64"
      ]
     },
     "execution_count": 133,
     "metadata": {},
     "output_type": "execute_result"
    }
   ],
   "execution_count": 133
  },
  {
   "metadata": {},
   "cell_type": "markdown",
   "source": "Desafio -> add val a Serie",
   "id": "1e02cf97da9d529d"
  },
  {
   "metadata": {},
   "cell_type": "code",
   "outputs": [],
   "execution_count": null,
   "source": "",
   "id": "83782a640278cc4a"
  }
 ],
 "metadata": {
  "kernelspec": {
   "display_name": "Python 3",
   "language": "python",
   "name": "python3"
  },
  "language_info": {
   "codemirror_mode": {
    "name": "ipython",
    "version": 2
   },
   "file_extension": ".py",
   "mimetype": "text/x-python",
   "name": "python",
   "nbconvert_exporter": "python",
   "pygments_lexer": "ipython2",
   "version": "2.7.6"
  }
 },
 "nbformat": 4,
 "nbformat_minor": 5
}
