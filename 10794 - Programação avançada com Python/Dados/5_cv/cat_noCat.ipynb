{
 "cells": [
  {
   "cell_type": "code",
   "id": "initial_id",
   "metadata": {
    "collapsed": true,
    "ExecuteTime": {
     "end_time": "2025-03-31T11:28:07.175516Z",
     "start_time": "2025-03-31T11:26:10.369024Z"
    }
   },
   "source": [
    "!pip install --upgrade pip\n",
    "!pip cache purge\n",
    "!pip install opencv-python\n",
    "!pip install tensorflow\n",
    "!pip install numpy\n",
    "!pip install matplotlib\n",
    "!pip install scipy"
   ],
   "outputs": [
    {
     "name": "stdout",
     "output_type": "stream",
     "text": [
      "Requirement already satisfied: pip in /opt/anaconda3/envs/PIPL0922/lib/python3.8/site-packages (24.2)\r\n",
      "Collecting pip\r\n",
      "  Downloading pip-25.0.1-py3-none-any.whl.metadata (3.7 kB)\r\n",
      "\u001B[33mWARNING: Retrying (Retry(total=4, connect=None, read=None, redirect=None, status=None)) after connection broken by 'ReadTimeoutError(\"HTTPSConnectionPool(host='files.pythonhosted.org', port=443): Read timed out. (read timeout=15)\")': /packages/c9/bc/b7db44f5f39f9d0494071bddae6880eb645970366d0a200022a1a93d57f5/pip-25.0.1-py3-none-any.whl\u001B[0m\u001B[33m\r\n",
      "\u001B[0m\u001B[33mWARNING: Retrying (Retry(total=3, connect=None, read=None, redirect=None, status=None)) after connection broken by 'ReadTimeoutError(\"HTTPSConnectionPool(host='files.pythonhosted.org', port=443): Read timed out. (read timeout=15)\")': /packages/c9/bc/b7db44f5f39f9d0494071bddae6880eb645970366d0a200022a1a93d57f5/pip-25.0.1-py3-none-any.whl\u001B[0m\u001B[33m\r\n",
      "\u001B[0m\u001B[33mWARNING: Retrying (Retry(total=2, connect=None, read=None, redirect=None, status=None)) after connection broken by 'ReadTimeoutError(\"HTTPSConnectionPool(host='files.pythonhosted.org', port=443): Read timed out. (read timeout=15)\")': /packages/c9/bc/b7db44f5f39f9d0494071bddae6880eb645970366d0a200022a1a93d57f5/pip-25.0.1-py3-none-any.whl\u001B[0m\u001B[33m\r\n",
      "\u001B[0m\u001B[33mWARNING: Retrying (Retry(total=1, connect=None, read=None, redirect=None, status=None)) after connection broken by 'ReadTimeoutError(\"HTTPSConnectionPool(host='files.pythonhosted.org', port=443): Read timed out. (read timeout=15)\")': /packages/c9/bc/b7db44f5f39f9d0494071bddae6880eb645970366d0a200022a1a93d57f5/pip-25.0.1-py3-none-any.whl\u001B[0m\u001B[33m\r\n",
      "\u001B[0m\u001B[33mWARNING: Retrying (Retry(total=0, connect=None, read=None, redirect=None, status=None)) after connection broken by 'ReadTimeoutError(\"HTTPSConnectionPool(host='files.pythonhosted.org', port=443): Read timed out. (read timeout=15)\")': /packages/c9/bc/b7db44f5f39f9d0494071bddae6880eb645970366d0a200022a1a93d57f5/pip-25.0.1-py3-none-any.whl\u001B[0m\u001B[33m\r\n",
      "\u001B[0m\u001B[31mERROR: Could not install packages due to an OSError: HTTPSConnectionPool(host='files.pythonhosted.org', port=443): Max retries exceeded with url: /packages/c9/bc/b7db44f5f39f9d0494071bddae6880eb645970366d0a200022a1a93d57f5/pip-25.0.1-py3-none-any.whl (Caused by ReadTimeoutError(\"HTTPSConnectionPool(host='files.pythonhosted.org', port=443): Read timed out. (read timeout=15)\"))\r\n",
      "\u001B[0m\u001B[31m\r\n",
      "\u001B[0mFiles removed: 8\r\n",
      "Requirement already satisfied: opencv-python in /opt/anaconda3/envs/PIPL0922/lib/python3.8/site-packages (4.11.0.86)\r\n",
      "Requirement already satisfied: numpy>=1.17.0 in /opt/anaconda3/envs/PIPL0922/lib/python3.8/site-packages (from opencv-python) (1.24.4)\r\n",
      "Requirement already satisfied: tensorflow in /opt/anaconda3/envs/PIPL0922/lib/python3.8/site-packages (2.13.1)\r\n",
      "Requirement already satisfied: absl-py>=1.0.0 in /opt/anaconda3/envs/PIPL0922/lib/python3.8/site-packages (from tensorflow) (2.2.1)\r\n",
      "Requirement already satisfied: astunparse>=1.6.0 in /opt/anaconda3/envs/PIPL0922/lib/python3.8/site-packages (from tensorflow) (1.6.3)\r\n",
      "Requirement already satisfied: flatbuffers>=23.1.21 in /opt/anaconda3/envs/PIPL0922/lib/python3.8/site-packages (from tensorflow) (25.2.10)\r\n",
      "Requirement already satisfied: gast<=0.4.0,>=0.2.1 in /opt/anaconda3/envs/PIPL0922/lib/python3.8/site-packages (from tensorflow) (0.4.0)\r\n",
      "Requirement already satisfied: google-pasta>=0.1.1 in /opt/anaconda3/envs/PIPL0922/lib/python3.8/site-packages (from tensorflow) (0.2.0)\r\n",
      "Requirement already satisfied: h5py>=2.9.0 in /opt/anaconda3/envs/PIPL0922/lib/python3.8/site-packages (from tensorflow) (3.11.0)\r\n",
      "Requirement already satisfied: libclang>=13.0.0 in /opt/anaconda3/envs/PIPL0922/lib/python3.8/site-packages (from tensorflow) (18.1.1)\r\n",
      "Collecting numpy<=1.24.3,>=1.22 (from tensorflow)\r\n",
      "  Downloading numpy-1.24.3-cp38-cp38-macosx_10_9_x86_64.whl.metadata (5.6 kB)\r\n",
      "Requirement already satisfied: opt-einsum>=2.3.2 in /opt/anaconda3/envs/PIPL0922/lib/python3.8/site-packages (from tensorflow) (3.4.0)\r\n",
      "Requirement already satisfied: packaging in /opt/anaconda3/envs/PIPL0922/lib/python3.8/site-packages (from tensorflow) (24.2)\r\n",
      "Requirement already satisfied: protobuf!=4.21.0,!=4.21.1,!=4.21.2,!=4.21.3,!=4.21.4,!=4.21.5,<5.0.0dev,>=3.20.3 in /opt/anaconda3/envs/PIPL0922/lib/python3.8/site-packages (from tensorflow) (4.25.6)\r\n",
      "Requirement already satisfied: setuptools in /opt/anaconda3/envs/PIPL0922/lib/python3.8/site-packages (from tensorflow) (75.1.0)\r\n",
      "Requirement already satisfied: six>=1.12.0 in /opt/anaconda3/envs/PIPL0922/lib/python3.8/site-packages (from tensorflow) (1.17.0)\r\n",
      "Requirement already satisfied: termcolor>=1.1.0 in /opt/anaconda3/envs/PIPL0922/lib/python3.8/site-packages (from tensorflow) (2.4.0)\r\n",
      "Requirement already satisfied: typing-extensions<4.6.0,>=3.6.6 in /opt/anaconda3/envs/PIPL0922/lib/python3.8/site-packages (from tensorflow) (4.5.0)\r\n",
      "Requirement already satisfied: wrapt>=1.11.0 in /opt/anaconda3/envs/PIPL0922/lib/python3.8/site-packages (from tensorflow) (1.17.2)\r\n",
      "Requirement already satisfied: grpcio<2.0,>=1.24.3 in /opt/anaconda3/envs/PIPL0922/lib/python3.8/site-packages (from tensorflow) (1.70.0)\r\n",
      "Requirement already satisfied: tensorboard<2.14,>=2.13 in /opt/anaconda3/envs/PIPL0922/lib/python3.8/site-packages (from tensorflow) (2.13.0)\r\n",
      "Requirement already satisfied: tensorflow-estimator<2.14,>=2.13.0 in /opt/anaconda3/envs/PIPL0922/lib/python3.8/site-packages (from tensorflow) (2.13.0)\r\n",
      "Requirement already satisfied: keras<2.14,>=2.13.1 in /opt/anaconda3/envs/PIPL0922/lib/python3.8/site-packages (from tensorflow) (2.13.1)\r\n",
      "Requirement already satisfied: tensorflow-io-gcs-filesystem>=0.23.1 in /opt/anaconda3/envs/PIPL0922/lib/python3.8/site-packages (from tensorflow) (0.34.0)\r\n",
      "Requirement already satisfied: wheel<1.0,>=0.23.0 in /opt/anaconda3/envs/PIPL0922/lib/python3.8/site-packages (from astunparse>=1.6.0->tensorflow) (0.44.0)\r\n",
      "Requirement already satisfied: google-auth<3,>=1.6.3 in /opt/anaconda3/envs/PIPL0922/lib/python3.8/site-packages (from tensorboard<2.14,>=2.13->tensorflow) (2.38.0)\r\n",
      "Requirement already satisfied: google-auth-oauthlib<1.1,>=0.5 in /opt/anaconda3/envs/PIPL0922/lib/python3.8/site-packages (from tensorboard<2.14,>=2.13->tensorflow) (1.0.0)\r\n",
      "Requirement already satisfied: markdown>=2.6.8 in /opt/anaconda3/envs/PIPL0922/lib/python3.8/site-packages (from tensorboard<2.14,>=2.13->tensorflow) (3.7)\r\n",
      "Requirement already satisfied: requests<3,>=2.21.0 in /opt/anaconda3/envs/PIPL0922/lib/python3.8/site-packages (from tensorboard<2.14,>=2.13->tensorflow) (2.32.3)\r\n",
      "Requirement already satisfied: tensorboard-data-server<0.8.0,>=0.7.0 in /opt/anaconda3/envs/PIPL0922/lib/python3.8/site-packages (from tensorboard<2.14,>=2.13->tensorflow) (0.7.2)\r\n",
      "Requirement already satisfied: werkzeug>=1.0.1 in /opt/anaconda3/envs/PIPL0922/lib/python3.8/site-packages (from tensorboard<2.14,>=2.13->tensorflow) (3.0.6)\r\n",
      "Requirement already satisfied: cachetools<6.0,>=2.0.0 in /opt/anaconda3/envs/PIPL0922/lib/python3.8/site-packages (from google-auth<3,>=1.6.3->tensorboard<2.14,>=2.13->tensorflow) (5.5.2)\r\n",
      "Requirement already satisfied: pyasn1-modules>=0.2.1 in /opt/anaconda3/envs/PIPL0922/lib/python3.8/site-packages (from google-auth<3,>=1.6.3->tensorboard<2.14,>=2.13->tensorflow) (0.4.2)\r\n",
      "Requirement already satisfied: rsa<5,>=3.1.4 in /opt/anaconda3/envs/PIPL0922/lib/python3.8/site-packages (from google-auth<3,>=1.6.3->tensorboard<2.14,>=2.13->tensorflow) (4.9)\r\n",
      "Requirement already satisfied: requests-oauthlib>=0.7.0 in /opt/anaconda3/envs/PIPL0922/lib/python3.8/site-packages (from google-auth-oauthlib<1.1,>=0.5->tensorboard<2.14,>=2.13->tensorflow) (2.0.0)\r\n",
      "Requirement already satisfied: importlib-metadata>=4.4 in /opt/anaconda3/envs/PIPL0922/lib/python3.8/site-packages (from markdown>=2.6.8->tensorboard<2.14,>=2.13->tensorflow) (8.5.0)\r\n",
      "Requirement already satisfied: charset-normalizer<4,>=2 in /opt/anaconda3/envs/PIPL0922/lib/python3.8/site-packages (from requests<3,>=2.21.0->tensorboard<2.14,>=2.13->tensorflow) (3.4.1)\r\n",
      "Requirement already satisfied: idna<4,>=2.5 in /opt/anaconda3/envs/PIPL0922/lib/python3.8/site-packages (from requests<3,>=2.21.0->tensorboard<2.14,>=2.13->tensorflow) (3.10)\r\n",
      "Requirement already satisfied: urllib3<3,>=1.21.1 in /opt/anaconda3/envs/PIPL0922/lib/python3.8/site-packages (from requests<3,>=2.21.0->tensorboard<2.14,>=2.13->tensorflow) (2.2.3)\r\n",
      "Requirement already satisfied: certifi>=2017.4.17 in /opt/anaconda3/envs/PIPL0922/lib/python3.8/site-packages (from requests<3,>=2.21.0->tensorboard<2.14,>=2.13->tensorflow) (2025.1.31)\r\n",
      "Requirement already satisfied: MarkupSafe>=2.1.1 in /opt/anaconda3/envs/PIPL0922/lib/python3.8/site-packages (from werkzeug>=1.0.1->tensorboard<2.14,>=2.13->tensorflow) (2.1.5)\r\n",
      "Requirement already satisfied: zipp>=3.20 in /opt/anaconda3/envs/PIPL0922/lib/python3.8/site-packages (from importlib-metadata>=4.4->markdown>=2.6.8->tensorboard<2.14,>=2.13->tensorflow) (3.20.2)\r\n",
      "Requirement already satisfied: pyasn1<0.7.0,>=0.6.1 in /opt/anaconda3/envs/PIPL0922/lib/python3.8/site-packages (from pyasn1-modules>=0.2.1->google-auth<3,>=1.6.3->tensorboard<2.14,>=2.13->tensorflow) (0.6.1)\r\n",
      "Requirement already satisfied: oauthlib>=3.0.0 in /opt/anaconda3/envs/PIPL0922/lib/python3.8/site-packages (from requests-oauthlib>=0.7.0->google-auth-oauthlib<1.1,>=0.5->tensorboard<2.14,>=2.13->tensorflow) (3.2.2)\r\n",
      "Downloading numpy-1.24.3-cp38-cp38-macosx_10_9_x86_64.whl (19.8 MB)\r\n",
      "\u001B[2K   \u001B[90m━━━━━━━━━━━━━━━━━━━━━━━━━━━━━━━━━━━━━━━━\u001B[0m \u001B[32m19.8/19.8 MB\u001B[0m \u001B[31m4.1 MB/s\u001B[0m eta \u001B[36m0:00:00\u001B[0m00:01\u001B[0m00:01\u001B[0m\r\n",
      "\u001B[?25hInstalling collected packages: numpy\r\n",
      "  Attempting uninstall: numpy\r\n",
      "    Found existing installation: numpy 1.24.4\r\n",
      "    Uninstalling numpy-1.24.4:\r\n",
      "      Successfully uninstalled numpy-1.24.4\r\n",
      "Successfully installed numpy-1.24.3\r\n",
      "Requirement already satisfied: numpy in /opt/anaconda3/envs/PIPL0922/lib/python3.8/site-packages (1.24.3)\r\n",
      "Requirement already satisfied: matplotlib in /opt/anaconda3/envs/PIPL0922/lib/python3.8/site-packages (3.7.5)\r\n",
      "Requirement already satisfied: contourpy>=1.0.1 in /opt/anaconda3/envs/PIPL0922/lib/python3.8/site-packages (from matplotlib) (1.1.1)\r\n",
      "Requirement already satisfied: cycler>=0.10 in /opt/anaconda3/envs/PIPL0922/lib/python3.8/site-packages (from matplotlib) (0.12.1)\r\n",
      "Requirement already satisfied: fonttools>=4.22.0 in /opt/anaconda3/envs/PIPL0922/lib/python3.8/site-packages (from matplotlib) (4.56.0)\r\n",
      "Requirement already satisfied: kiwisolver>=1.0.1 in /opt/anaconda3/envs/PIPL0922/lib/python3.8/site-packages (from matplotlib) (1.4.7)\r\n",
      "Requirement already satisfied: numpy<2,>=1.20 in /opt/anaconda3/envs/PIPL0922/lib/python3.8/site-packages (from matplotlib) (1.24.3)\r\n",
      "Requirement already satisfied: packaging>=20.0 in /opt/anaconda3/envs/PIPL0922/lib/python3.8/site-packages (from matplotlib) (24.2)\r\n",
      "Requirement already satisfied: pillow>=6.2.0 in /opt/anaconda3/envs/PIPL0922/lib/python3.8/site-packages (from matplotlib) (10.4.0)\r\n",
      "Requirement already satisfied: pyparsing>=2.3.1 in /opt/anaconda3/envs/PIPL0922/lib/python3.8/site-packages (from matplotlib) (3.1.4)\r\n",
      "Requirement already satisfied: python-dateutil>=2.7 in /opt/anaconda3/envs/PIPL0922/lib/python3.8/site-packages (from matplotlib) (2.9.0.post0)\r\n",
      "Requirement already satisfied: importlib-resources>=3.2.0 in /opt/anaconda3/envs/PIPL0922/lib/python3.8/site-packages (from matplotlib) (6.4.5)\r\n",
      "Requirement already satisfied: zipp>=3.1.0 in /opt/anaconda3/envs/PIPL0922/lib/python3.8/site-packages (from importlib-resources>=3.2.0->matplotlib) (3.20.2)\r\n",
      "Requirement already satisfied: six>=1.5 in /opt/anaconda3/envs/PIPL0922/lib/python3.8/site-packages (from python-dateutil>=2.7->matplotlib) (1.17.0)\r\n",
      "Requirement already satisfied: scipy in /opt/anaconda3/envs/PIPL0922/lib/python3.8/site-packages (1.10.1)\r\n",
      "Requirement already satisfied: numpy<1.27.0,>=1.19.5 in /opt/anaconda3/envs/PIPL0922/lib/python3.8/site-packages (from scipy) (1.24.3)\r\n"
     ]
    }
   ],
   "execution_count": 111
  },
  {
   "metadata": {
    "ExecuteTime": {
     "end_time": "2025-03-31T11:28:07.190367Z",
     "start_time": "2025-03-31T11:28:07.188011Z"
    }
   },
   "cell_type": "code",
   "source": [
    "import os\n",
    "import shutil\n",
    "import random"
   ],
   "id": "a4f47e331aeb398a",
   "outputs": [],
   "execution_count": 112
  },
  {
   "metadata": {
    "ExecuteTime": {
     "end_time": "2025-03-31T11:28:07.217263Z",
     "start_time": "2025-03-31T11:28:07.214726Z"
    }
   },
   "cell_type": "code",
   "source": "base = 'imagens/Dog'",
   "id": "88a42a96901229fc",
   "outputs": [],
   "execution_count": 113
  },
  {
   "metadata": {
    "ExecuteTime": {
     "end_time": "2025-03-31T11:28:07.233495Z",
     "start_time": "2025-03-31T11:28:07.231107Z"
    }
   },
   "cell_type": "code",
   "source": [
    "train_dir = 'dataset/train/not_cats'\n",
    "val_dir = 'dataset/validation/not_cats'"
   ],
   "id": "9c3e4accd8969bdc",
   "outputs": [],
   "execution_count": 114
  },
  {
   "metadata": {
    "ExecuteTime": {
     "end_time": "2025-03-31T11:28:07.244274Z",
     "start_time": "2025-03-31T11:28:07.241758Z"
    }
   },
   "cell_type": "code",
   "source": [
    "os.makedirs(train_dir, exist_ok=True)\n",
    "os.makedirs(val_dir, exist_ok=True)"
   ],
   "id": "1f582edb42cd8531",
   "outputs": [],
   "execution_count": 115
  },
  {
   "metadata": {
    "ExecuteTime": {
     "end_time": "2025-03-31T11:28:07.255692Z",
     "start_time": "2025-03-31T11:28:07.252577Z"
    }
   },
   "cell_type": "code",
   "source": "all_files = os.listdir(base)",
   "id": "2e6e083fbf8d95aa",
   "outputs": [],
   "execution_count": 116
  },
  {
   "metadata": {
    "ExecuteTime": {
     "end_time": "2025-03-31T11:28:07.266476Z",
     "start_time": "2025-03-31T11:28:07.263823Z"
    }
   },
   "cell_type": "code",
   "source": "random.shuffle(all_files)",
   "id": "ea7eb711ae5e8703",
   "outputs": [],
   "execution_count": 117
  },
  {
   "metadata": {
    "ExecuteTime": {
     "end_time": "2025-03-31T11:28:07.287657Z",
     "start_time": "2025-03-31T11:28:07.285277Z"
    }
   },
   "cell_type": "code",
   "source": "split = int(len(all_files)* 0.8)",
   "id": "def26246c8574dcc",
   "outputs": [],
   "execution_count": 118
  },
  {
   "metadata": {
    "ExecuteTime": {
     "end_time": "2025-03-31T11:28:07.299855Z",
     "start_time": "2025-03-31T11:28:07.297208Z"
    }
   },
   "cell_type": "code",
   "source": [
    "train = all_files[:split]\n",
    "val = all_files[split:]"
   ],
   "id": "bf3394816a34f151",
   "outputs": [],
   "execution_count": 119
  },
  {
   "metadata": {
    "ExecuteTime": {
     "end_time": "2025-03-31T11:28:07.310795Z",
     "start_time": "2025-03-31T11:28:07.307831Z"
    }
   },
   "cell_type": "code",
   "source": [
    "for img in train:\n",
    "    shutil.move(os.path.join(base, img), os.path.join(train_dir, img))\n",
    "\n",
    "for img in val:\n",
    "    shutil.move(os.path.join(base, img), os.path.join(val_dir, img))"
   ],
   "id": "5bfa4659e4cf6e28",
   "outputs": [],
   "execution_count": 120
  },
  {
   "metadata": {},
   "cell_type": "markdown",
   "source": "# Treinar o modelo",
   "id": "11e857ae3b4ffb72"
  },
  {
   "metadata": {
    "ExecuteTime": {
     "end_time": "2025-03-31T11:35:29.779954Z",
     "start_time": "2025-03-31T11:34:59.816500Z"
    }
   },
   "cell_type": "code",
   "source": [
    "import tensorflow as tf\n",
    "import scipy\n",
    "import keras.preprocessing.image\n",
    "from tensorflow.keras.preprocessing.image import ImageDataGenerator\n",
    "from tensorflow.keras.models import Sequential\n",
    "from tensorflow.keras.layers import Conv2D, MaxPooling2D, Flatten, Dense, Dropout\n",
    "import os"
   ],
   "id": "354856b9dc20de57",
   "outputs": [
    {
     "name": "stderr",
     "output_type": "stream",
     "text": [
      "2025-03-31 12:35:02.906466: I tensorflow/core/platform/cpu_feature_guard.cc:182] This TensorFlow binary is optimized to use available CPU instructions in performance-critical operations.\n",
      "To enable the following instructions: AVX2 FMA, in other operations, rebuild TensorFlow with the appropriate compiler flags.\n"
     ]
    }
   ],
   "execution_count": 5
  },
  {
   "metadata": {
    "ExecuteTime": {
     "end_time": "2025-03-31T11:55:40.382391Z",
     "start_time": "2025-03-31T11:55:40.377787Z"
    }
   },
   "cell_type": "code",
   "source": [
    "dataset_path = 'dataset'\n",
    "img_Size = (24, 24)\n",
    "batch_size = 128\n",
    "epochs = 10"
   ],
   "id": "1ebb09d60e3e757f",
   "outputs": [],
   "execution_count": 31
  },
  {
   "metadata": {
    "ExecuteTime": {
     "end_time": "2025-03-31T12:02:04.734650Z",
     "start_time": "2025-03-31T12:02:04.730423Z"
    }
   },
   "cell_type": "code",
   "source": [
    "teste_data = ImageDataGenerator(\n",
    "    rescale=1./255,\n",
    "    rotation_range=30,\n",
    "    zoom_range=0.2,\n",
    "    horizontal_flip=True\n",
    ")"
   ],
   "id": "3d7cc09542a1aec3",
   "outputs": [],
   "execution_count": 37
  },
  {
   "metadata": {
    "ExecuteTime": {
     "end_time": "2025-03-31T11:54:10.105Z",
     "start_time": "2025-03-31T11:54:10.087655Z"
    }
   },
   "cell_type": "code",
   "source": [
    "teste_val = ImageDataGenerator(\n",
    "    rescale=1./255,\n",
    "    rotation_range=30,\n",
    "    zoom_range=0.2,\n",
    "    horizontal_flip=True\n",
    ")"
   ],
   "id": "c4a5a3b926dca2da",
   "outputs": [],
   "execution_count": 24
  },
  {
   "metadata": {
    "ExecuteTime": {
     "end_time": "2025-03-31T11:54:23.933238Z",
     "start_time": "2025-03-31T11:54:12.866544Z"
    }
   },
   "cell_type": "code",
   "source": [
    "train_gen = teste_data.flow_from_directory(\n",
    "    os.path.join(dataset_path, 'train'),\n",
    "    target_size=img_Size,\n",
    "    batch_size=batch_size,\n",
    "    class_mode='binary'\n",
    ")"
   ],
   "id": "a086c17a7cfc6266",
   "outputs": [
    {
     "name": "stdout",
     "output_type": "stream",
     "text": [
      "Found 19996 images belonging to 2 classes.\n"
     ]
    }
   ],
   "execution_count": 25
  },
  {
   "metadata": {
    "ExecuteTime": {
     "end_time": "2025-03-31T11:54:30.633137Z",
     "start_time": "2025-03-31T11:54:28.685096Z"
    }
   },
   "cell_type": "code",
   "source": [
    "val_gen = teste_data.flow_from_directory(\n",
    "    os.path.join(dataset_path, 'validation'),\n",
    "    target_size=img_Size,\n",
    "    batch_size=batch_size,\n",
    "    class_mode='binary'\n",
    ")"
   ],
   "id": "45bdc61771a91f41",
   "outputs": [
    {
     "name": "stdout",
     "output_type": "stream",
     "text": [
      "Found 5000 images belonging to 2 classes.\n"
     ]
    }
   ],
   "execution_count": 26
  },
  {
   "metadata": {
    "ExecuteTime": {
     "end_time": "2025-03-31T11:54:34.036984Z",
     "start_time": "2025-03-31T11:54:33.864361Z"
    }
   },
   "cell_type": "code",
   "source": [
    "modelo = Sequential([\n",
    "\n",
    "    Conv2D(32, (3, 3), activation='relu', input_shape=(img_Size[0], img_Size[0], 3)),\n",
    "    MaxPooling2D(2, 2),\n",
    "\n",
    "    Conv2D(64, (3, 3), activation='relu', input_shape=(img_Size[0], img_Size[0], 3)),\n",
    "    MaxPooling2D(2, 2),\n",
    "\n",
    "    Conv2D(128, (3, 3), activation='relu', input_shape=(img_Size[0], img_Size[0], 3)),\n",
    "    MaxPooling2D(2, 2),\n",
    "\n",
    "    Flatten(),\n",
    "    Dense(128, activation='relu'),\n",
    "\n",
    "\n",
    "    Dropout(0.5),\n",
    "    Dense(1, activation='sigmoid') # resposta\n",
    "\n",
    "])"
   ],
   "id": "7e5ea5fef7b38479",
   "outputs": [],
   "execution_count": 27
  },
  {
   "metadata": {
    "ExecuteTime": {
     "end_time": "2025-03-31T11:54:45.910339Z",
     "start_time": "2025-03-31T11:54:45.890347Z"
    }
   },
   "cell_type": "code",
   "source": "modelo.compile(optimizer='adam', loss='binary_crossentropy', metrics=['accuracy'])",
   "id": "20205078b6045279",
   "outputs": [],
   "execution_count": 28
  },
  {
   "metadata": {
    "ExecuteTime": {
     "end_time": "2025-03-31T11:56:13.345246Z",
     "start_time": "2025-03-31T11:56:13.340198Z"
    }
   },
   "cell_type": "code",
   "source": "epochs = 1",
   "id": "40ea1061101f17e5",
   "outputs": [],
   "execution_count": 35
  },
  {
   "metadata": {
    "ExecuteTime": {
     "end_time": "2025-03-31T12:02:04.685950Z",
     "start_time": "2025-03-31T11:56:14.668973Z"
    }
   },
   "cell_type": "code",
   "source": [
    "modelo.fit(\n",
    "    train_gen,\n",
    "    validation_data=val_gen,\n",
    "    epochs=epochs\n",
    ")"
   ],
   "id": "e13f805409ab5e0c",
   "outputs": [
    {
     "name": "stdout",
     "output_type": "stream",
     "text": [
      "1667/1667 [==============================] - 350s 210ms/step - loss: 0.6822 - accuracy: 0.5524 - val_loss: 0.6536 - val_accuracy: 0.6170\n"
     ]
    },
    {
     "data": {
      "text/plain": [
       "<keras.src.callbacks.History at 0x1680444c0>"
      ]
     },
     "execution_count": 36,
     "metadata": {},
     "output_type": "execute_result"
    }
   ],
   "execution_count": 36
  },
  {
   "metadata": {
    "ExecuteTime": {
     "end_time": "2025-03-31T12:02:19.234085Z",
     "start_time": "2025-03-31T12:02:19.229820Z"
    }
   },
   "cell_type": "code",
   "source": "",
   "id": "5584c863ed1e9d5c",
   "outputs": [],
   "execution_count": null
  },
  {
   "metadata": {
    "ExecuteTime": {
     "end_time": "2025-03-31T12:02:22.158415Z",
     "start_time": "2025-03-31T12:02:22.039827Z"
    }
   },
   "cell_type": "code",
   "source": "modelo.save('cat_noCat.keras')",
   "id": "499b8eae4b340b40",
   "outputs": [],
   "execution_count": 38
  },
  {
   "metadata": {},
   "cell_type": "code",
   "outputs": [],
   "execution_count": null,
   "source": "",
   "id": "c6608c12bfd7d0ca"
  },
  {
   "metadata": {},
   "cell_type": "code",
   "outputs": [],
   "execution_count": null,
   "source": "",
   "id": "2c088c1653423324"
  },
  {
   "metadata": {
    "ExecuteTime": {
     "end_time": "2025-03-31T11:28:09.308874Z",
     "start_time": "2025-03-31T10:47:00.381701Z"
    }
   },
   "cell_type": "code",
   "source": "",
   "id": "b021b6f02ba2bea8",
   "outputs": [
    {
     "name": "stdout",
     "output_type": "stream",
     "text": [
      "1.10.1\n"
     ]
    }
   ],
   "execution_count": 77
  },
  {
   "metadata": {},
   "cell_type": "code",
   "outputs": [],
   "execution_count": null,
   "source": "",
   "id": "9e929732c88930ec"
  },
  {
   "metadata": {},
   "cell_type": "code",
   "outputs": [],
   "execution_count": null,
   "source": "",
   "id": "81cccff98788e3f5"
  },
  {
   "metadata": {},
   "cell_type": "code",
   "outputs": [],
   "execution_count": null,
   "source": "",
   "id": "95c7c1026799eb71"
  },
  {
   "metadata": {},
   "cell_type": "code",
   "outputs": [],
   "execution_count": null,
   "source": "",
   "id": "53f12afc9e329ed"
  },
  {
   "metadata": {},
   "cell_type": "code",
   "outputs": [],
   "execution_count": null,
   "source": "",
   "id": "f7d43c87b48b1750"
  },
  {
   "metadata": {},
   "cell_type": "code",
   "outputs": [],
   "execution_count": null,
   "source": "",
   "id": "396f8f8e26e3f245"
  }
 ],
 "metadata": {
  "kernelspec": {
   "display_name": "Python 3",
   "language": "python",
   "name": "python3"
  },
  "language_info": {
   "codemirror_mode": {
    "name": "ipython",
    "version": 2
   },
   "file_extension": ".py",
   "mimetype": "text/x-python",
   "name": "python",
   "nbconvert_exporter": "python",
   "pygments_lexer": "ipython2",
   "version": "2.7.6"
  }
 },
 "nbformat": 4,
 "nbformat_minor": 5
}
