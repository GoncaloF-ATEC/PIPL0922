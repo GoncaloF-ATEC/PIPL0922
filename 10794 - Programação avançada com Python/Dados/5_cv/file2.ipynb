{
 "cells": [
  {
   "cell_type": "code",
   "id": "initial_id",
   "metadata": {
    "collapsed": true,
    "ExecuteTime": {
     "end_time": "2025-03-31T12:04:17.168866Z",
     "start_time": "2025-03-31T12:04:03.032514Z"
    }
   },
   "source": [
    "import numpy as np\n",
    "import cv2\n",
    "from tensorflow.keras.models import load_model"
   ],
   "outputs": [
    {
     "name": "stderr",
     "output_type": "stream",
     "text": [
      "2025-03-31 13:04:09.632493: I tensorflow/core/platform/cpu_feature_guard.cc:182] This TensorFlow binary is optimized to use available CPU instructions in performance-critical operations.\n",
      "To enable the following instructions: AVX2 FMA, in other operations, rebuild TensorFlow with the appropriate compiler flags.\n"
     ]
    }
   ],
   "execution_count": 1
  },
  {
   "metadata": {
    "ExecuteTime": {
     "end_time": "2025-03-31T12:27:17.589802Z",
     "start_time": "2025-03-31T12:27:17.373949Z"
    }
   },
   "cell_type": "code",
   "source": "modelo = load_model('cat_noCat.keras')",
   "id": "2b4e07280647658c",
   "outputs": [],
   "execution_count": 54
  },
  {
   "metadata": {
    "ExecuteTime": {
     "end_time": "2025-03-31T12:27:19.533557Z",
     "start_time": "2025-03-31T12:27:19.526518Z"
    }
   },
   "cell_type": "code",
   "source": [
    "def is_cat(img_path):\n",
    "    img = cv2.imread(img_path)\n",
    "    img = cv2.resize(img, (24, 24))\n",
    "    img = img.astype('float32') / 255.0\n",
    "    img = np.expand_dims(img, axis=0)\n",
    "\n",
    "    prediction = modelo.predict(img)[0][0]\n",
    "\n",
    "    if prediction > 0.5:\n",
    "        return (True, prediction)\n",
    "    else:\n",
    "        return (False, prediction)\n"
   ],
   "id": "79f6ae937a1f1582",
   "outputs": [],
   "execution_count": 56
  },
  {
   "metadata": {
    "ExecuteTime": {
     "end_time": "2025-03-31T12:27:21.652756Z",
     "start_time": "2025-03-31T12:27:21.491037Z"
    }
   },
   "cell_type": "code",
   "source": [
    "f = is_cat(\"test_image.jpg\") # modelo aula\n",
    "print(f)"
   ],
   "id": "fe9cdccdcbeaddf",
   "outputs": [
    {
     "name": "stdout",
     "output_type": "stream",
     "text": [
      "1/1 [==============================] - 0s 94ms/step\n",
      "(True, 0.51094526)\n"
     ]
    }
   ],
   "execution_count": 57
  },
  {
   "metadata": {
    "ExecuteTime": {
     "end_time": "2025-03-31T12:27:23.437812Z",
     "start_time": "2025-03-31T12:27:23.303256Z"
    }
   },
   "cell_type": "code",
   "source": [
    "f = is_cat(\"test_image2.jpg\") # modelo aula\n",
    "print(f)\n",
    "print(f)"
   ],
   "id": "175a68657ade763",
   "outputs": [
    {
     "name": "stdout",
     "output_type": "stream",
     "text": [
      "1/1 [==============================] - 0s 31ms/step\n",
      "(True, 0.55061954)\n",
      "(True, 0.55061954)\n"
     ]
    }
   ],
   "execution_count": 58
  },
  {
   "metadata": {
    "ExecuteTime": {
     "end_time": "2025-03-31T12:27:27.176063Z",
     "start_time": "2025-03-31T12:27:26.132490Z"
    }
   },
   "cell_type": "code",
   "source": "modelo2 = load_model('catDog.keras')",
   "id": "a9ead5d2aa3a1cdf",
   "outputs": [],
   "execution_count": 59
  },
  {
   "metadata": {
    "ExecuteTime": {
     "end_time": "2025-03-31T12:27:27.402280Z",
     "start_time": "2025-03-31T12:27:27.393217Z"
    }
   },
   "cell_type": "code",
   "source": [
    "def is_cat2(img_path):\n",
    "    img = cv2.imread(img_path)\n",
    "    img = cv2.resize(img, (128, 128))\n",
    "    img = img.astype('float32') / 255.0\n",
    "    img = np.expand_dims(img, axis=0)\n",
    "\n",
    "    prediction = modelo2.predict(img)[0][0]\n",
    "\n",
    "    if prediction > 0.5:\n",
    "        return (True, prediction)\n",
    "    else:\n",
    "        return (False, prediction)"
   ],
   "id": "4f317a9912fcdf81",
   "outputs": [],
   "execution_count": 60
  },
  {
   "metadata": {
    "ExecuteTime": {
     "end_time": "2025-03-31T12:27:30.874066Z",
     "start_time": "2025-03-31T12:27:30.671940Z"
    }
   },
   "cell_type": "code",
   "source": "is_cat2(\"test_image.jpg\")\n",
   "id": "a0835016f30c8901",
   "outputs": [
    {
     "name": "stdout",
     "output_type": "stream",
     "text": [
      "1/1 [==============================] - 0s 134ms/step\n"
     ]
    },
    {
     "data": {
      "text/plain": [
       "(True, 0.9352394)"
      ]
     },
     "execution_count": 61,
     "metadata": {},
     "output_type": "execute_result"
    }
   ],
   "execution_count": 61
  },
  {
   "metadata": {
    "ExecuteTime": {
     "end_time": "2025-03-31T12:27:32.067449Z",
     "start_time": "2025-03-31T12:27:31.926614Z"
    }
   },
   "cell_type": "code",
   "source": "is_cat2(\"test_image2.jpg\")",
   "id": "6803ea2b7412a06f",
   "outputs": [
    {
     "name": "stdout",
     "output_type": "stream",
     "text": [
      "1/1 [==============================] - 0s 41ms/step\n"
     ]
    },
    {
     "data": {
      "text/plain": [
       "(False, 0.19333345)"
      ]
     },
     "execution_count": 62,
     "metadata": {},
     "output_type": "execute_result"
    }
   ],
   "execution_count": 62
  },
  {
   "metadata": {
    "ExecuteTime": {
     "end_time": "2025-03-31T12:26:50.119270Z",
     "start_time": "2025-03-31T12:26:50.055496Z"
    }
   },
   "cell_type": "code",
   "source": "",
   "id": "1eae7075a435d700",
   "outputs": [
    {
     "name": "stderr",
     "output_type": "stream",
     "text": [
      "[ WARN:0@1366.241] global loadsave.cpp:268 findDecoder imread_('gato.jpg'): can't open/read file: check file path/integrity\n"
     ]
    },
    {
     "ename": "error",
     "evalue": "OpenCV(4.11.0) /Users/runner/work/opencv-python/opencv-python/opencv/modules/imgproc/src/resize.cpp:4208: error: (-215:Assertion failed) !ssize.empty() in function 'resize'\n",
     "output_type": "error",
     "traceback": [
      "\u001B[0;31m---------------------------------------------------------------------------\u001B[0m",
      "\u001B[0;31merror\u001B[0m                                     Traceback (most recent call last)",
      "Cell \u001B[0;32mIn[50], line 1\u001B[0m\n\u001B[0;32m----> 1\u001B[0m \u001B[43mis_cat2\u001B[49m\u001B[43m(\u001B[49m\u001B[38;5;124;43m\"\u001B[39;49m\u001B[38;5;124;43mgato.jpg\u001B[39;49m\u001B[38;5;124;43m\"\u001B[39;49m\u001B[43m)\u001B[49m\n",
      "Cell \u001B[0;32mIn[40], line 3\u001B[0m, in \u001B[0;36mis_cat2\u001B[0;34m(img_path)\u001B[0m\n\u001B[1;32m      1\u001B[0m \u001B[38;5;28;01mdef\u001B[39;00m\u001B[38;5;250m \u001B[39m\u001B[38;5;21mis_cat2\u001B[39m(img_path):\n\u001B[1;32m      2\u001B[0m     img \u001B[38;5;241m=\u001B[39m cv2\u001B[38;5;241m.\u001B[39mimread(img_path)\n\u001B[0;32m----> 3\u001B[0m     img \u001B[38;5;241m=\u001B[39m \u001B[43mcv2\u001B[49m\u001B[38;5;241;43m.\u001B[39;49m\u001B[43mresize\u001B[49m\u001B[43m(\u001B[49m\u001B[43mimg\u001B[49m\u001B[43m,\u001B[49m\u001B[43m \u001B[49m\u001B[43m(\u001B[49m\u001B[38;5;241;43m128\u001B[39;49m\u001B[43m,\u001B[49m\u001B[43m \u001B[49m\u001B[38;5;241;43m128\u001B[39;49m\u001B[43m)\u001B[49m\u001B[43m)\u001B[49m\n\u001B[1;32m      4\u001B[0m     img \u001B[38;5;241m=\u001B[39m img\u001B[38;5;241m.\u001B[39mastype(\u001B[38;5;124m'\u001B[39m\u001B[38;5;124mfloat32\u001B[39m\u001B[38;5;124m'\u001B[39m) \u001B[38;5;241m/\u001B[39m \u001B[38;5;241m255.0\u001B[39m\n\u001B[1;32m      5\u001B[0m     img \u001B[38;5;241m=\u001B[39m np\u001B[38;5;241m.\u001B[39mexpand_dims(img, axis\u001B[38;5;241m=\u001B[39m\u001B[38;5;241m0\u001B[39m)\n",
      "\u001B[0;31merror\u001B[0m: OpenCV(4.11.0) /Users/runner/work/opencv-python/opencv-python/opencv/modules/imgproc/src/resize.cpp:4208: error: (-215:Assertion failed) !ssize.empty() in function 'resize'\n"
     ]
    }
   ],
   "execution_count": 50
  },
  {
   "metadata": {
    "ExecuteTime": {
     "end_time": "2025-03-31T12:27:40.643969Z",
     "start_time": "2025-03-31T12:27:40.554544Z"
    }
   },
   "cell_type": "code",
   "source": "is_cat2(\"gato2.jpg\")",
   "id": "84f216dbebf4fbd0",
   "outputs": [
    {
     "name": "stdout",
     "output_type": "stream",
     "text": [
      "1/1 [==============================] - 0s 25ms/step\n"
     ]
    },
    {
     "data": {
      "text/plain": [
       "(True, 0.57995766)"
      ]
     },
     "execution_count": 65,
     "metadata": {},
     "output_type": "execute_result"
    }
   ],
   "execution_count": 65
  },
  {
   "metadata": {
    "ExecuteTime": {
     "end_time": "2025-03-31T12:27:50.976155Z",
     "start_time": "2025-03-31T12:27:50.884677Z"
    }
   },
   "cell_type": "code",
   "source": "is_cat2(\"cao_gato.jpg\")",
   "id": "6acd96ba5f6caa18",
   "outputs": [
    {
     "name": "stdout",
     "output_type": "stream",
     "text": [
      "1/1 [==============================] - 0s 24ms/step\n"
     ]
    },
    {
     "data": {
      "text/plain": [
       "(True, 0.5032517)"
      ]
     },
     "execution_count": 67,
     "metadata": {},
     "output_type": "execute_result"
    }
   ],
   "execution_count": 67
  },
  {
   "metadata": {
    "ExecuteTime": {
     "end_time": "2025-03-31T12:28:53.662032Z",
     "start_time": "2025-03-31T12:28:53.568715Z"
    }
   },
   "cell_type": "code",
   "source": "is_cat2(\"gato_colo.jpg\")",
   "id": "696f3fb55d6339af",
   "outputs": [
    {
     "name": "stdout",
     "output_type": "stream",
     "text": [
      "1/1 [==============================] - 0s 33ms/step\n"
     ]
    },
    {
     "data": {
      "text/plain": [
       "(True, 0.6038843)"
      ]
     },
     "execution_count": 68,
     "metadata": {},
     "output_type": "execute_result"
    }
   ],
   "execution_count": 68
  },
  {
   "metadata": {
    "ExecuteTime": {
     "end_time": "2025-03-31T12:29:39.018208Z",
     "start_time": "2025-03-31T12:29:38.925013Z"
    }
   },
   "cell_type": "code",
   "source": "is_cat2(\"gato_humano.jpg\")",
   "id": "862a8554e68bcd58",
   "outputs": [
    {
     "name": "stdout",
     "output_type": "stream",
     "text": [
      "1/1 [==============================] - 0s 30ms/step\n"
     ]
    },
    {
     "data": {
      "text/plain": [
       "(False, 0.14982566)"
      ]
     },
     "execution_count": 69,
     "metadata": {},
     "output_type": "execute_result"
    }
   ],
   "execution_count": 69
  },
  {
   "metadata": {
    "ExecuteTime": {
     "end_time": "2025-03-31T12:31:32.967351Z",
     "start_time": "2025-03-31T12:31:32.855838Z"
    }
   },
   "cell_type": "code",
   "source": "is_cat2(\"275.jpg\")",
   "id": "f6d11bc3712e8887",
   "outputs": [
    {
     "name": "stdout",
     "output_type": "stream",
     "text": [
      "1/1 [==============================] - 0s 36ms/step\n"
     ]
    },
    {
     "data": {
      "text/plain": [
       "(False, 0.044255722)"
      ]
     },
     "execution_count": 70,
     "metadata": {},
     "output_type": "execute_result"
    }
   ],
   "execution_count": 70
  }
 ],
 "metadata": {
  "kernelspec": {
   "display_name": "Python 3",
   "language": "python",
   "name": "python3"
  },
  "language_info": {
   "codemirror_mode": {
    "name": "ipython",
    "version": 2
   },
   "file_extension": ".py",
   "mimetype": "text/x-python",
   "name": "python",
   "nbconvert_exporter": "python",
   "pygments_lexer": "ipython2",
   "version": "2.7.6"
  }
 },
 "nbformat": 4,
 "nbformat_minor": 5
}
