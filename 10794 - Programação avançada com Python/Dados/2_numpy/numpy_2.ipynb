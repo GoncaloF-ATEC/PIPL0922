{
  "nbformat": 4,
  "nbformat_minor": 0,
  "metadata": {
    "colab": {
      "provenance": [],
      "toc_visible": true
    },
    "kernelspec": {
      "name": "python3",
      "display_name": "Python 3"
    },
    "language_info": {
      "name": "python"
    }
  },
  "cells": [
    {
      "cell_type": "code",
      "execution_count": 63,
      "metadata": {
        "id": "giqPAXt1hPTx"
      },
      "outputs": [],
      "source": [
        "import numpy as np"
      ]
    },
    {
      "cell_type": "markdown",
      "source": [
        "# Inicilizar arrays\n"
      ],
      "metadata": {
        "id": "-NAuJH3DiAV9"
      }
    },
    {
      "cell_type": "code",
      "source": [
        "np.zeros(10)"
      ],
      "metadata": {
        "colab": {
          "base_uri": "https://localhost:8080/"
        },
        "id": "CSTHphthhZ2R",
        "outputId": "7950674b-a45b-494e-e185-0e4e0e5f464b"
      },
      "execution_count": null,
      "outputs": [
        {
          "output_type": "execute_result",
          "data": {
            "text/plain": [
              "array([0., 0., 0., 0., 0., 0., 0., 0., 0., 0.])"
            ]
          },
          "metadata": {},
          "execution_count": 12
        }
      ]
    },
    {
      "cell_type": "code",
      "source": [
        "arr1 = np.zeros(10)"
      ],
      "metadata": {
        "id": "VuEMLInShZz8"
      },
      "execution_count": null,
      "outputs": []
    },
    {
      "cell_type": "code",
      "source": [
        "arr1"
      ],
      "metadata": {
        "colab": {
          "base_uri": "https://localhost:8080/"
        },
        "id": "H6Ml9E4-hZxI",
        "outputId": "90fd8127-5cb7-410a-fe95-a2cf002095d8"
      },
      "execution_count": null,
      "outputs": [
        {
          "output_type": "execute_result",
          "data": {
            "text/plain": [
              "array([0., 0., 0., 0., 0., 0., 0., 0., 0., 0.])"
            ]
          },
          "metadata": {},
          "execution_count": 19
        }
      ]
    },
    {
      "cell_type": "code",
      "source": [
        "arr1.dtype"
      ],
      "metadata": {
        "colab": {
          "base_uri": "https://localhost:8080/"
        },
        "id": "rIOf8BydhZt-",
        "outputId": "40af25d1-12fb-4dbf-c1da-f1a6341ebf43"
      },
      "execution_count": null,
      "outputs": [
        {
          "output_type": "execute_result",
          "data": {
            "text/plain": [
              "dtype('int64')"
            ]
          },
          "metadata": {},
          "execution_count": 6
        }
      ]
    },
    {
      "cell_type": "code",
      "source": [
        "mat = np.zeros((3,3), dtype=\"int8\")"
      ],
      "metadata": {
        "id": "dUZU_awMhZrV"
      },
      "execution_count": null,
      "outputs": []
    },
    {
      "cell_type": "code",
      "source": [
        "mat"
      ],
      "metadata": {
        "colab": {
          "base_uri": "https://localhost:8080/"
        },
        "id": "821gClBfhZou",
        "outputId": "956d3aab-cb08-4e21-bb84-097f5056f43d"
      },
      "execution_count": null,
      "outputs": [
        {
          "output_type": "execute_result",
          "data": {
            "text/plain": [
              "array([[0, 0, 0],\n",
              "       [0, 0, 0],\n",
              "       [0, 0, 0]], dtype=int8)"
            ]
          },
          "metadata": {},
          "execution_count": 37
        }
      ]
    },
    {
      "cell_type": "code",
      "source": [
        "mat.nbytes"
      ],
      "metadata": {
        "colab": {
          "base_uri": "https://localhost:8080/"
        },
        "id": "BTH9aX-VhZmv",
        "outputId": "4c29950a-6722-4439-beee-a157dd1d7c16"
      },
      "execution_count": null,
      "outputs": [
        {
          "output_type": "execute_result",
          "data": {
            "text/plain": [
              "9"
            ]
          },
          "metadata": {},
          "execution_count": 38
        }
      ]
    },
    {
      "cell_type": "code",
      "source": [
        "mat = np.ones((3,3))"
      ],
      "metadata": {
        "id": "JuUiCiuChZkW"
      },
      "execution_count": null,
      "outputs": []
    },
    {
      "cell_type": "code",
      "source": [
        "mat"
      ],
      "metadata": {
        "colab": {
          "base_uri": "https://localhost:8080/"
        },
        "id": "-4n9vlpzhZi_",
        "outputId": "8e77f1a2-d27e-4d36-c2b7-28c5749bcd5f"
      },
      "execution_count": null,
      "outputs": [
        {
          "output_type": "execute_result",
          "data": {
            "text/plain": [
              "array([[1., 1., 1.],\n",
              "       [1., 1., 1.],\n",
              "       [1., 1., 1.]])"
            ]
          },
          "metadata": {},
          "execution_count": 52
        }
      ]
    },
    {
      "cell_type": "code",
      "source": [
        "mat.dtype"
      ],
      "metadata": {
        "colab": {
          "base_uri": "https://localhost:8080/"
        },
        "id": "gK8RNNoghZeJ",
        "outputId": "7015c394-5653-4b32-f018-92330e67bd75"
      },
      "execution_count": null,
      "outputs": [
        {
          "output_type": "execute_result",
          "data": {
            "text/plain": [
              "dtype('float64')"
            ]
          },
          "metadata": {},
          "execution_count": 53
        }
      ]
    },
    {
      "cell_type": "code",
      "source": [
        "mat.itemsize"
      ],
      "metadata": {
        "colab": {
          "base_uri": "https://localhost:8080/"
        },
        "id": "aGrodmlshZbr",
        "outputId": "f9bdd328-9a95-448f-8f13-e274df4bd3b6"
      },
      "execution_count": null,
      "outputs": [
        {
          "output_type": "execute_result",
          "data": {
            "text/plain": [
              "8"
            ]
          },
          "metadata": {},
          "execution_count": 54
        }
      ]
    },
    {
      "cell_type": "code",
      "source": [
        "mat = np.full((5,5), 99)"
      ],
      "metadata": {
        "id": "2SHdnU8elysW"
      },
      "execution_count": null,
      "outputs": []
    },
    {
      "cell_type": "code",
      "source": [
        "mat.dtype"
      ],
      "metadata": {
        "colab": {
          "base_uri": "https://localhost:8080/",
          "height": 139
        },
        "id": "fgGt_JNPlypG",
        "outputId": "dba10ca0-097f-4661-d97e-521a6eed5b23"
      },
      "execution_count": null,
      "outputs": [
        {
          "output_type": "error",
          "ename": "NameError",
          "evalue": "name 'mat' is not defined",
          "traceback": [
            "\u001b[0;31m---------------------------------------------------------------------------\u001b[0m",
            "\u001b[0;31mNameError\u001b[0m                                 Traceback (most recent call last)",
            "\u001b[0;32m<ipython-input-4-3b25febbf25e>\u001b[0m in \u001b[0;36m<cell line: 0>\u001b[0;34m()\u001b[0m\n\u001b[0;32m----> 1\u001b[0;31m \u001b[0mmat\u001b[0m\u001b[0;34m.\u001b[0m\u001b[0mdtype\u001b[0m\u001b[0;34m\u001b[0m\u001b[0;34m\u001b[0m\u001b[0m\n\u001b[0m",
            "\u001b[0;31mNameError\u001b[0m: name 'mat' is not defined"
          ]
        }
      ]
    },
    {
      "cell_type": "code",
      "source": [
        "mat = np.full((5,5), 99, dtype='int8')"
      ],
      "metadata": {
        "id": "ibP9js2Qlym4"
      },
      "execution_count": null,
      "outputs": []
    },
    {
      "cell_type": "code",
      "source": [
        "mat"
      ],
      "metadata": {
        "colab": {
          "base_uri": "https://localhost:8080/"
        },
        "id": "P0aLMK7wlylE",
        "outputId": "3065fd23-45b4-4e36-ae40-6b5ceb58a6ac"
      },
      "execution_count": null,
      "outputs": [
        {
          "output_type": "execute_result",
          "data": {
            "text/plain": [
              "array([[99, 99, 99, 99, 99],\n",
              "       [99, 99, 99, 99, 99],\n",
              "       [99, 99, 99, 99, 99],\n",
              "       [99, 99, 99, 99, 99],\n",
              "       [99, 99, 99, 99, 99]], dtype=int8)"
            ]
          },
          "metadata": {},
          "execution_count": 5
        }
      ]
    },
    {
      "cell_type": "code",
      "source": [
        "mat2 = np.full_like(mat, 14 )"
      ],
      "metadata": {
        "id": "T9Kmmh6PlyjW"
      },
      "execution_count": null,
      "outputs": []
    },
    {
      "cell_type": "code",
      "source": [
        "print(mat)\n",
        "print(\"---------------\")\n",
        "print(mat2)\n"
      ],
      "metadata": {
        "colab": {
          "base_uri": "https://localhost:8080/"
        },
        "id": "9FqPMyJ9lyfC",
        "outputId": "3e937328-39bf-43f4-d043-86c9ff9eca21"
      },
      "execution_count": null,
      "outputs": [
        {
          "output_type": "stream",
          "name": "stdout",
          "text": [
            "[[99 99 99 99 99]\n",
            " [99 99 99 99 99]\n",
            " [99 99 99 99 99]\n",
            " [99 99 99 99 99]\n",
            " [99 99 99 99 99]]\n",
            "---------------\n",
            "[[14 14 14 14 14]\n",
            " [14 14 14 14 14]\n",
            " [14 14 14 14 14]\n",
            " [14 14 14 14 14]\n",
            " [14 14 14 14 14]]\n"
          ]
        }
      ]
    },
    {
      "cell_type": "code",
      "source": [
        "np.random.rand(4,2)"
      ],
      "metadata": {
        "colab": {
          "base_uri": "https://localhost:8080/"
        },
        "id": "ILbknN8VlyY-",
        "outputId": "32bc54a1-2ff0-475c-999f-8fa0ecac5dcf"
      },
      "execution_count": null,
      "outputs": [
        {
          "output_type": "execute_result",
          "data": {
            "text/plain": [
              "array([[0.51397704, 0.31748177],\n",
              "       [0.85449115, 0.33311095],\n",
              "       [0.44035454, 0.8284571 ],\n",
              "       [0.40088054, 0.9236083 ]])"
            ]
          },
          "metadata": {},
          "execution_count": 13
        }
      ]
    },
    {
      "cell_type": "code",
      "source": [
        "np.random.random((2,2))"
      ],
      "metadata": {
        "colab": {
          "base_uri": "https://localhost:8080/"
        },
        "id": "neDDIMYgoJu9",
        "outputId": "d4b56448-271a-4c62-fec7-3f1080ac2d82"
      },
      "execution_count": null,
      "outputs": [
        {
          "output_type": "execute_result",
          "data": {
            "text/plain": [
              "array([[0.35594804, 0.08908099],\n",
              "       [0.06099766, 0.41623897]])"
            ]
          },
          "metadata": {},
          "execution_count": 23
        }
      ]
    },
    {
      "cell_type": "code",
      "source": [
        "aux = np.random.randn(4,2)\n",
        "aux"
      ],
      "metadata": {
        "colab": {
          "base_uri": "https://localhost:8080/"
        },
        "id": "y6-GtQVZoJrB",
        "outputId": "c31b8194-5448-48bc-8f0b-60766a41a63a"
      },
      "execution_count": null,
      "outputs": [
        {
          "output_type": "execute_result",
          "data": {
            "text/plain": [
              "array([[-0.00261994,  1.72018073],\n",
              "       [-0.17240999, -1.66440424],\n",
              "       [-0.05964127,  0.76430213],\n",
              "       [-1.96719994,  0.36678317]])"
            ]
          },
          "metadata": {},
          "execution_count": 52
        }
      ]
    },
    {
      "cell_type": "code",
      "source": [
        "np.average(aux)"
      ],
      "metadata": {
        "colab": {
          "base_uri": "https://localhost:8080/"
        },
        "id": "ouQf0SOhoJnd",
        "outputId": "4959e581-2961-4d98-bdce-afbe125c1f61"
      },
      "execution_count": null,
      "outputs": [
        {
          "output_type": "execute_result",
          "data": {
            "text/plain": [
              "-0.1268761705318418"
            ]
          },
          "metadata": {},
          "execution_count": 53
        }
      ]
    },
    {
      "cell_type": "code",
      "source": [
        "np.std(aux)"
      ],
      "metadata": {
        "colab": {
          "base_uri": "https://localhost:8080/"
        },
        "id": "PvYfXUdRoJko",
        "outputId": "b7fce23f-3313-4137-96f5-99c25a5a34e7"
      },
      "execution_count": null,
      "outputs": [
        {
          "output_type": "execute_result",
          "data": {
            "text/plain": [
              "1.1303945733332807"
            ]
          },
          "metadata": {},
          "execution_count": 54
        }
      ]
    },
    {
      "cell_type": "code",
      "source": [
        "np.random.randint(192,3213, size=(3,3))"
      ],
      "metadata": {
        "colab": {
          "base_uri": "https://localhost:8080/"
        },
        "id": "JD2it05ZoJgv",
        "outputId": "87f19f33-668d-413b-9382-f48a9a152a8b"
      },
      "execution_count": null,
      "outputs": [
        {
          "output_type": "execute_result",
          "data": {
            "text/plain": [
              "array([[2745, 1382, 3176],\n",
              "       [1997, 2626, 1898],\n",
              "       [ 733,  554,  467]])"
            ]
          },
          "metadata": {},
          "execution_count": 61
        }
      ]
    },
    {
      "cell_type": "code",
      "source": [
        "np.random.random_sample(aux.shape) # ..._like"
      ],
      "metadata": {
        "id": "WgxhtuU3oJZb"
      },
      "execution_count": null,
      "outputs": []
    },
    {
      "cell_type": "code",
      "source": [
        "np.identity(5)"
      ],
      "metadata": {
        "id": "NWL0l-0toJST",
        "colab": {
          "base_uri": "https://localhost:8080/"
        },
        "outputId": "02a2b3ff-eb2c-497e-a862-348d801257c1"
      },
      "execution_count": 64,
      "outputs": [
        {
          "output_type": "execute_result",
          "data": {
            "text/plain": [
              "array([[1., 0., 0., 0., 0.],\n",
              "       [0., 1., 0., 0., 0.],\n",
              "       [0., 0., 1., 0., 0.],\n",
              "       [0., 0., 0., 1., 0.],\n",
              "       [0., 0., 0., 0., 1.]])"
            ]
          },
          "metadata": {},
          "execution_count": 64
        }
      ]
    },
    {
      "cell_type": "code",
      "source": [
        "aux = np.array([[2745, 1382, 3176], ])\n",
        "aux"
      ],
      "metadata": {
        "colab": {
          "base_uri": "https://localhost:8080/"
        },
        "id": "IcxGEdx-zBCX",
        "outputId": "c91b1816-b4f6-4a83-fa0d-6d056b3d47ac"
      },
      "execution_count": 76,
      "outputs": [
        {
          "output_type": "execute_result",
          "data": {
            "text/plain": [
              "array([[2745, 1382, 3176]])"
            ]
          },
          "metadata": {},
          "execution_count": 76
        }
      ]
    },
    {
      "cell_type": "code",
      "source": [
        "np.repeat(aux, 3, axis=0)"
      ],
      "metadata": {
        "id": "JDM3fXtXrZHO",
        "colab": {
          "base_uri": "https://localhost:8080/"
        },
        "outputId": "e92ca9b7-7cac-45fc-ab24-71d48c7930ba"
      },
      "execution_count": 78,
      "outputs": [
        {
          "output_type": "execute_result",
          "data": {
            "text/plain": [
              "array([[2745, 1382, 3176],\n",
              "       [2745, 1382, 3176],\n",
              "       [2745, 1382, 3176]])"
            ]
          },
          "metadata": {},
          "execution_count": 78
        }
      ]
    },
    {
      "cell_type": "code",
      "source": [
        "newMat = np.random.randint(1,10, size=(5,2))\n",
        "newMat"
      ],
      "metadata": {
        "id": "xbXTYO4EoJIE",
        "colab": {
          "base_uri": "https://localhost:8080/"
        },
        "outputId": "8b5caf76-e6af-4766-9dd1-0220fc7ae173"
      },
      "execution_count": 83,
      "outputs": [
        {
          "output_type": "execute_result",
          "data": {
            "text/plain": [
              "array([[1, 9],\n",
              "       [8, 8],\n",
              "       [5, 1],\n",
              "       [6, 1],\n",
              "       [8, 4]])"
            ]
          },
          "metadata": {},
          "execution_count": 83
        }
      ]
    },
    {
      "cell_type": "code",
      "source": [
        "np.sum(newMat)"
      ],
      "metadata": {
        "id": "L4TxD6vsoJCw",
        "colab": {
          "base_uri": "https://localhost:8080/"
        },
        "outputId": "067b03a6-315b-4210-d202-83ef1c39a558"
      },
      "execution_count": 80,
      "outputs": [
        {
          "output_type": "execute_result",
          "data": {
            "text/plain": [
              "122"
            ]
          },
          "metadata": {},
          "execution_count": 80
        }
      ]
    },
    {
      "cell_type": "code",
      "source": [
        "np.sum(newMat, axis=0) #col"
      ],
      "metadata": {
        "id": "gJUUNmogoI_9",
        "colab": {
          "base_uri": "https://localhost:8080/"
        },
        "outputId": "4781fa14-ff7c-4295-d74f-aa417d7fe6f0"
      },
      "execution_count": 84,
      "outputs": [
        {
          "output_type": "execute_result",
          "data": {
            "text/plain": [
              "array([28, 23])"
            ]
          },
          "metadata": {},
          "execution_count": 84
        }
      ]
    },
    {
      "cell_type": "code",
      "source": [
        "np.sum(newMat, axis=1) # linhas"
      ],
      "metadata": {
        "id": "TY72F19QoI8o",
        "colab": {
          "base_uri": "https://localhost:8080/"
        },
        "outputId": "7565aa3a-9706-4c15-d57f-a5b32dcb2d19"
      },
      "execution_count": 85,
      "outputs": [
        {
          "output_type": "execute_result",
          "data": {
            "text/plain": [
              "array([10, 16,  6,  7, 12])"
            ]
          },
          "metadata": {},
          "execution_count": 85
        }
      ]
    },
    {
      "cell_type": "code",
      "source": [
        "newMat.shape"
      ],
      "metadata": {
        "id": "DeguqikIoI4-",
        "colab": {
          "base_uri": "https://localhost:8080/"
        },
        "outputId": "95a5c53d-ae1e-4d04-d988-0dddb17250b4"
      },
      "execution_count": 86,
      "outputs": [
        {
          "output_type": "execute_result",
          "data": {
            "text/plain": [
              "(5, 2)"
            ]
          },
          "metadata": {},
          "execution_count": 86
        }
      ]
    },
    {
      "cell_type": "code",
      "source": [
        "newMat.reshape(2,5)"
      ],
      "metadata": {
        "id": "oCGR481IhZZE",
        "colab": {
          "base_uri": "https://localhost:8080/"
        },
        "outputId": "1cb8751c-aceb-4e25-868a-71e6e3fa17c8"
      },
      "execution_count": 87,
      "outputs": [
        {
          "output_type": "execute_result",
          "data": {
            "text/plain": [
              "array([[1, 9, 8, 8, 5],\n",
              "       [1, 6, 1, 8, 4]])"
            ]
          },
          "metadata": {},
          "execution_count": 87
        }
      ]
    },
    {
      "cell_type": "code",
      "source": [
        "newMat.reshape(1,10)"
      ],
      "metadata": {
        "colab": {
          "base_uri": "https://localhost:8080/"
        },
        "id": "G-fblLwb02sV",
        "outputId": "3597f7bc-f4cb-4a1b-f625-46ee4791c6b7"
      },
      "execution_count": 88,
      "outputs": [
        {
          "output_type": "execute_result",
          "data": {
            "text/plain": [
              "array([[1, 9, 8, 8, 5, 1, 6, 1, 8, 4]])"
            ]
          },
          "metadata": {},
          "execution_count": 88
        }
      ]
    },
    {
      "cell_type": "code",
      "source": [
        "newMat.reshape(10,1)"
      ],
      "metadata": {
        "colab": {
          "base_uri": "https://localhost:8080/"
        },
        "id": "kyqPDCkR02pQ",
        "outputId": "05a241bb-1dd9-4de3-8263-fa06916a196b"
      },
      "execution_count": 89,
      "outputs": [
        {
          "output_type": "execute_result",
          "data": {
            "text/plain": [
              "array([[1],\n",
              "       [9],\n",
              "       [8],\n",
              "       [8],\n",
              "       [5],\n",
              "       [1],\n",
              "       [6],\n",
              "       [1],\n",
              "       [8],\n",
              "       [4]])"
            ]
          },
          "metadata": {},
          "execution_count": 89
        }
      ]
    },
    {
      "cell_type": "markdown",
      "source": [
        "# read file"
      ],
      "metadata": {
        "id": "DYwRPrtR1RPQ"
      }
    },
    {
      "cell_type": "code",
      "source": [
        "fileData = np.loadtxt('data.txt', delimiter=',')"
      ],
      "metadata": {
        "id": "DM8CrKP-02m0"
      },
      "execution_count": 90,
      "outputs": []
    },
    {
      "cell_type": "code",
      "source": [
        "fileData"
      ],
      "metadata": {
        "colab": {
          "base_uri": "https://localhost:8080/"
        },
        "id": "PesvPeKf02jz",
        "outputId": "1f3d0caa-b2ef-4c2e-f9e2-0a115c89e496"
      },
      "execution_count": 91,
      "outputs": [
        {
          "output_type": "execute_result",
          "data": {
            "text/plain": [
              "array([[  1.,  13.,  21.,  11., 196.,  75.,   4.,   3.,  34.,   6.,   7.,\n",
              "          8.,   0.,   1.,   2.,   3.,   4.,   5.],\n",
              "       [  3.,  42.,  12.,  33., 766.,  75.,   4.,  55.,   6.,   4.,   3.,\n",
              "          4.,   5.,   6.,   7.,   0.,  11.,  12.],\n",
              "       [  1.,  22.,  33.,  11., 999.,  11.,   2.,   1.,  78.,   0.,   1.,\n",
              "          2.,   9.,   8.,   7.,   1.,  76.,  88.]])"
            ]
          },
          "metadata": {},
          "execution_count": 91
        }
      ]
    },
    {
      "cell_type": "code",
      "source": [
        "fileData.dtype"
      ],
      "metadata": {
        "colab": {
          "base_uri": "https://localhost:8080/"
        },
        "id": "8t-JvLUP02fT",
        "outputId": "d09d3692-380c-49d6-8c8c-b2bbd711a6de"
      },
      "execution_count": 93,
      "outputs": [
        {
          "output_type": "execute_result",
          "data": {
            "text/plain": [
              "dtype('float64')"
            ]
          },
          "metadata": {},
          "execution_count": 93
        }
      ]
    },
    {
      "cell_type": "code",
      "source": [
        "fileDataInt = fileData.astype('int32')\n",
        "fileDataInt"
      ],
      "metadata": {
        "colab": {
          "base_uri": "https://localhost:8080/"
        },
        "id": "ZhkvkmW202ba",
        "outputId": "698b1413-010a-4fd1-f36d-131951a5d614"
      },
      "execution_count": 99,
      "outputs": [
        {
          "output_type": "execute_result",
          "data": {
            "text/plain": [
              "array([[  1,  13,  21,  11, 196,  75,   4,   3,  34,   6,   7,   8,   0,\n",
              "          1,   2,   3,   4,   5],\n",
              "       [  3,  42,  12,  33, 766,  75,   4,  55,   6,   4,   3,   4,   5,\n",
              "          6,   7,   0,  11,  12],\n",
              "       [  1,  22,  33,  11, 999,  11,   2,   1,  78,   0,   1,   2,   9,\n",
              "          8,   7,   1,  76,  88]], dtype=int32)"
            ]
          },
          "metadata": {},
          "execution_count": 99
        }
      ]
    },
    {
      "cell_type": "code",
      "source": [
        "fileDataInt.dtype"
      ],
      "metadata": {
        "colab": {
          "base_uri": "https://localhost:8080/"
        },
        "id": "lvzn4-Qv1tBG",
        "outputId": "b275b2e4-08d7-4a7a-d283-ce5cc02024a2"
      },
      "execution_count": 98,
      "outputs": [
        {
          "output_type": "execute_result",
          "data": {
            "text/plain": [
              "dtype('int32')"
            ]
          },
          "metadata": {},
          "execution_count": 98
        }
      ]
    },
    {
      "cell_type": "code",
      "source": [
        "res = fileDataInt > 50\n",
        "res"
      ],
      "metadata": {
        "colab": {
          "base_uri": "https://localhost:8080/"
        },
        "id": "aTaUu_aZ1s-I",
        "outputId": "c97bca36-2737-42e4-eb13-e38da1108b76"
      },
      "execution_count": 100,
      "outputs": [
        {
          "output_type": "execute_result",
          "data": {
            "text/plain": [
              "array([[False, False, False, False,  True,  True, False, False, False,\n",
              "        False, False, False, False, False, False, False, False, False],\n",
              "       [False, False, False, False,  True,  True, False,  True, False,\n",
              "        False, False, False, False, False, False, False, False, False],\n",
              "       [False, False, False, False,  True, False, False, False,  True,\n",
              "        False, False, False, False, False, False, False,  True,  True]])"
            ]
          },
          "metadata": {},
          "execution_count": 100
        }
      ]
    },
    {
      "cell_type": "code",
      "source": [
        "aux = fileData[res]"
      ],
      "metadata": {
        "id": "35QuLnHf1s7T"
      },
      "execution_count": 103,
      "outputs": []
    },
    {
      "cell_type": "code",
      "source": [
        "aux"
      ],
      "metadata": {
        "colab": {
          "base_uri": "https://localhost:8080/"
        },
        "id": "sF7aXnsK3ITN",
        "outputId": "c6b3fe5b-25a6-4193-adfb-dc6694811654"
      },
      "execution_count": 106,
      "outputs": [
        {
          "output_type": "execute_result",
          "data": {
            "text/plain": [
              "array([196.,  75., 766.,  75.,  55., 999.,  78.,  76.,  88.])"
            ]
          },
          "metadata": {},
          "execution_count": 106
        }
      ]
    },
    {
      "cell_type": "code",
      "source": [
        "aux[[4,1,2,5]]"
      ],
      "metadata": {
        "colab": {
          "base_uri": "https://localhost:8080/"
        },
        "id": "jUk-As6N1s4r",
        "outputId": "1287d8f1-8be4-43b5-9b67-e0a1b3e32174"
      },
      "execution_count": 105,
      "outputs": [
        {
          "output_type": "execute_result",
          "data": {
            "text/plain": [
              "array([ 55.,  75., 766., 999.])"
            ]
          },
          "metadata": {},
          "execution_count": 105
        }
      ]
    },
    {
      "cell_type": "code",
      "source": [
        "np.any(fileData > 50)"
      ],
      "metadata": {
        "colab": {
          "base_uri": "https://localhost:8080/"
        },
        "id": "oTXALf_q6Cbr",
        "outputId": "7c9dafb7-f962-4595-d5d0-59e1fdf17e85"
      },
      "execution_count": 108,
      "outputs": [
        {
          "output_type": "execute_result",
          "data": {
            "text/plain": [
              "True"
            ]
          },
          "metadata": {},
          "execution_count": 108
        }
      ]
    },
    {
      "cell_type": "code",
      "source": [
        "np.any(fileData > 50, axis=0)"
      ],
      "metadata": {
        "colab": {
          "base_uri": "https://localhost:8080/"
        },
        "id": "uyJF547i1s2E",
        "outputId": "b4c34f52-de53-4163-eca8-1c2f8f023a3b"
      },
      "execution_count": 107,
      "outputs": [
        {
          "output_type": "execute_result",
          "data": {
            "text/plain": [
              "array([False, False, False, False,  True,  True, False,  True,  True,\n",
              "       False, False, False, False, False, False, False,  True,  True])"
            ]
          },
          "metadata": {},
          "execution_count": 107
        }
      ]
    },
    {
      "cell_type": "code",
      "source": [
        "np.any(fileData > 50, axis=1)"
      ],
      "metadata": {
        "colab": {
          "base_uri": "https://localhost:8080/"
        },
        "id": "mTPNFWmd1szv",
        "outputId": "f9eebe27-3983-4775-e0e9-ca225146f4c0"
      },
      "execution_count": 109,
      "outputs": [
        {
          "output_type": "execute_result",
          "data": {
            "text/plain": [
              "array([ True,  True,  True])"
            ]
          },
          "metadata": {},
          "execution_count": 109
        }
      ]
    },
    {
      "cell_type": "code",
      "source": [
        "np.any(fileData, axis=1)"
      ],
      "metadata": {
        "colab": {
          "base_uri": "https://localhost:8080/"
        },
        "id": "R7h2lZT71sw2",
        "outputId": "e25f2d29-6932-4429-f94d-5e583ae85848"
      },
      "execution_count": 111,
      "outputs": [
        {
          "output_type": "execute_result",
          "data": {
            "text/plain": [
              "array([ True,  True,  True])"
            ]
          },
          "metadata": {},
          "execution_count": 111
        }
      ]
    },
    {
      "cell_type": "code",
      "source": [
        "aux2 = np.array([3,55,81 ])\n",
        "aux2"
      ],
      "metadata": {
        "colab": {
          "base_uri": "https://localhost:8080/"
        },
        "id": "FDEBaORA1st9",
        "outputId": "70487bc5-1a86-439c-f585-6b5b7c67466b"
      },
      "execution_count": 121,
      "outputs": [
        {
          "output_type": "execute_result",
          "data": {
            "text/plain": [
              "array([ 3, 55, 81])"
            ]
          },
          "metadata": {},
          "execution_count": 121
        }
      ]
    },
    {
      "cell_type": "code",
      "source": [
        "res2 = (fileDataInt > 50) & (fileDataInt < 100)\n",
        "res2"
      ],
      "metadata": {
        "colab": {
          "base_uri": "https://localhost:8080/"
        },
        "id": "NcZt9B4z6x6E",
        "outputId": "037f5ac6-f5f5-4708-c505-4688aa128687"
      },
      "execution_count": 124,
      "outputs": [
        {
          "output_type": "execute_result",
          "data": {
            "text/plain": [
              "array([[False, False, False, False, False,  True, False, False, False,\n",
              "        False, False, False, False, False, False, False, False, False],\n",
              "       [False, False, False, False, False,  True, False,  True, False,\n",
              "        False, False, False, False, False, False, False, False, False],\n",
              "       [False, False, False, False, False, False, False, False,  True,\n",
              "        False, False, False, False, False, False, False,  True,  True]])"
            ]
          },
          "metadata": {},
          "execution_count": 124
        }
      ]
    },
    {
      "cell_type": "code",
      "source": [
        "fileDataInt[res2]"
      ],
      "metadata": {
        "colab": {
          "base_uri": "https://localhost:8080/"
        },
        "id": "BtKC9BmU1sq8",
        "outputId": "54e2bf37-eecf-495a-ab13-7386acb19382"
      },
      "execution_count": 125,
      "outputs": [
        {
          "output_type": "execute_result",
          "data": {
            "text/plain": [
              "array([75, 75, 55, 78, 76, 88], dtype=int32)"
            ]
          },
          "metadata": {},
          "execution_count": 125
        }
      ]
    },
    {
      "cell_type": "code",
      "source": [],
      "metadata": {
        "id": "z0oPtc1R1snw"
      },
      "execution_count": null,
      "outputs": []
    }
  ]
}