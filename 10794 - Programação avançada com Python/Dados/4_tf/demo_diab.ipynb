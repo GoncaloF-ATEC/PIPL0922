{
 "cells": [
  {
   "cell_type": "code",
   "id": "initial_id",
   "metadata": {
    "collapsed": true,
    "ExecuteTime": {
     "end_time": "2025-03-13T13:57:41.741384Z",
     "start_time": "2025-03-13T13:57:41.735557Z"
    }
   },
   "source": [
    "import numpy as np\n",
    "import matplotlib.pyplot as plt\n",
    "import pandas as pd"
   ],
   "outputs": [],
   "execution_count": 174
  },
  {
   "metadata": {},
   "cell_type": "markdown",
   "source": "# Lib para IA",
   "id": "2b0cc5994738269f"
  },
  {
   "metadata": {
    "ExecuteTime": {
     "end_time": "2025-03-13T13:57:41.759516Z",
     "start_time": "2025-03-13T13:57:41.752790Z"
    }
   },
   "cell_type": "code",
   "source": [
    "import tensorflow as tf\n",
    "import tensorflow_hub as hub"
   ],
   "id": "36b4861a64fec7da",
   "outputs": [],
   "execution_count": 175
  },
  {
   "metadata": {
    "ExecuteTime": {
     "end_time": "2025-03-13T13:57:41.794241Z",
     "start_time": "2025-03-13T13:57:41.788951Z"
    }
   },
   "cell_type": "code",
   "source": "from sklearn.model_selection import train_test_split",
   "id": "fb58ce04a18cf978",
   "outputs": [],
   "execution_count": 176
  },
  {
   "metadata": {},
   "cell_type": "markdown",
   "source": "# analise dos dados",
   "id": "4560731a4233ab69"
  },
  {
   "metadata": {
    "ExecuteTime": {
     "end_time": "2025-03-13T13:57:41.854790Z",
     "start_time": "2025-03-13T13:57:41.825040Z"
    }
   },
   "cell_type": "code",
   "source": "df = pd.read_csv('diabetes.csv')",
   "id": "d8e469c8892fb9cb",
   "outputs": [],
   "execution_count": 177
  },
  {
   "metadata": {
    "ExecuteTime": {
     "end_time": "2025-03-13T13:57:41.901560Z",
     "start_time": "2025-03-13T13:57:41.882528Z"
    }
   },
   "cell_type": "code",
   "source": "df.head()",
   "id": "acbf00aaa7f0ae55",
   "outputs": [
    {
     "data": {
      "text/plain": [
       "   Pregnancies  Glucose  BloodPressure  SkinThickness  Insulin   BMI  \\\n",
       "0            6      148             72             35        0  33.6   \n",
       "1            1       85             66             29        0  26.6   \n",
       "2            8      183             64              0        0  23.3   \n",
       "3            1       89             66             23       94  28.1   \n",
       "4            0      137             40             35      168  43.1   \n",
       "\n",
       "   DiabetesPedigreeFunction  Age  Outcome  \n",
       "0                     0.627   50        1  \n",
       "1                     0.351   31        0  \n",
       "2                     0.672   32        1  \n",
       "3                     0.167   21        0  \n",
       "4                     2.288   33        1  "
      ],
      "text/html": [
       "<div>\n",
       "<style scoped>\n",
       "    .dataframe tbody tr th:only-of-type {\n",
       "        vertical-align: middle;\n",
       "    }\n",
       "\n",
       "    .dataframe tbody tr th {\n",
       "        vertical-align: top;\n",
       "    }\n",
       "\n",
       "    .dataframe thead th {\n",
       "        text-align: right;\n",
       "    }\n",
       "</style>\n",
       "<table border=\"1\" class=\"dataframe\">\n",
       "  <thead>\n",
       "    <tr style=\"text-align: right;\">\n",
       "      <th></th>\n",
       "      <th>Pregnancies</th>\n",
       "      <th>Glucose</th>\n",
       "      <th>BloodPressure</th>\n",
       "      <th>SkinThickness</th>\n",
       "      <th>Insulin</th>\n",
       "      <th>BMI</th>\n",
       "      <th>DiabetesPedigreeFunction</th>\n",
       "      <th>Age</th>\n",
       "      <th>Outcome</th>\n",
       "    </tr>\n",
       "  </thead>\n",
       "  <tbody>\n",
       "    <tr>\n",
       "      <th>0</th>\n",
       "      <td>6</td>\n",
       "      <td>148</td>\n",
       "      <td>72</td>\n",
       "      <td>35</td>\n",
       "      <td>0</td>\n",
       "      <td>33.6</td>\n",
       "      <td>0.627</td>\n",
       "      <td>50</td>\n",
       "      <td>1</td>\n",
       "    </tr>\n",
       "    <tr>\n",
       "      <th>1</th>\n",
       "      <td>1</td>\n",
       "      <td>85</td>\n",
       "      <td>66</td>\n",
       "      <td>29</td>\n",
       "      <td>0</td>\n",
       "      <td>26.6</td>\n",
       "      <td>0.351</td>\n",
       "      <td>31</td>\n",
       "      <td>0</td>\n",
       "    </tr>\n",
       "    <tr>\n",
       "      <th>2</th>\n",
       "      <td>8</td>\n",
       "      <td>183</td>\n",
       "      <td>64</td>\n",
       "      <td>0</td>\n",
       "      <td>0</td>\n",
       "      <td>23.3</td>\n",
       "      <td>0.672</td>\n",
       "      <td>32</td>\n",
       "      <td>1</td>\n",
       "    </tr>\n",
       "    <tr>\n",
       "      <th>3</th>\n",
       "      <td>1</td>\n",
       "      <td>89</td>\n",
       "      <td>66</td>\n",
       "      <td>23</td>\n",
       "      <td>94</td>\n",
       "      <td>28.1</td>\n",
       "      <td>0.167</td>\n",
       "      <td>21</td>\n",
       "      <td>0</td>\n",
       "    </tr>\n",
       "    <tr>\n",
       "      <th>4</th>\n",
       "      <td>0</td>\n",
       "      <td>137</td>\n",
       "      <td>40</td>\n",
       "      <td>35</td>\n",
       "      <td>168</td>\n",
       "      <td>43.1</td>\n",
       "      <td>2.288</td>\n",
       "      <td>33</td>\n",
       "      <td>1</td>\n",
       "    </tr>\n",
       "  </tbody>\n",
       "</table>\n",
       "</div>"
      ]
     },
     "execution_count": 178,
     "metadata": {},
     "output_type": "execute_result"
    }
   ],
   "execution_count": 178
  },
  {
   "metadata": {
    "ExecuteTime": {
     "end_time": "2025-03-13T13:57:42.007010Z",
     "start_time": "2025-03-13T13:57:42.000040Z"
    }
   },
   "cell_type": "code",
   "source": "df.columns",
   "id": "8dd66f3f12559eca",
   "outputs": [
    {
     "data": {
      "text/plain": [
       "Index(['Pregnancies', 'Glucose', 'BloodPressure', 'SkinThickness', 'Insulin',\n",
       "       'BMI', 'DiabetesPedigreeFunction', 'Age', 'Outcome'],\n",
       "      dtype='object')"
      ]
     },
     "execution_count": 179,
     "metadata": {},
     "output_type": "execute_result"
    }
   ],
   "execution_count": 179
  },
  {
   "metadata": {},
   "cell_type": "markdown",
   "source": [
    "X - Dados\n",
    "y - outcome"
   ],
   "id": "611fbc84918e2d63"
  },
  {
   "metadata": {
    "ExecuteTime": {
     "end_time": "2025-03-13T13:57:42.143156Z",
     "start_time": "2025-03-13T13:57:42.118591Z"
    }
   },
   "cell_type": "code",
   "source": [
    "x = df[df.columns[:-1]]\n",
    "x"
   ],
   "id": "668ebfdcc618422b",
   "outputs": [
    {
     "data": {
      "text/plain": [
       "     Pregnancies  Glucose  BloodPressure  SkinThickness  Insulin   BMI  \\\n",
       "0              6      148             72             35        0  33.6   \n",
       "1              1       85             66             29        0  26.6   \n",
       "2              8      183             64              0        0  23.3   \n",
       "3              1       89             66             23       94  28.1   \n",
       "4              0      137             40             35      168  43.1   \n",
       "..           ...      ...            ...            ...      ...   ...   \n",
       "763           10      101             76             48      180  32.9   \n",
       "764            2      122             70             27        0  36.8   \n",
       "765            5      121             72             23      112  26.2   \n",
       "766            1      126             60              0        0  30.1   \n",
       "767            1       93             70             31        0  30.4   \n",
       "\n",
       "     DiabetesPedigreeFunction  Age  \n",
       "0                       0.627   50  \n",
       "1                       0.351   31  \n",
       "2                       0.672   32  \n",
       "3                       0.167   21  \n",
       "4                       2.288   33  \n",
       "..                        ...  ...  \n",
       "763                     0.171   63  \n",
       "764                     0.340   27  \n",
       "765                     0.245   30  \n",
       "766                     0.349   47  \n",
       "767                     0.315   23  \n",
       "\n",
       "[768 rows x 8 columns]"
      ],
      "text/html": [
       "<div>\n",
       "<style scoped>\n",
       "    .dataframe tbody tr th:only-of-type {\n",
       "        vertical-align: middle;\n",
       "    }\n",
       "\n",
       "    .dataframe tbody tr th {\n",
       "        vertical-align: top;\n",
       "    }\n",
       "\n",
       "    .dataframe thead th {\n",
       "        text-align: right;\n",
       "    }\n",
       "</style>\n",
       "<table border=\"1\" class=\"dataframe\">\n",
       "  <thead>\n",
       "    <tr style=\"text-align: right;\">\n",
       "      <th></th>\n",
       "      <th>Pregnancies</th>\n",
       "      <th>Glucose</th>\n",
       "      <th>BloodPressure</th>\n",
       "      <th>SkinThickness</th>\n",
       "      <th>Insulin</th>\n",
       "      <th>BMI</th>\n",
       "      <th>DiabetesPedigreeFunction</th>\n",
       "      <th>Age</th>\n",
       "    </tr>\n",
       "  </thead>\n",
       "  <tbody>\n",
       "    <tr>\n",
       "      <th>0</th>\n",
       "      <td>6</td>\n",
       "      <td>148</td>\n",
       "      <td>72</td>\n",
       "      <td>35</td>\n",
       "      <td>0</td>\n",
       "      <td>33.6</td>\n",
       "      <td>0.627</td>\n",
       "      <td>50</td>\n",
       "    </tr>\n",
       "    <tr>\n",
       "      <th>1</th>\n",
       "      <td>1</td>\n",
       "      <td>85</td>\n",
       "      <td>66</td>\n",
       "      <td>29</td>\n",
       "      <td>0</td>\n",
       "      <td>26.6</td>\n",
       "      <td>0.351</td>\n",
       "      <td>31</td>\n",
       "    </tr>\n",
       "    <tr>\n",
       "      <th>2</th>\n",
       "      <td>8</td>\n",
       "      <td>183</td>\n",
       "      <td>64</td>\n",
       "      <td>0</td>\n",
       "      <td>0</td>\n",
       "      <td>23.3</td>\n",
       "      <td>0.672</td>\n",
       "      <td>32</td>\n",
       "    </tr>\n",
       "    <tr>\n",
       "      <th>3</th>\n",
       "      <td>1</td>\n",
       "      <td>89</td>\n",
       "      <td>66</td>\n",
       "      <td>23</td>\n",
       "      <td>94</td>\n",
       "      <td>28.1</td>\n",
       "      <td>0.167</td>\n",
       "      <td>21</td>\n",
       "    </tr>\n",
       "    <tr>\n",
       "      <th>4</th>\n",
       "      <td>0</td>\n",
       "      <td>137</td>\n",
       "      <td>40</td>\n",
       "      <td>35</td>\n",
       "      <td>168</td>\n",
       "      <td>43.1</td>\n",
       "      <td>2.288</td>\n",
       "      <td>33</td>\n",
       "    </tr>\n",
       "    <tr>\n",
       "      <th>...</th>\n",
       "      <td>...</td>\n",
       "      <td>...</td>\n",
       "      <td>...</td>\n",
       "      <td>...</td>\n",
       "      <td>...</td>\n",
       "      <td>...</td>\n",
       "      <td>...</td>\n",
       "      <td>...</td>\n",
       "    </tr>\n",
       "    <tr>\n",
       "      <th>763</th>\n",
       "      <td>10</td>\n",
       "      <td>101</td>\n",
       "      <td>76</td>\n",
       "      <td>48</td>\n",
       "      <td>180</td>\n",
       "      <td>32.9</td>\n",
       "      <td>0.171</td>\n",
       "      <td>63</td>\n",
       "    </tr>\n",
       "    <tr>\n",
       "      <th>764</th>\n",
       "      <td>2</td>\n",
       "      <td>122</td>\n",
       "      <td>70</td>\n",
       "      <td>27</td>\n",
       "      <td>0</td>\n",
       "      <td>36.8</td>\n",
       "      <td>0.340</td>\n",
       "      <td>27</td>\n",
       "    </tr>\n",
       "    <tr>\n",
       "      <th>765</th>\n",
       "      <td>5</td>\n",
       "      <td>121</td>\n",
       "      <td>72</td>\n",
       "      <td>23</td>\n",
       "      <td>112</td>\n",
       "      <td>26.2</td>\n",
       "      <td>0.245</td>\n",
       "      <td>30</td>\n",
       "    </tr>\n",
       "    <tr>\n",
       "      <th>766</th>\n",
       "      <td>1</td>\n",
       "      <td>126</td>\n",
       "      <td>60</td>\n",
       "      <td>0</td>\n",
       "      <td>0</td>\n",
       "      <td>30.1</td>\n",
       "      <td>0.349</td>\n",
       "      <td>47</td>\n",
       "    </tr>\n",
       "    <tr>\n",
       "      <th>767</th>\n",
       "      <td>1</td>\n",
       "      <td>93</td>\n",
       "      <td>70</td>\n",
       "      <td>31</td>\n",
       "      <td>0</td>\n",
       "      <td>30.4</td>\n",
       "      <td>0.315</td>\n",
       "      <td>23</td>\n",
       "    </tr>\n",
       "  </tbody>\n",
       "</table>\n",
       "<p>768 rows × 8 columns</p>\n",
       "</div>"
      ]
     },
     "execution_count": 180,
     "metadata": {},
     "output_type": "execute_result"
    }
   ],
   "execution_count": 180
  },
  {
   "metadata": {},
   "cell_type": "markdown",
   "source": "",
   "id": "a7916c65820242e7"
  },
  {
   "metadata": {
    "ExecuteTime": {
     "end_time": "2025-03-13T13:57:42.316840Z",
     "start_time": "2025-03-13T13:57:42.303267Z"
    }
   },
   "cell_type": "code",
   "source": [
    "y = df[df.columns[-1]]\n",
    "y"
   ],
   "id": "f6f1cbbb54b7f1",
   "outputs": [
    {
     "data": {
      "text/plain": [
       "0      1\n",
       "1      0\n",
       "2      1\n",
       "3      0\n",
       "4      1\n",
       "      ..\n",
       "763    0\n",
       "764    0\n",
       "765    0\n",
       "766    1\n",
       "767    0\n",
       "Name: Outcome, Length: 768, dtype: int64"
      ]
     },
     "execution_count": 181,
     "metadata": {},
     "output_type": "execute_result"
    }
   ],
   "execution_count": 181
  },
  {
   "metadata": {
    "ExecuteTime": {
     "end_time": "2025-03-13T13:57:42.647130Z",
     "start_time": "2025-03-13T13:57:42.633615Z"
    }
   },
   "cell_type": "code",
   "source": [
    "df[df[\"Outcome\"] == 1]\n",
    "df[df[\"Outcome\"] == 0][\"BMI\"]"
   ],
   "id": "2a3e93e6f37f6c31",
   "outputs": [
    {
     "data": {
      "text/plain": [
       "1      26.6\n",
       "3      28.1\n",
       "5      25.6\n",
       "7      35.3\n",
       "10     37.6\n",
       "       ... \n",
       "762    22.5\n",
       "763    32.9\n",
       "764    36.8\n",
       "765    26.2\n",
       "767    30.4\n",
       "Name: BMI, Length: 500, dtype: float64"
      ]
     },
     "execution_count": 182,
     "metadata": {},
     "output_type": "execute_result"
    }
   ],
   "execution_count": 182
  },
  {
   "metadata": {
    "ExecuteTime": {
     "end_time": "2025-03-13T13:57:45.849577Z",
     "start_time": "2025-03-13T13:57:42.996952Z"
    }
   },
   "cell_type": "code",
   "source": [
    "for i in range(len(df.columns[:-1])):\n",
    "    lbl = df.columns[i]\n",
    "    plt.hist(df[df[\"Outcome\"] == 1][lbl], label=\"Diabetes\", color=\"red\", alpha=0.7, density=True)\n",
    "    plt.hist(df[df[\"Outcome\"] == 0][lbl], label=\"no Diabetes\", color=\"blue\", alpha=0.7, density=True)\n",
    "    plt.xlabel(lbl)\n",
    "    plt.ylabel(\"Probabilidade\")\n",
    "    plt.legend()\n",
    "    plt.show()"
   ],
   "id": "187fc991d44258a1",
   "outputs": [
    {
     "data": {
      "text/plain": [
       "<Figure size 640x480 with 1 Axes>"
      ],
      "image/png": "[encoded data removed]"
     },
     "metadata": {},
     "output_type": "display_data"
    },
    {
     "data": {
      "text/plain": [
       "<Figure size 640x480 with 1 Axes>"
      ],
      "image/png": "[encoded data removed]"
     },
     "metadata": {},
     "output_type": "display_data"
    },
    {
     "data": {
      "text/plain": [
       "<Figure size 640x480 with 1 Axes>"
      ],
      "image/png": "[encoded data removed]"
     },
     "metadata": {},
     "output_type": "display_data"
    },
    {
     "data": {
      "text/plain": [
       "<Figure size 640x480 with 1 Axes>"
      ],
      "image/png": "[encoded data removed]"
     },
     "metadata": {},
     "output_type": "display_data"
    },
    {
     "data": {
      "text/plain": [
       "<Figure size 640x480 with 1 Axes>"
      ],
      "image/png": "[encoded data removed]"
     },
     "metadata": {},
     "output_type": "display_data"
    },
    {
     "data": {
      "text/plain": [
       "<Figure size 640x480 with 1 Axes>"
      ],
      "image/png": "[encoded data removed]"
     },
     "metadata": {},
     "output_type": "display_data"
    },
    {
     "data": {
      "text/plain": [
       "<Figure size 640x480 with 1 Axes>"
      ],
      "image/png": "[encoded data removed]"
     },
     "metadata": {},
     "output_type": "display_data"
    },
    {
     "data": {
      "text/plain": [
       "<Figure size 640x480 with 1 Axes>"
      ],
      "image/png": "[encoded data removed]"
     },
     "metadata": {},
     "output_type": "display_data"
    }
   ],
   "execution_count": 183
  },
  {
   "metadata": {
    "ExecuteTime": {
     "end_time": "2025-03-13T13:57:46.054148Z",
     "start_time": "2025-03-13T13:57:46.046147Z"
    }
   },
   "cell_type": "code",
   "source": [
    "x = df[df.columns[:-1]].values\n",
    "type(x)"
   ],
   "id": "7932fac8b6b8faec",
   "outputs": [
    {
     "data": {
      "text/plain": [
       "numpy.ndarray"
      ]
     },
     "execution_count": 184,
     "metadata": {},
     "output_type": "execute_result"
    }
   ],
   "execution_count": 184
  },
  {
   "metadata": {
    "ExecuteTime": {
     "end_time": "2025-03-13T13:57:46.186812Z",
     "start_time": "2025-03-13T13:57:46.178782Z"
    }
   },
   "cell_type": "code",
   "source": [
    "y = df[df.columns[-1]].values\n",
    "type(y)"
   ],
   "id": "c0b0af08982acecb",
   "outputs": [
    {
     "data": {
      "text/plain": [
       "numpy.ndarray"
      ]
     },
     "execution_count": 185,
     "metadata": {},
     "output_type": "execute_result"
    }
   ],
   "execution_count": 185
  },
  {
   "metadata": {},
   "cell_type": "markdown",
   "source": [
    "# Split dos dados\n",
    "\n",
    "* set de treino(60%)      - treinar o modelo\n",
    "* set de teste(20%)    - teste o modelo durante o treino\n",
    "* set de validação(20%)  - testar o modelo\n",
    "\n"
   ],
   "id": "980ddb1b1c602865"
  },
  {
   "metadata": {
    "ExecuteTime": {
     "end_time": "2025-03-13T13:57:46.233185Z",
     "start_time": "2025-03-13T13:57:46.222020Z"
    }
   },
   "cell_type": "code",
   "source": [
    "x_train, x_temp, y_train, y_temp = train_test_split(x, y, test_size=0.4, random_state=0)\n",
    "x_test, x_val, y_test, y_val = train_test_split(x_temp, y_temp, test_size=0.5, random_state=0)"
   ],
   "id": "8a8be72d003dab29",
   "outputs": [],
   "execution_count": 186
  },
  {
   "metadata": {
    "ExecuteTime": {
     "end_time": "2025-03-13T13:57:46.281559Z",
     "start_time": "2025-03-13T13:57:46.269881Z"
    }
   },
   "cell_type": "code",
   "source": [
    "len(x_train), len(x_test), len(x_val)\n",
    "\n",
    "x_train"
   ],
   "id": "8b4df18d96212bed",
   "outputs": [
    {
     "data": {
      "text/plain": [
       "array([[  3.   , 130.   ,  78.   , ...,  28.4  ,   0.323,  34.   ],\n",
       "       [  1.   ,  80.   ,  74.   , ...,  30.   ,   0.527,  22.   ],\n",
       "       [  4.   , 144.   ,  58.   , ...,  29.5  ,   0.287,  37.   ],\n",
       "       ...,\n",
       "       [  4.   ,  94.   ,  65.   , ...,  24.7  ,   0.148,  21.   ],\n",
       "       [ 11.   ,  85.   ,  74.   , ...,  30.1  ,   0.3  ,  35.   ],\n",
       "       [  5.   , 136.   ,  82.   , ...,   0.   ,   0.64 ,  69.   ]])"
      ]
     },
     "execution_count": 187,
     "metadata": {},
     "output_type": "execute_result"
    }
   ],
   "execution_count": 187
  },
  {
   "metadata": {},
   "cell_type": "markdown",
   "source": "",
   "id": "25f6373f79c2d68b"
  },
  {
   "metadata": {
    "ExecuteTime": {
     "end_time": "2025-03-13T13:57:46.406715Z",
     "start_time": "2025-03-13T13:57:46.391067Z"
    }
   },
   "cell_type": "code",
   "source": [
    "modelo = tf.keras.models.Sequential([\n",
    "\n",
    "    tf.keras.layers.Dense(32, activation=tf.nn.relu),\n",
    "    tf.keras.layers.Dense(32, activation=tf.nn.relu),\n",
    "    tf.keras.layers.Dense(32, activation=tf.nn.relu),\n",
    "    tf.keras.layers.Dense(1, activation=tf.nn.sigmoid) # 0 ou 1\n",
    "\n",
    "])"
   ],
   "id": "53b929ae86f24ea7",
   "outputs": [],
   "execution_count": 188
  },
  {
   "metadata": {
    "ExecuteTime": {
     "end_time": "2025-03-13T13:57:46.524474Z",
     "start_time": "2025-03-13T13:57:46.507675Z"
    }
   },
   "cell_type": "code",
   "source": [
    "modelo.compile(optimizer= tf.keras.optimizers.Adam(learning_rate=0.001),\n",
    "               loss= tf.losses.BinaryCrossentropy(),\n",
    "               metrics=[\"accuracy\"])"
   ],
   "id": "9c55eee9d4ad0dfa",
   "outputs": [],
   "execution_count": 189
  },
  {
   "metadata": {
    "ExecuteTime": {
     "end_time": "2025-03-13T13:57:46.990835Z",
     "start_time": "2025-03-13T13:57:46.581034Z"
    }
   },
   "cell_type": "code",
   "source": "modelo.evaluate(x_test, y_test)",
   "id": "9e46982468786cee",
   "outputs": [
    {
     "name": "stdout",
     "output_type": "stream",
     "text": [
      "5/5 [==============================] - 0s 3ms/step - loss: 6.7108 - accuracy: 0.3506\n"
     ]
    },
    {
     "data": {
      "text/plain": [
       "[6.710840225219727, 0.350649356842041]"
      ]
     },
     "execution_count": 190,
     "metadata": {},
     "output_type": "execute_result"
    }
   ],
   "execution_count": 190
  },
  {
   "metadata": {
    "ExecuteTime": {
     "end_time": "2025-03-13T13:57:50.386896Z",
     "start_time": "2025-03-13T13:57:47.029358Z"
    }
   },
   "cell_type": "code",
   "source": "modelo.fit(x_train, y_train, epochs=20, batch_size=16, validation_data=(x_val, y_val))",
   "id": "cd471d5e9919a29d",
   "outputs": [
    {
     "name": "stdout",
     "output_type": "stream",
     "text": [
      "Epoch 1/20\n",
      "29/29 [==============================] - 1s 6ms/step - loss: 2.3285 - accuracy: 0.5500 - val_loss: 0.9185 - val_accuracy: 0.4740\n",
      "Epoch 2/20\n",
      "29/29 [==============================] - 0s 4ms/step - loss: 0.7579 - accuracy: 0.6000 - val_loss: 0.6481 - val_accuracy: 0.6558\n",
      "Epoch 3/20\n",
      "29/29 [==============================] - 0s 4ms/step - loss: 0.6831 - accuracy: 0.6348 - val_loss: 0.6465 - val_accuracy: 0.7208\n",
      "Epoch 4/20\n",
      "29/29 [==============================] - 0s 4ms/step - loss: 0.6482 - accuracy: 0.6196 - val_loss: 0.5940 - val_accuracy: 0.7143\n",
      "Epoch 5/20\n",
      "29/29 [==============================] - 0s 4ms/step - loss: 0.6189 - accuracy: 0.6761 - val_loss: 0.6140 - val_accuracy: 0.6948\n",
      "Epoch 6/20\n",
      "29/29 [==============================] - 0s 4ms/step - loss: 0.6128 - accuracy: 0.6826 - val_loss: 0.5742 - val_accuracy: 0.6883\n",
      "Epoch 7/20\n",
      "29/29 [==============================] - 0s 4ms/step - loss: 0.6448 - accuracy: 0.6413 - val_loss: 0.6125 - val_accuracy: 0.7208\n",
      "Epoch 8/20\n",
      "29/29 [==============================] - 0s 4ms/step - loss: 0.6424 - accuracy: 0.6804 - val_loss: 0.7509 - val_accuracy: 0.6299\n",
      "Epoch 9/20\n",
      "29/29 [==============================] - 0s 3ms/step - loss: 0.6293 - accuracy: 0.6696 - val_loss: 0.5958 - val_accuracy: 0.6558\n",
      "Epoch 10/20\n",
      "29/29 [==============================] - 0s 4ms/step - loss: 0.6154 - accuracy: 0.6913 - val_loss: 0.5815 - val_accuracy: 0.7078\n",
      "Epoch 11/20\n",
      "29/29 [==============================] - 0s 4ms/step - loss: 0.5734 - accuracy: 0.6848 - val_loss: 0.6022 - val_accuracy: 0.7208\n",
      "Epoch 12/20\n",
      "29/29 [==============================] - 0s 3ms/step - loss: 0.6460 - accuracy: 0.6652 - val_loss: 0.6257 - val_accuracy: 0.7273\n",
      "Epoch 13/20\n",
      "29/29 [==============================] - 0s 4ms/step - loss: 0.5963 - accuracy: 0.6587 - val_loss: 0.6203 - val_accuracy: 0.6364\n",
      "Epoch 14/20\n",
      "29/29 [==============================] - 0s 3ms/step - loss: 0.5784 - accuracy: 0.6870 - val_loss: 0.5699 - val_accuracy: 0.7273\n",
      "Epoch 15/20\n",
      "29/29 [==============================] - 0s 3ms/step - loss: 0.6076 - accuracy: 0.6609 - val_loss: 0.7749 - val_accuracy: 0.5519\n",
      "Epoch 16/20\n",
      "29/29 [==============================] - 0s 3ms/step - loss: 0.5965 - accuracy: 0.6913 - val_loss: 0.5930 - val_accuracy: 0.7143\n",
      "Epoch 17/20\n",
      "29/29 [==============================] - 0s 4ms/step - loss: 0.5395 - accuracy: 0.7196 - val_loss: 0.6613 - val_accuracy: 0.6753\n",
      "Epoch 18/20\n",
      "29/29 [==============================] - 0s 4ms/step - loss: 0.5741 - accuracy: 0.7043 - val_loss: 0.6324 - val_accuracy: 0.6558\n",
      "Epoch 19/20\n",
      "29/29 [==============================] - 0s 3ms/step - loss: 0.5845 - accuracy: 0.7043 - val_loss: 0.5665 - val_accuracy: 0.6883\n",
      "Epoch 20/20\n",
      "29/29 [==============================] - 0s 3ms/step - loss: 0.5334 - accuracy: 0.7130 - val_loss: 0.6084 - val_accuracy: 0.6753\n"
     ]
    },
    {
     "data": {
      "text/plain": [
       "<keras.src.callbacks.History at 0x17f66fe20>"
      ]
     },
     "execution_count": 191,
     "metadata": {},
     "output_type": "execute_result"
    }
   ],
   "execution_count": 191
  },
  {
   "metadata": {
    "ExecuteTime": {
     "end_time": "2025-03-13T13:57:50.522569Z",
     "start_time": "2025-03-13T13:57:50.423892Z"
    }
   },
   "cell_type": "code",
   "source": "modelo.evaluate(x_test, y_test)",
   "id": "a4e57ab26251f973",
   "outputs": [
    {
     "name": "stdout",
     "output_type": "stream",
     "text": [
      "5/5 [==============================] - 0s 2ms/step - loss: 0.6194 - accuracy: 0.7208\n"
     ]
    },
    {
     "data": {
      "text/plain": [
       "[0.6194115281105042, 0.7207792401313782]"
      ]
     },
     "execution_count": 192,
     "metadata": {},
     "output_type": "execute_result"
    }
   ],
   "execution_count": 192
  },
  {
   "metadata": {},
   "cell_type": "markdown",
   "source": [
    "5/5 [==============================] - 0s 3ms/step - loss: 2.8758 - accuracy: 0.3506 - 35%\n",
    "5/5 [==============================] - 0s 2ms/step - loss: 0.6624 - accuracy: 0.6948 - 39%"
   ],
   "id": "12b2048a23f4c3ed"
  },
  {
   "metadata": {
    "ExecuteTime": {
     "end_time": "2025-03-13T13:57:50.560619Z",
     "start_time": "2025-03-13T13:57:50.554133Z"
    }
   },
   "cell_type": "code",
   "source": "from sklearn.preprocessing import StandardScaler",
   "id": "a9497a9572d38880",
   "outputs": [],
   "execution_count": 193
  },
  {
   "metadata": {
    "ExecuteTime": {
     "end_time": "2025-03-13T13:57:50.647812Z",
     "start_time": "2025-03-13T13:57:50.623297Z"
    }
   },
   "cell_type": "code",
   "source": [
    "x = df[df.columns[:-1]]\n",
    "y = df[df.columns[-1]]\n",
    "x"
   ],
   "id": "563e868ec77e408a",
   "outputs": [
    {
     "data": {
      "text/plain": [
       "     Pregnancies  Glucose  BloodPressure  SkinThickness  Insulin   BMI  \\\n",
       "0              6      148             72             35        0  33.6   \n",
       "1              1       85             66             29        0  26.6   \n",
       "2              8      183             64              0        0  23.3   \n",
       "3              1       89             66             23       94  28.1   \n",
       "4              0      137             40             35      168  43.1   \n",
       "..           ...      ...            ...            ...      ...   ...   \n",
       "763           10      101             76             48      180  32.9   \n",
       "764            2      122             70             27        0  36.8   \n",
       "765            5      121             72             23      112  26.2   \n",
       "766            1      126             60              0        0  30.1   \n",
       "767            1       93             70             31        0  30.4   \n",
       "\n",
       "     DiabetesPedigreeFunction  Age  \n",
       "0                       0.627   50  \n",
       "1                       0.351   31  \n",
       "2                       0.672   32  \n",
       "3                       0.167   21  \n",
       "4                       2.288   33  \n",
       "..                        ...  ...  \n",
       "763                     0.171   63  \n",
       "764                     0.340   27  \n",
       "765                     0.245   30  \n",
       "766                     0.349   47  \n",
       "767                     0.315   23  \n",
       "\n",
       "[768 rows x 8 columns]"
      ],
      "text/html": [
       "<div>\n",
       "<style scoped>\n",
       "    .dataframe tbody tr th:only-of-type {\n",
       "        vertical-align: middle;\n",
       "    }\n",
       "\n",
       "    .dataframe tbody tr th {\n",
       "        vertical-align: top;\n",
       "    }\n",
       "\n",
       "    .dataframe thead th {\n",
       "        text-align: right;\n",
       "    }\n",
       "</style>\n",
       "<table border=\"1\" class=\"dataframe\">\n",
       "  <thead>\n",
       "    <tr style=\"text-align: right;\">\n",
       "      <th></th>\n",
       "      <th>Pregnancies</th>\n",
       "      <th>Glucose</th>\n",
       "      <th>BloodPressure</th>\n",
       "      <th>SkinThickness</th>\n",
       "      <th>Insulin</th>\n",
       "      <th>BMI</th>\n",
       "      <th>DiabetesPedigreeFunction</th>\n",
       "      <th>Age</th>\n",
       "    </tr>\n",
       "  </thead>\n",
       "  <tbody>\n",
       "    <tr>\n",
       "      <th>0</th>\n",
       "      <td>6</td>\n",
       "      <td>148</td>\n",
       "      <td>72</td>\n",
       "      <td>35</td>\n",
       "      <td>0</td>\n",
       "      <td>33.6</td>\n",
       "      <td>0.627</td>\n",
       "      <td>50</td>\n",
       "    </tr>\n",
       "    <tr>\n",
       "      <th>1</th>\n",
       "      <td>1</td>\n",
       "      <td>85</td>\n",
       "      <td>66</td>\n",
       "      <td>29</td>\n",
       "      <td>0</td>\n",
       "      <td>26.6</td>\n",
       "      <td>0.351</td>\n",
       "      <td>31</td>\n",
       "    </tr>\n",
       "    <tr>\n",
       "      <th>2</th>\n",
       "      <td>8</td>\n",
       "      <td>183</td>\n",
       "      <td>64</td>\n",
       "      <td>0</td>\n",
       "      <td>0</td>\n",
       "      <td>23.3</td>\n",
       "      <td>0.672</td>\n",
       "      <td>32</td>\n",
       "    </tr>\n",
       "    <tr>\n",
       "      <th>3</th>\n",
       "      <td>1</td>\n",
       "      <td>89</td>\n",
       "      <td>66</td>\n",
       "      <td>23</td>\n",
       "      <td>94</td>\n",
       "      <td>28.1</td>\n",
       "      <td>0.167</td>\n",
       "      <td>21</td>\n",
       "    </tr>\n",
       "    <tr>\n",
       "      <th>4</th>\n",
       "      <td>0</td>\n",
       "      <td>137</td>\n",
       "      <td>40</td>\n",
       "      <td>35</td>\n",
       "      <td>168</td>\n",
       "      <td>43.1</td>\n",
       "      <td>2.288</td>\n",
       "      <td>33</td>\n",
       "    </tr>\n",
       "    <tr>\n",
       "      <th>...</th>\n",
       "      <td>...</td>\n",
       "      <td>...</td>\n",
       "      <td>...</td>\n",
       "      <td>...</td>\n",
       "      <td>...</td>\n",
       "      <td>...</td>\n",
       "      <td>...</td>\n",
       "      <td>...</td>\n",
       "    </tr>\n",
       "    <tr>\n",
       "      <th>763</th>\n",
       "      <td>10</td>\n",
       "      <td>101</td>\n",
       "      <td>76</td>\n",
       "      <td>48</td>\n",
       "      <td>180</td>\n",
       "      <td>32.9</td>\n",
       "      <td>0.171</td>\n",
       "      <td>63</td>\n",
       "    </tr>\n",
       "    <tr>\n",
       "      <th>764</th>\n",
       "      <td>2</td>\n",
       "      <td>122</td>\n",
       "      <td>70</td>\n",
       "      <td>27</td>\n",
       "      <td>0</td>\n",
       "      <td>36.8</td>\n",
       "      <td>0.340</td>\n",
       "      <td>27</td>\n",
       "    </tr>\n",
       "    <tr>\n",
       "      <th>765</th>\n",
       "      <td>5</td>\n",
       "      <td>121</td>\n",
       "      <td>72</td>\n",
       "      <td>23</td>\n",
       "      <td>112</td>\n",
       "      <td>26.2</td>\n",
       "      <td>0.245</td>\n",
       "      <td>30</td>\n",
       "    </tr>\n",
       "    <tr>\n",
       "      <th>766</th>\n",
       "      <td>1</td>\n",
       "      <td>126</td>\n",
       "      <td>60</td>\n",
       "      <td>0</td>\n",
       "      <td>0</td>\n",
       "      <td>30.1</td>\n",
       "      <td>0.349</td>\n",
       "      <td>47</td>\n",
       "    </tr>\n",
       "    <tr>\n",
       "      <th>767</th>\n",
       "      <td>1</td>\n",
       "      <td>93</td>\n",
       "      <td>70</td>\n",
       "      <td>31</td>\n",
       "      <td>0</td>\n",
       "      <td>30.4</td>\n",
       "      <td>0.315</td>\n",
       "      <td>23</td>\n",
       "    </tr>\n",
       "  </tbody>\n",
       "</table>\n",
       "<p>768 rows × 8 columns</p>\n",
       "</div>"
      ]
     },
     "execution_count": 194,
     "metadata": {},
     "output_type": "execute_result"
    }
   ],
   "execution_count": 194
  },
  {
   "metadata": {
    "ExecuteTime": {
     "end_time": "2025-03-13T13:57:50.773098Z",
     "start_time": "2025-03-13T13:57:50.759306Z"
    }
   },
   "cell_type": "code",
   "source": [
    "scaler = StandardScaler(with_mean=True, with_std=True)\n",
    "x  = scaler.fit_transform(x)\n",
    "x"
   ],
   "id": "8240c221925a9edd",
   "outputs": [
    {
     "data": {
      "text/plain": [
       "array([[ 0.63994726,  0.84832379,  0.14964075, ...,  0.20401277,\n",
       "         0.46849198,  1.4259954 ],\n",
       "       [-0.84488505, -1.12339636, -0.16054575, ..., -0.68442195,\n",
       "        -0.36506078, -0.19067191],\n",
       "       [ 1.23388019,  1.94372388, -0.26394125, ..., -1.10325546,\n",
       "         0.60439732, -0.10558415],\n",
       "       ...,\n",
       "       [ 0.3429808 ,  0.00330087,  0.14964075, ..., -0.73518964,\n",
       "        -0.68519336, -0.27575966],\n",
       "       [-0.84488505,  0.1597866 , -0.47073225, ..., -0.24020459,\n",
       "        -0.37110101,  1.17073215],\n",
       "       [-0.84488505, -0.8730192 ,  0.04624525, ..., -0.20212881,\n",
       "        -0.47378505, -0.87137393]])"
      ]
     },
     "execution_count": 195,
     "metadata": {},
     "output_type": "execute_result"
    }
   ],
   "execution_count": 195
  },
  {
   "metadata": {
    "ExecuteTime": {
     "end_time": "2025-03-13T13:57:50.853954Z",
     "start_time": "2025-03-13T13:57:50.843284Z"
    }
   },
   "cell_type": "code",
   "source": [
    "x_train, x_temp, y_train, y_temp = train_test_split(x, y, test_size=0.4, random_state=0)\n",
    "x_test, x_val, y_test, y_val = train_test_split(x_temp, y_temp, test_size=0.5, random_state=0)"
   ],
   "id": "b4b57fc9cf0f84cd",
   "outputs": [],
   "execution_count": 196
  },
  {
   "metadata": {
    "ExecuteTime": {
     "end_time": "2025-03-13T13:57:50.951883Z",
     "start_time": "2025-03-13T13:57:50.935643Z"
    }
   },
   "cell_type": "code",
   "source": [
    "modelo = tf.keras.models.Sequential([\n",
    "\n",
    "    tf.keras.layers.Dense(16, activation=tf.nn.relu),\n",
    "    tf.keras.layers.Dense(16, activation=tf.nn.relu),\n",
    "    tf.keras.layers.Dense(1, activation=tf.nn.sigmoid) # 0 ou 1\n",
    "\n",
    "])"
   ],
   "id": "68f81c291332fc94",
   "outputs": [],
   "execution_count": 197
  },
  {
   "metadata": {
    "ExecuteTime": {
     "end_time": "2025-03-13T13:57:51.219295Z",
     "start_time": "2025-03-13T13:57:51.201647Z"
    }
   },
   "cell_type": "code",
   "source": [
    "modelo.compile(optimizer= tf.keras.optimizers.Adam(learning_rate=0.001),\n",
    "               loss= tf.losses.BinaryCrossentropy(),\n",
    "               metrics=[\"accuracy\"])"
   ],
   "id": "61837dabc705434",
   "outputs": [],
   "execution_count": 198
  },
  {
   "metadata": {
    "ExecuteTime": {
     "end_time": "2025-03-13T13:57:51.687479Z",
     "start_time": "2025-03-13T13:57:51.288911Z"
    }
   },
   "cell_type": "code",
   "source": "modelo.evaluate(x_val, y_val)",
   "id": "c8bf8ef53472f845",
   "outputs": [
    {
     "name": "stdout",
     "output_type": "stream",
     "text": [
      "5/5 [==============================] - 0s 2ms/step - loss: 0.7190 - accuracy: 0.5325\n"
     ]
    },
    {
     "data": {
      "text/plain": [
       "[0.7189827561378479, 0.5324675440788269]"
      ]
     },
     "execution_count": 199,
     "metadata": {},
     "output_type": "execute_result"
    }
   ],
   "execution_count": 199
  },
  {
   "metadata": {
    "ExecuteTime": {
     "end_time": "2025-03-13T13:57:54.789219Z",
     "start_time": "2025-03-13T13:57:51.718975Z"
    }
   },
   "cell_type": "code",
   "source": "modelo.fit(x_train, y_train, epochs=20, batch_size=16, validation_data=(x_val, y_val))",
   "id": "4ec6264a53fa18d4",
   "outputs": [
    {
     "name": "stdout",
     "output_type": "stream",
     "text": [
      "Epoch 1/20\n",
      "29/29 [==============================] - 1s 5ms/step - loss: 0.6728 - accuracy: 0.5500 - val_loss: 0.6581 - val_accuracy: 0.7208\n",
      "Epoch 2/20\n",
      "29/29 [==============================] - 0s 3ms/step - loss: 0.6270 - accuracy: 0.6674 - val_loss: 0.6205 - val_accuracy: 0.7468\n",
      "Epoch 3/20\n",
      "29/29 [==============================] - 0s 3ms/step - loss: 0.5972 - accuracy: 0.7000 - val_loss: 0.5912 - val_accuracy: 0.7532\n",
      "Epoch 4/20\n",
      "29/29 [==============================] - 0s 4ms/step - loss: 0.5696 - accuracy: 0.7391 - val_loss: 0.5665 - val_accuracy: 0.7792\n",
      "Epoch 5/20\n",
      "29/29 [==============================] - 0s 3ms/step - loss: 0.5457 - accuracy: 0.7435 - val_loss: 0.5439 - val_accuracy: 0.7857\n",
      "Epoch 6/20\n",
      "29/29 [==============================] - 0s 3ms/step - loss: 0.5254 - accuracy: 0.7478 - val_loss: 0.5226 - val_accuracy: 0.7857\n",
      "Epoch 7/20\n",
      "29/29 [==============================] - 0s 4ms/step - loss: 0.5080 - accuracy: 0.7587 - val_loss: 0.5061 - val_accuracy: 0.7792\n",
      "Epoch 8/20\n",
      "29/29 [==============================] - 0s 4ms/step - loss: 0.4949 - accuracy: 0.7674 - val_loss: 0.4907 - val_accuracy: 0.7857\n",
      "Epoch 9/20\n",
      "29/29 [==============================] - 0s 4ms/step - loss: 0.4837 - accuracy: 0.7696 - val_loss: 0.4811 - val_accuracy: 0.7922\n",
      "Epoch 10/20\n",
      "29/29 [==============================] - 0s 4ms/step - loss: 0.4754 - accuracy: 0.7674 - val_loss: 0.4743 - val_accuracy: 0.7857\n",
      "Epoch 11/20\n",
      "29/29 [==============================] - 0s 3ms/step - loss: 0.4687 - accuracy: 0.7717 - val_loss: 0.4664 - val_accuracy: 0.7922\n",
      "Epoch 12/20\n",
      "29/29 [==============================] - 0s 4ms/step - loss: 0.4631 - accuracy: 0.7783 - val_loss: 0.4624 - val_accuracy: 0.7922\n",
      "Epoch 13/20\n",
      "29/29 [==============================] - 0s 3ms/step - loss: 0.4589 - accuracy: 0.7848 - val_loss: 0.4574 - val_accuracy: 0.7922\n",
      "Epoch 14/20\n",
      "29/29 [==============================] - 0s 3ms/step - loss: 0.4559 - accuracy: 0.7848 - val_loss: 0.4579 - val_accuracy: 0.7987\n",
      "Epoch 15/20\n",
      "29/29 [==============================] - 0s 4ms/step - loss: 0.4518 - accuracy: 0.7891 - val_loss: 0.4531 - val_accuracy: 0.7987\n",
      "Epoch 16/20\n",
      "29/29 [==============================] - 0s 3ms/step - loss: 0.4487 - accuracy: 0.7848 - val_loss: 0.4524 - val_accuracy: 0.8052\n",
      "Epoch 17/20\n",
      "29/29 [==============================] - 0s 3ms/step - loss: 0.4465 - accuracy: 0.7870 - val_loss: 0.4501 - val_accuracy: 0.7987\n",
      "Epoch 18/20\n",
      "29/29 [==============================] - 0s 3ms/step - loss: 0.4433 - accuracy: 0.7891 - val_loss: 0.4474 - val_accuracy: 0.8117\n",
      "Epoch 19/20\n",
      "29/29 [==============================] - 0s 4ms/step - loss: 0.4410 - accuracy: 0.7935 - val_loss: 0.4494 - val_accuracy: 0.7922\n",
      "Epoch 20/20\n",
      "29/29 [==============================] - 0s 4ms/step - loss: 0.4393 - accuracy: 0.7870 - val_loss: 0.4478 - val_accuracy: 0.8182\n"
     ]
    },
    {
     "data": {
      "text/plain": [
       "<keras.src.callbacks.History at 0x17f85ef40>"
      ]
     },
     "execution_count": 200,
     "metadata": {},
     "output_type": "execute_result"
    }
   ],
   "execution_count": 200
  },
  {
   "metadata": {
    "ExecuteTime": {
     "end_time": "2025-03-13T13:57:55.035669Z",
     "start_time": "2025-03-13T13:57:54.941792Z"
    }
   },
   "cell_type": "code",
   "source": "modelo.evaluate(x_val, y_val)",
   "id": "bc76661639271a7b",
   "outputs": [
    {
     "name": "stdout",
     "output_type": "stream",
     "text": [
      "5/5 [==============================] - 0s 2ms/step - loss: 0.4478 - accuracy: 0.8182\n"
     ]
    },
    {
     "data": {
      "text/plain": [
       "[0.4477730393409729, 0.8181818127632141]"
      ]
     },
     "execution_count": 201,
     "metadata": {},
     "output_type": "execute_result"
    }
   ],
   "execution_count": 201
  },
  {
   "metadata": {
    "ExecuteTime": {
     "end_time": "2025-03-13T13:57:55.397121Z",
     "start_time": "2025-03-13T13:57:55.389758Z"
    }
   },
   "cell_type": "code",
   "source": "x_test[21]",
   "id": "31eb1ed0dc3178da",
   "outputs": [
    {
     "data": {
      "text/plain": [
       "array([-0.25095213,  1.16129525,  0.35643175,  0.96999799,  1.43441893,\n",
       "       -0.04982572,  1.14499856, -0.44593516])"
      ]
     },
     "execution_count": 202,
     "metadata": {},
     "output_type": "execute_result"
    }
   ],
   "execution_count": 202
  },
  {
   "metadata": {
    "ExecuteTime": {
     "end_time": "2025-03-13T13:57:55.570633Z",
     "start_time": "2025-03-13T13:57:55.566288Z"
    }
   },
   "cell_type": "code",
   "source": "",
   "id": "f11d28c6c9aa384d",
   "outputs": [],
   "execution_count": null
  },
  {
   "metadata": {
    "ExecuteTime": {
     "end_time": "2025-03-13T13:57:55.628280Z",
     "start_time": "2025-03-13T13:57:55.624637Z"
    }
   },
   "cell_type": "code",
   "source": "",
   "id": "54c085b3c632c2ce",
   "outputs": [],
   "execution_count": null
  }
 ],
 "metadata": {
  "kernelspec": {
   "display_name": "Python 3",
   "language": "python",
   "name": "python3"
  },
  "language_info": {
   "codemirror_mode": {
    "name": "ipython",
    "version": 2
   },
   "file_extension": ".py",
   "mimetype": "text/x-python",
   "name": "python",
   "nbconvert_exporter": "python",
   "pygments_lexer": "ipython2",
   "version": "2.7.6"
  }
 },
 "nbformat": 4,
 "nbformat_minor": 5
}
