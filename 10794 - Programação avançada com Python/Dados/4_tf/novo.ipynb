{
 "cells": [
  {
   "cell_type": "code",
   "id": "initial_id",
   "metadata": {
    "collapsed": true,
    "ExecuteTime": {
     "end_time": "2025-03-13T15:03:25.252226Z",
     "start_time": "2025-03-13T15:03:25.240787Z"
    }
   },
   "source": [
    "import numpy as np\n",
    "import matplotlib.pyplot as plt\n",
    "import pandas as pd\n",
    "import tensorflow as tf\n",
    "import tensorflow_hub as hub\n",
    "import joblib as jb"
   ],
   "outputs": [],
   "execution_count": 5
  },
  {
   "metadata": {},
   "cell_type": "markdown",
   "source": "# Load Scaler e modelo",
   "id": "4eaa1ede918d5dcd"
  },
  {
   "metadata": {
    "ExecuteTime": {
     "end_time": "2025-03-13T15:04:31.017420Z",
     "start_time": "2025-03-13T15:04:30.898571Z"
    }
   },
   "cell_type": "code",
   "source": [
    "modelo = tf.keras.models.load_model('diabetes.keras')\n",
    "scaler = jb.load(\"scaler.pkl\")"
   ],
   "id": "f446a98c6e92eacc",
   "outputs": [],
   "execution_count": 9
  },
  {
   "metadata": {
    "ExecuteTime": {
     "end_time": "2025-03-13T15:04:32.362579Z",
     "start_time": "2025-03-13T15:04:32.214052Z"
    }
   },
   "cell_type": "code",
   "source": [
    "inp2 = [6, 148, 72, 35, 0, 33.6, 0.627, 50]\n",
    "inp = [0,105,64,41,142,41.5,0.173,22]\n",
    "\n",
    "inp = np.array(inp)\n",
    "\n",
    "inp.shape\n",
    "inp\n",
    "inp = inp.reshape(1, -1)\n",
    "inp.shape\n",
    "data = scaler.transform(inp)\n",
    "\n",
    "p = modelo.predict(data)  # df, ndarray\n",
    "\n",
    "p"
   ],
   "id": "44681432d54b3f3e",
   "outputs": [
    {
     "name": "stdout",
     "output_type": "stream",
     "text": [
      "1/1 [==============================] - 0s 76ms/step\n"
     ]
    },
    {
     "data": {
      "text/plain": [
       "array([[1.]], dtype=float32)"
      ]
     },
     "execution_count": 10,
     "metadata": {},
     "output_type": "execute_result"
    }
   ],
   "execution_count": 10
  }
 ],
 "metadata": {
  "kernelspec": {
   "display_name": "Python 3",
   "language": "python",
   "name": "python3"
  },
  "language_info": {
   "codemirror_mode": {
    "name": "ipython",
    "version": 2
   },
   "file_extension": ".py",
   "mimetype": "text/x-python",
   "name": "python",
   "nbconvert_exporter": "python",
   "pygments_lexer": "ipython2",
   "version": "2.7.6"
  }
 },
 "nbformat": 4,
 "nbformat_minor": 5
}
